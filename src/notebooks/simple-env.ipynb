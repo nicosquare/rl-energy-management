{
 "cells": [
  {
   "cell_type": "code",
   "execution_count": null,
   "metadata": {},
   "outputs": [],
   "source": [
    "import random\n",
    "import numpy as np\n",
    "import pandas as pd  \n",
    "import matplotlib.pyplot as plt\n",
    "import seaborn as sns\n",
    "import torch\n",
    "import torch.nn as nn\n",
    "import torch.optim as optim\n",
    "import torch.nn.functional as F\n",
    "from torch.distributions import Categorical\n",
    "\n",
    "# from numpy.random import Generator, MT19937\n",
    "# random = Generator(MT19937(0))"
   ]
  },
  {
   "cell_type": "code",
   "execution_count": null,
   "metadata": {},
   "outputs": [],
   "source": [
    "def set_rand_seed(seed = 0):\n",
    "    torch.manual_seed(seed)\n",
    "    torch.cuda.manual_seed(seed)\n",
    "    torch.backends.cudnn.deterministic = True\n",
    "    np.random.seed(seed)"
   ]
  },
  {
   "cell_type": "code",
   "execution_count": null,
   "metadata": {},
   "outputs": [],
   "source": [
    "def normalize_2d(matrix):\n",
    "    norm = np.linalg.norm(matrix)\n",
    "    matrix = matrix/norm  # normalized matrix\n",
    "    return matrix"
   ]
  },
  {
   "cell_type": "markdown",
   "metadata": {},
   "source": [
    "# Create Simple DataSet"
   ]
  },
  {
   "cell_type": "markdown",
   "metadata": {},
   "source": [
    "## Generation PV"
   ]
  },
  {
   "cell_type": "code",
   "execution_count": null,
   "metadata": {},
   "outputs": [],
   "source": [
    "def get_generation_PV():\n",
    "    # Generation\n",
    "    x = np.linspace(0, 23, 24)\n",
    "\n",
    "    # Create generation curve with randomness\n",
    "    y_perf = np.sin((x/4) + 5)\n",
    "    set_rand_seed(0)\n",
    "    y_gen = y_perf + np.random.normal(0, 0.1, 24)\n",
    "    # Clip to 0\n",
    "    y_perf = y_perf.clip(0)\n",
    "    y_gen = y_gen.clip(0)\n",
    "    # Adjust\n",
    "    y_gen = y_gen * 1500\n",
    "    y_perf = y_perf *1500\n",
    "\n",
    "    return y_gen, y_perf, x"
   ]
  },
  {
   "cell_type": "code",
   "execution_count": null,
   "metadata": {},
   "outputs": [],
   "source": [
    "# Generation\n",
    "y_gen, y_perf, x, = get_generation_PV()\n",
    "\n",
    "# Plotting\n",
    "plt.plot(x, y_gen)\n",
    "plt.plot(x, y_perf, 'tab:green')\n",
    "# Small Grid\n",
    "plt.minorticks_on()\n",
    "plt.grid(True, which='both', axis='x', alpha=0.5)"
   ]
  },
  {
   "cell_type": "markdown",
   "metadata": {},
   "source": [
    "## Demand "
   ]
  },
  {
   "cell_type": "markdown",
   "metadata": {},
   "source": [
    "### Demand 1 - Family"
   ]
  },
  {
   "cell_type": "code",
   "execution_count": null,
   "metadata": {},
   "outputs": [],
   "source": [
    "def get_demand_h1(temp):\n",
    "    set_rand_seed(0)\n",
    "    y_base = np.array([60 for i in range(24)])\n",
    "    usage = np.array([0,0,0,0,0,300,1000,1200,300,0,0,0,0,0,0,400,500,500,800,1000,800,300,100,0])\n",
    "    y_demand_1 = y_base + usage +((np.abs(temp - 22)) * 50 ) + np.random.normal(0, 60, 24)\n",
    "    return y_demand_1, usage"
   ]
  },
  {
   "cell_type": "code",
   "execution_count": null,
   "metadata": {},
   "outputs": [],
   "source": [
    "# Consider temperature\n",
    "x = np.linspace(0, 23, 24)\n",
    "\n",
    "# Add Noise and temperature offset\n",
    "temp = np.array([31,30,30,29,29,28,27,26,28,29,31,33,34,36,37,36,35,33,32,31,30,30,29,29])\n",
    "y_demand_1, usage = get_demand_h1(temp)\n",
    "\n",
    "# Plotting\n",
    "plt.plot(x, y_demand_1)\n",
    "plt.plot(x, usage)\n",
    "# Small Grid\n",
    "plt.minorticks_on()\n",
    "plt.grid(True, which='both', axis='x', alpha=0.5)"
   ]
  },
  {
   "cell_type": "markdown",
   "metadata": {},
   "source": [
    "### Demand 2 - Teenagers"
   ]
  },
  {
   "cell_type": "code",
   "execution_count": null,
   "metadata": {},
   "outputs": [],
   "source": [
    "# Consider temperature\n",
    "x = np.linspace(0, 23, 24)\n",
    "\n",
    "y_base = np.array([300 for i in range(24)])\n",
    "usage = np.array([1200,1200,1200,1000,500,0,0,0,0,0,0,0,0,300,500,500,500,500,500,1000,1200,1200,1200,1200])\n",
    "set_rand_seed(0)\n",
    "\n",
    "# Add Noise and temperature offset\n",
    "temp = np.array([31,30,30,29,29,28,27,26,28,29,31,33,34,36,37,36,35,33,32,31,30,30,29,29])\n",
    "y_demand_2 = y_base + usage +((temp - 22) * 50 ) + np.random.normal(0, 60, 24)\n",
    "\n",
    "# Plotting\n",
    "plt.plot(x, y_demand_2)\n",
    "plt.plot(x, usage)\n",
    "# Small Grid\n",
    "plt.minorticks_on()\n",
    "plt.grid(True, which='both', axis='x', alpha=0.5)"
   ]
  },
  {
   "cell_type": "markdown",
   "metadata": {},
   "source": [
    "### Demand 3 - House Business"
   ]
  },
  {
   "cell_type": "code",
   "execution_count": null,
   "metadata": {},
   "outputs": [],
   "source": [
    "# Consider temperature\n",
    "x = np.linspace(0, 23, 24)\n",
    "\n",
    "y_base = np.array([300 for i in range(24)])\n",
    "usage = np.array([0,0,0,0,0,300,1000,1200,300,0,0,0,0,0,0,400,500,500,800,1000,800,300,100,0])\n",
    "set_rand_seed(0)\n",
    "\n",
    "# Add Noise and temperature offset\n",
    "temp = np.array([31,30,30,29,29,28,27,26,28,29,31,33,34,36,37,36,35,33,32,31,30,30,29,29])\n",
    "y_demand_3 = y_base + usage +((temp - 22) * 50 ) + np.random.normal(0, 60, 24)\n",
    "\n",
    "# Plotting\n",
    "plt.plot(x, y_demand_3)\n",
    "plt.plot(x, usage)\n",
    "# Small Grid\n",
    "plt.minorticks_on()\n",
    "plt.grid(True, which='both', axis='x', alpha=0.5)"
   ]
  },
  {
   "cell_type": "markdown",
   "metadata": {},
   "source": [
    "## Grid Electricity Price and C02"
   ]
  },
  {
   "cell_type": "code",
   "execution_count": null,
   "metadata": {},
   "outputs": [],
   "source": [
    "def get_grid_prices_day():\n",
    "    # The grid has only 1 nuclear and 1 gas stations\n",
    "    # Nuclear Power is a baseline and always generates the same amount of energy\n",
    "    y_nuclear = np.array([1000 for i in range(24)])\n",
    "    # Gas Power is variable and has a higher cost in terms of co2 and price\n",
    "    y_gas = np.array([0,0,0,0,0,0,300,600,1000,600,300,300,300,300,600,1000,600,300,0,0,0,0,0,0])\n",
    "\n",
    "    y_elec = y_nuclear + y_gas\n",
    "    y_elec_price = y_nuclear * 0.10 + y_gas * 0.30\n",
    "    y_elec_carbon = y_nuclear * 0.01 + y_gas * 0.2\n",
    "    return y_elec, y_elec_price, y_elec_carbon, y_nuclear, y_gas"
   ]
  },
  {
   "cell_type": "code",
   "execution_count": null,
   "metadata": {},
   "outputs": [],
   "source": [
    "x = np.linspace(0, 23, 24)\n",
    "\n",
    "y_elec, y_elec_price, y_elec_carbon, y_nuclear, y_gas = get_grid_prices_day()\n",
    "\n",
    "# Plotting\n",
    "plt.plot(x, y_elec)\n",
    "plt.plot(x, y_nuclear,'tab:green' ,linestyle='dashed')\n",
    "plt.plot(x, y_gas,'tab:orange', linestyle='dashed' )\n",
    "# Small Grid\n",
    "plt.minorticks_on()\n",
    "plt.grid(True, which='both', axis='x', alpha=0.5)\n"
   ]
  },
  {
   "cell_type": "markdown",
   "metadata": {},
   "source": [
    "## Total Plots"
   ]
  },
  {
   "cell_type": "code",
   "execution_count": null,
   "metadata": {},
   "outputs": [],
   "source": [
    "\n",
    "fig, ((ax1, ax2), (ax3, ax4), (ax5,ax6),(ax7,ax8)) = plt.subplots(4, 2)\n",
    "fig.set_size_inches(10, 15)\n",
    "\n",
    "# Plotting\n",
    "ax1.set_title('Grid Electricity Production');\n",
    "ax1.plot(x, y_elec, 'tab:blue')\n",
    "ax1.plot(x, y_nuclear, 'tab:green')\n",
    "ax1.plot(x, y_gas, 'tab:orange')\n",
    "# Small Grid\n",
    "ax1.minorticks_on()\n",
    "ax1.grid(True, which='both', axis='x', alpha=0.5)\n",
    "\n",
    "ax2.plot(x, y_elec_price, 'tab:red')\n",
    "ax2.set_title('Grid Electricity Price');\n",
    "\n",
    "ax3.plot(x, y_elec_carbon, 'tab:red')\n",
    "ax3.set_title('Grid Electricity Carbon');\n",
    "\n",
    "# Generation House 1\n",
    "ax4.plot(x, y_gen)\n",
    "ax4.set_title('Prosumer Electricity Generation');\n",
    "\n",
    "# Demand House 1\n",
    "ax5.plot(x, y_demand_1)\n",
    "ax5.set_title('House 1 Electricity Consumption');\n",
    "\n",
    "# Demand House 2\n",
    "ax6.plot(x, y_demand_2)\n",
    "ax6.set_title('House 2 Electricity Consumption');\n",
    "\n",
    "# Demand House 3\n",
    "ax7.plot(x, y_demand_3)\n",
    "ax7.set_title('House 3 Electricity Consumption');"
   ]
  },
  {
   "cell_type": "markdown",
   "metadata": {},
   "source": [
    "# Environment"
   ]
  },
  {
   "cell_type": "code",
   "execution_count": null,
   "metadata": {},
   "outputs": [],
   "source": [
    "TIME = 24 # 24 hours\n",
    "NUM_OBS = 8\n",
    "\n",
    "time = -1\n",
    "state = np.zeros((NUM_OBS, TIME)) \n",
    "state[0] = np.linspace(0, 23, 24) # hours\n",
    "state[1] = np.array([31,30,30,29,29,28,27,26,28,29,31,33,34,36,37,36,35,33,32,31,30,30,29,29]) # temperature\n",
    "state[2] = get_generation_PV()[0] # generation\n",
    "state[3] = get_demand_h1(state[1])[0] # demand, needs temp\n",
    "state[4] = state[3] - state[2] # net \n",
    "state[5] = get_grid_prices_day()[1] # grid energy price selling by Grid\n",
    "state[6] = get_grid_prices_day()[1] * 0.90 # grid energy price buying by Grid\n",
    "\n",
    "state[7] = get_grid_prices_day()[2] # grid energy carbon\n",
    "# State[8] starts in 0 -  SOC battery of house 1\n",
    "state[0,9] # Row 0, time 9\n",
    "state[:,0] # Row 0 complete, entire observation\n",
    "# normalize \n",
    "# for row in state:\n",
    "#     row = (row - row.min()) / (row.max() - row.min())\n",
    "    # print(row)"
   ]
  },
  {
   "cell_type": "code",
   "execution_count": null,
   "metadata": {},
   "outputs": [],
   "source": [
    "TIME = 24 # 24 hours\n",
    "NUM_OBS = 9 \n",
    "BATT_CAP = 3#3000 # 3kWh\n",
    "\n",
    "# No batches\n",
    "class HouseEnergy:\n",
    "  def __init__(self):\n",
    "    self.time = 0\n",
    "    self.state = np.zeros((NUM_OBS, TIME)) \n",
    "    self.state[0] = np.linspace(0, 23, 24) # hours\n",
    "    self.state[1] = np.array([31,30,30,29,29,28,27,26,28,29,31,33,34,36,37,36,35,33,32,31,30,30,29,29]) # temperature\n",
    "    self.state[2] = 0#get_generation_PV()[0] # generation\n",
    "    self.state[3] = 1#get_demand_h1(self.state[1])[0] # demand, needs temp\n",
    "    self.state[4] = self.state[3] - self.state[2] # net \n",
    "    self.state[5] = 2#get_grid_prices_day()[1] # grid energy price selling by Grid\n",
    "    self.state[6] = 0.5#self.state[5]* 0.90 # grid energy price buying by Grid\n",
    "\n",
    "    self.state[7] = get_grid_prices_day()[2] # grid energy carbon\n",
    "    # State[8] starts in 0 -  SOC battery of house 1\n",
    "    # self.state = normalize_2d(self.state)\n",
    "\n",
    "  def get_reward(self):\n",
    "    #TODO price house pays\n",
    "    net = self.state[4, self.time]\n",
    "    cost = net *  self.state[5, self.time]\n",
    "\n",
    "    # cost of electricity from grid and carbon\n",
    "    # net = self.state[4, self.time]\n",
    "    # if net >= 1:\n",
    "    #   cost = net *  ( self.state[5, self.time] + self.state[7, self.time])\n",
    "    # else:\n",
    "    #   cost = net * self.state[6, self.time]\n",
    "    # add if battery is used\n",
    "    # cost -= self.state[8] * self.state[6]\n",
    "    return -cost \n",
    "\n",
    "# Reset\n",
    "  def reset(self):\n",
    "    self.state[4] = self.state[3] - self.state[2] # net\n",
    "    self.state[8] = 0 # SOC battery of house 1 , restart\n",
    "    self.time = 0\n",
    "    return state[:,0]\n",
    "\n",
    "# Step\n",
    "  def step(self, action): # action are prices for buying and selling own electricity\n",
    "    if self.time == 23:\n",
    "      return self.state[:, self.time], self.get_reward(), True\n",
    "    # Estimate SOC battery and new net\n",
    "    charge = action * BATT_CAP \n",
    "    prev_SOC = self.state[8, self.time]\n",
    "    new_SOC = prev_SOC + action\n",
    "    if(action>0): # if charging\n",
    "      if(new_SOC > 1): # if charging more than capacity\n",
    "        delta = new_SOC - prev_SOC\n",
    "        self.state[4, self.time] += (delta * BATT_CAP) # net with battery cost added \n",
    "        self.state[8, self.time] = 1 # full battery\n",
    "      else:\n",
    "        self.state[8, self.time] = new_SOC\n",
    "        self.state[4, self.time] += charge # net with battery cost added\n",
    "    elif(action<0): # discharging\n",
    "      if(self.state[8, self.time] > 0): # there is energy in the battery\n",
    "        if(new_SOC < 0): # not enough energy in battery for action\n",
    "          delta = new_SOC - prev_SOC\n",
    "          self.state[4, self.time] += (delta * BATT_CAP) # net with battery cost substracted \n",
    "          self.state[8, self.time] = 0 # empty battery\n",
    "        else: # enough energy in battery for action\n",
    "          self.state[8, self.time] = new_SOC\n",
    "          self.state[4, self.time] += charge\n",
    "      # else battery empty, do nothing\n",
    "    # action = 0, do nothing\n",
    "  \n",
    "    \n",
    "    curr_state = self.state[:,self.time]\n",
    "    reward = self.get_reward()\n",
    "    self.time +=1\n",
    "    # Return state, reward, done\n",
    "    return curr_state, reward , self.time >= TIME"
   ]
  },
  {
   "cell_type": "code",
   "execution_count": null,
   "metadata": {},
   "outputs": [],
   "source": [
    "env = HouseEnergy()\n",
    "obs = env.reset()\n",
    "\n",
    "action = 0\n",
    "# env.step(action)\n",
    "obs, rew, done = env.step(action)\n",
    "# obs,rew,done"
   ]
  },
  {
   "cell_type": "code",
   "execution_count": null,
   "metadata": {},
   "outputs": [],
   "source": [
    "obs"
   ]
  },
  {
   "cell_type": "code",
   "execution_count": null,
   "metadata": {},
   "outputs": [],
   "source": [
    "normalize_2d(obs)"
   ]
  },
  {
   "cell_type": "markdown",
   "metadata": {},
   "source": [
    "## Zero action actor"
   ]
  },
  {
   "cell_type": "code",
   "execution_count": null,
   "metadata": {},
   "outputs": [],
   "source": [
    "env = HouseEnergy()\n",
    "obs = env.reset()\n",
    "\n",
    "action = 0\n",
    "\n",
    "done = 0\n",
    "total_obs, total_rewards, total_actions = [], [], []\n",
    "total_actions = np.array(total_actions)\n",
    "total_rewards = np.array(total_rewards)\n",
    "total_actions = np.array(total_actions)\n",
    "\n",
    "# normalize_2d(matrix)\n",
    "\n",
    "while not done: # Loop through the year\n",
    "    obs, rew, done = env.step(action)\n",
    "    norm_obs = normalize_2d(obs)\n",
    "\n",
    "    total_obs = np.append(total_obs,obs)\n",
    "    total_rewards = np.append(total_rewards,rew)\n",
    "    total_actions = np.append(total_actions,action)\n",
    "    \n",
    "\n",
    "total_rewards.sum()"
   ]
  },
  {
   "cell_type": "markdown",
   "metadata": {},
   "source": [
    "## Random Actor"
   ]
  },
  {
   "cell_type": "code",
   "execution_count": null,
   "metadata": {},
   "outputs": [],
   "source": [
    "set_rand_seed(0)\n",
    "env = HouseEnergy()\n",
    "obs = env.reset()\n",
    "\n",
    "action = 0\n",
    "\n",
    "obs, rew, done = env.step(action)\n",
    "\n",
    "total_obs, total_rewards, total_actions = [], [], []\n",
    "\n",
    "while not done: # Loop through the year\n",
    "    # use obs to predict action\n",
    "    action = np.random.uniform(-1,1)\n",
    "    total_obs.append(obs)\n",
    "    total_rewards.append(rew)\n",
    "    total_actions.append(action)\n",
    "    obs, rew, done = env.step(action)\n",
    "    \n",
    "\n",
    "total_actions = np.array(total_actions)\n",
    "total_obs = np.array(total_obs)\n",
    "total_rewards = np.array(total_rewards)\n",
    "total_rewards.sum()"
   ]
  },
  {
   "cell_type": "code",
   "execution_count": null,
   "metadata": {},
   "outputs": [],
   "source": [
    "total_obs.max()"
   ]
  },
  {
   "cell_type": "markdown",
   "metadata": {},
   "source": [
    "## A2C"
   ]
  },
  {
   "cell_type": "code",
   "execution_count": null,
   "metadata": {},
   "outputs": [],
   "source": [
    "class Actor(nn.Module):\n",
    "    def __init__(self, obs_dim, act_dim):\n",
    "        super(Actor, self).__init__()\n",
    "        self.fc1 = nn.Linear(obs_dim, 64)\n",
    "        self.fc2 = nn.Linear(64, act_dim)\n",
    "    def forward(self, obs):\n",
    "        x = F.relu(self.fc1(obs))\n",
    "        x = F.softmax(self.fc2(x), dim=0)\n",
    "        return x\n",
    "\n",
    "class Critic(nn.Module):\n",
    "    def __init__(self, obs_dim):\n",
    "        super(Critic, self).__init__()\n",
    "        self.fc1 = nn.Linear(obs_dim, 64)\n",
    "        self.fc2 = nn.Linear(64, 1)\n",
    "    def forward(self, obs):\n",
    "        x = F.relu(self.fc1(obs))\n",
    "        x = self.fc2(x)\n",
    "        return x"
   ]
  },
  {
   "cell_type": "code",
   "execution_count": null,
   "metadata": {},
   "outputs": [],
   "source": [
    "set_rand_seed(0)\n",
    "env = HouseEnergy()\n",
    "\n",
    "# gamma = 0.99\n",
    "episodes_completed = 200\n",
    "discrete_actions = [-0.2,-0.17 -0.15, -0.12, -0.1, -0.07, -0.05, -0.03, 0,0.03, 0.05, 0.07, 0.1, 0.12, 0.15, 0.17, 0.2]\n",
    "act_dim = len(discrete_actions)\n",
    "obs_dim = NUM_OBS\n",
    "actor = Actor(obs_dim, act_dim)\n",
    "critic = Critic(obs_dim)\n",
    "\n",
    "critic_loss = nn.MSELoss()\n",
    "actor_optimizer = optim.Adam(actor.parameters(), lr=0.001)\n",
    "critic_optimizer = optim.Adam(critic.parameters(), lr=0.0005)\n",
    "\n",
    "for episode in range(episodes_completed):    # run 1000 episodes\n",
    "    obs = env.reset()\n",
    "    \n",
    "    total_rewards ,total_obs, total_actions, log_a, state_value = [], [],[], [], []\n",
    "\n",
    "    done = 0\n",
    "\n",
    "    obs, rew, done = env.step(action)\n",
    "\n",
    "    # Loop through the day\n",
    "    while not done: \n",
    "        # Normalize #TODO fix\n",
    "        norm_obs = normalize_2d(obs)\n",
    "        obs_t = torch.Tensor(norm_obs)\n",
    "        \n",
    "        # for row in obs_t:\n",
    "        #     row = (row - row.min()) / (row.max() - row.min())\n",
    "\n",
    "        prob = actor(obs_t)\n",
    "        s_value = critic(obs_t)\n",
    "        m = Categorical(prob)\n",
    "        act_index = m.sample()\n",
    "        discrete_act = discrete_actions[act_index]\n",
    "        # obs, rew, done = env.step(action)\n",
    "\n",
    "        # Append data for analysing \n",
    "        total_obs.append(obs)\n",
    "        total_rewards.append(rew)\n",
    "        total_actions.append(action)\n",
    "        log_a.append(m.log_prob(act_index))\n",
    "        state_value.append(s_value)\n",
    "\n",
    "        obs, rew, done = env.step(discrete_act)\n",
    "    # Calc loss\n",
    "    # for r, l, v in zip(reward_to_go, log_a, state_value):\n",
    "    for r, l, v in zip(total_rewards, log_a, state_value):\n",
    "        loss = - l * (r - v.item())\n",
    "        loss.backward()\n",
    "        value_loss = critic_loss(v, torch.tensor([r]).float())\n",
    "        value_loss.backward()\n",
    "    actor_optimizer.step()\n",
    "    actor_optimizer.zero_grad()\n",
    "    critic_optimizer.step()\n",
    "    critic_optimizer.zero_grad()\n",
    "    \n",
    "    if episode % 20 == 0:\n",
    "        avg_reward = np.sum(total_rewards)\n",
    "        print(f\"Episode complete: {episode} | Avg reward {round(avg_reward,3)} | Actor Loss: {round(loss.item(),3)} |  Critic Loss: {round(value_loss.item(),3)}\" ,flush=True)\n",
    "\n",
    "\n",
    "total_actions = np.array(total_actions)\n",
    "total_obs = np.array(total_obs)\n",
    "total_rewards = np.array(total_rewards)\n",
    "total_rewards.sum()"
   ]
  },
  {
   "cell_type": "markdown",
   "metadata": {},
   "source": [
    "## Results"
   ]
  },
  {
   "cell_type": "code",
   "execution_count": null,
   "metadata": {},
   "outputs": [],
   "source": [
    "total_obs[:]"
   ]
  },
  {
   "cell_type": "code",
   "execution_count": null,
   "metadata": {},
   "outputs": [],
   "source": [
    "fig, ((ax1, ax2), (ax3, ax4)) = plt.subplots(2, 2)\n",
    "fig.set_size_inches(10, 8)\n",
    "\n",
    "ax1.set_title('Reward');\n",
    "print(len(x), len(total_rewards))\n",
    "ax1.plot(x, total_rewards, 'tab:blue')\n",
    "\n",
    "ax2.set_title('Actions');\n",
    "ax2.plot(x, total_actions, 'tab:green')\n",
    "\n",
    "ax3.set_title('Net_Electricity');\n",
    "ax3.plot(x, total_obs[:,4], 'tab:red')\n",
    "\n",
    "ax4.set_title('SOC');\n",
    "ax4.plot(x, total_obs[:,8], 'tab:grey')"
   ]
  },
  {
   "cell_type": "code",
   "execution_count": null,
   "metadata": {},
   "outputs": [],
   "source": [
    "def rollout(actor, env):\n",
    "    env.reset()\n",
    "    done = False\n",
    "    log_probs, rewards = [],[]\n",
    "\n",
    "    while not done:\n",
    "        action = actor.predict(state)\n",
    "        \n",
    "\n",
    "        state, reward, done = env.step(action)\n",
    "\n",
    "        rewards.append(reward)\n",
    "        log_probs.append(log_ prob)\n",
    "    return log_probs, rewards"
   ]
  },
  {
   "cell_type": "code",
   "execution_count": null,
   "metadata": {},
   "outputs": [],
   "source": [
    "log_probs, rewards = rollout(actor, env)"
   ]
  },
  {
   "cell_type": "code",
   "execution_count": null,
   "metadata": {},
   "outputs": [],
   "source": [
    "env = HouseEnergy()\n"
   ]
  }
 ],
 "metadata": {
  "kernelspec": {
   "display_name": "Python 3.8.13 ('bcte')",
   "language": "python",
   "name": "python3"
  },
  "language_info": {
   "codemirror_mode": {
    "name": "ipython",
    "version": 3
   },
   "file_extension": ".py",
   "mimetype": "text/x-python",
   "name": "python",
   "nbconvert_exporter": "python",
   "pygments_lexer": "ipython3",
   "version": "3.8.13"
  },
  "vscode": {
   "interpreter": {
    "hash": "4360e16d43ac692103fa28bcc8d0bd7c33534b35175524cb6d3ea499dda18b7b"
   }
  }
 },
 "nbformat": 4,
 "nbformat_minor": 2
}
