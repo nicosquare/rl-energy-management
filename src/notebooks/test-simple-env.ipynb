{
 "cells": [
  {
   "cell_type": "code",
   "execution_count": null,
   "metadata": {},
   "outputs": [],
   "source": [
    "import numpy as np\n",
    "\n",
    "from matplotlib import pyplot as plt\n",
    "from src.environments.mg_simple import MGSimple"
   ]
  },
  {
   "cell_type": "markdown",
   "metadata": {},
   "source": [
    "## Zero agent"
   ]
  },
  {
   "cell_type": "code",
   "execution_count": null,
   "metadata": {},
   "outputs": [],
   "source": [
    "batch_size = 1\n",
    "env = MGSimple(batch_size=batch_size, steps=24, min_temp=29, max_temp=31, peak_pv_gen=1, peak_conv_gen=1, peak_load=1)\n",
    "\n",
    "# Initialize states and rewards\n",
    "\n",
    "state_0, r_0, done, _ = env.reset()\n",
    "\n",
    "states_za, rewards_za, actions_za = [], [], []\n",
    "\n",
    "while not done:\n",
    "\n",
    "    action = np.zeros((batch_size, 1))\n",
    "\n",
    "    s_t, r_t, done, _ = env.step(action)\n",
    "\n",
    "    states_za.append(s_t)\n",
    "    rewards_za.append(r_t)\n",
    "    actions_za.append(action)\n",
    "\n",
    "states_za = np.stack(states_za, axis=1)\n",
    "rewards_za = np.stack(rewards_za, axis=1)\n",
    "actions_za = np.stack(actions_za, axis=1)"
   ]
  },
  {
   "cell_type": "markdown",
   "metadata": {},
   "source": [
    "# Random Agent"
   ]
  },
  {
   "cell_type": "code",
   "execution_count": null,
   "metadata": {},
   "outputs": [],
   "source": [
    "batch_size = 1\n",
    "env = MGSimple(batch_size=batch_size, steps=24, min_temp=29, max_temp=31, peak_pv_gen=1, peak_conv_gen=1, peak_load=1)\n",
    "\n",
    "# Initialize states and rewards\n",
    "\n",
    "state_0, r_0, done, _ = env.reset()\n",
    "\n",
    "states_ra, rewards_ra, actions_ra = [], [], []\n",
    "\n",
    "while not done:\n",
    "\n",
    "    action = np.random.uniform(low=-1, high=1, size=(batch_size, 1))\n",
    "\n",
    "    s_t, r_t, done, _ = env.step(action)\n",
    "\n",
    "    states_ra.append(s_t)\n",
    "    rewards_ra.append(r_t)\n",
    "    actions_ra.append(action)\n",
    "\n",
    "states_ra = np.stack(states_ra, axis=1)\n",
    "rewards_ra = np.stack(rewards_ra, axis=1)\n",
    "actions_ra = np.stack(actions_ra, axis=1)"
   ]
  },
  {
   "cell_type": "markdown",
   "metadata": {},
   "source": [
    "# A2C Causality cont."
   ]
  },
  {
   "cell_type": "code",
   "execution_count": null,
   "metadata": {},
   "outputs": [],
   "source": [
    "import traceback\n",
    "\n",
    "from src.environments.mg_simple import MGSimple\n",
    "from src.rl.a2c.c_mg_simple import Agent, set_all_seeds\n",
    "\n",
    "# Get arguments from command line\n",
    "\n",
    "disable_logging = False\n",
    "disable_noise = True\n",
    "batch_size = 8\n",
    "training_steps = 1500\n",
    "rollout_steps = 24\n",
    "actor_lr = 0.0001\n",
    "critic_lr = 0.001\n",
    "actor_nn = 64\n",
    "critic_nn = 64\n",
    "gamma = 1\n",
    "enable_gpu = True\n",
    "central_agent = False # Not needed yet\n",
    "random_soc_0 = False\n",
    "encoding = False # Not needed yet\n",
    "extended_observation = False # Not needed yet\n",
    "epsilon = 0.001\n",
    "\n",
    "# Start wandb logger\n",
    "\n",
    "try:\n",
    "\n",
    "    '''\n",
    "        Setup all the configurations for Wandb\n",
    "    '''\n",
    "\n",
    "    wdb_config={\n",
    "        \"training_steps\": training_steps,\n",
    "        \"batch_size\": batch_size,\n",
    "        \"rollout_steps\": rollout_steps,\n",
    "        \"agent_actor_lr\": actor_lr,\n",
    "        \"agent_critic_lr\": critic_lr,\n",
    "        \"agent_actor_nn\": actor_nn,\n",
    "        \"agent_critic_nn\": critic_nn,\n",
    "        \"gamma\": gamma,\n",
    "        \"central_agent\": central_agent,\n",
    "        \"random_soc_0\": random_soc_0,\n",
    "        \"encoding\": encoding,\n",
    "        \"extended_observation\": extended_observation,\n",
    "        \"epsilon\": epsilon,\n",
    "    }\n",
    "\n",
    "    '''\n",
    "        Run the simulator\n",
    "    '''\n",
    "\n",
    "    set_all_seeds(0)\n",
    "\n",
    "    # Instantiate the environment\n",
    "\n",
    "    my_env = MGSimple(\n",
    "        batch_size=batch_size, steps = rollout_steps, min_temp = 29, max_temp = 31, peak_pv_gen = 1, peak_conv_gen = 1, peak_load = 1,\n",
    "        random_soc_0=random_soc_0, disable_noise=disable_noise\n",
    "    )\n",
    "\n",
    "    # Instantiate the agent\n",
    "\n",
    "    agent = Agent(\n",
    "        env=my_env, critic_lr=critic_lr, actor_lr=actor_lr, actor_nn=actor_nn, critic_nn=critic_nn, batch_size=batch_size, gamma=gamma,\n",
    "        extended_obs=extended_observation, wandb_dict=wdb_config, enable_gpu=enable_gpu, disable_wandb=disable_logging,\n",
    "    )\n",
    "\n",
    "    # Launch the training\n",
    "\n",
    "    all_states, all_rewards, all_actions = agent.train(training_steps=training_steps, epsilon=epsilon)\n",
    "\n",
    "    # Finish Wandb execution\n",
    "\n",
    "    agent.wdb_logger.finish()\n",
    "\n",
    "except (RuntimeError, KeyboardInterrupt):\n",
    "\n",
    "    traceback.print_exc()"
   ]
  },
  {
   "cell_type": "markdown",
   "metadata": {},
   "source": [
    "# A2C Causality disc."
   ]
  },
  {
   "cell_type": "code",
   "execution_count": null,
   "metadata": {},
   "outputs": [],
   "source": [
    "import traceback\n",
    "\n",
    "from src.environments.mg_simple import MGSimple\n",
    "from src.rl.a2c.d_mg_simple import Agent, set_all_seeds\n",
    "\n",
    "# Get arguments from command line\n",
    "\n",
    "disable_logging = False\n",
    "disable_noise = True\n",
    "batch_size = 8\n",
    "training_steps = 1500\n",
    "rollout_steps = 24\n",
    "actor_lr = 0.0009\n",
    "critic_lr = 0.001\n",
    "actor_nn = 128\n",
    "critic_nn = 64\n",
    "gamma = 1\n",
    "enable_gpu = True\n",
    "central_agent = False # Not needed yet\n",
    "random_soc_0 = False\n",
    "encoding = False # Not needed yet\n",
    "extended_observation = False # Not needed yet\n",
    "epsilon = 0.001\n",
    "\n",
    "# Start wandb logger\n",
    "\n",
    "try:\n",
    "\n",
    "    '''\n",
    "        Setup all the configurations for Wandb\n",
    "    '''\n",
    "\n",
    "    wdb_config={\n",
    "        \"training_steps\": training_steps,\n",
    "        \"batch_size\": batch_size,\n",
    "        \"rollout_steps\": rollout_steps,\n",
    "        \"agent_actor_lr\": actor_lr,\n",
    "        \"agent_critic_lr\": critic_lr,\n",
    "        \"agent_actor_nn\": actor_nn,\n",
    "        \"agent_critic_nn\": critic_nn,\n",
    "        \"gamma\": gamma,\n",
    "        \"central_agent\": central_agent,\n",
    "        \"random_soc_0\": random_soc_0,\n",
    "        \"encoding\": encoding,\n",
    "        \"extended_observation\": extended_observation,\n",
    "        \"epsilon\": epsilon,\n",
    "    }\n",
    "\n",
    "    '''\n",
    "        Run the simulator\n",
    "    '''\n",
    "\n",
    "    set_all_seeds(0)\n",
    "\n",
    "    # Instantiate the environment\n",
    "\n",
    "    my_env = MGSimple(\n",
    "        batch_size=batch_size, steps = rollout_steps, min_temp = 29, max_temp = 31, peak_pv_gen = 1, peak_conv_gen = 1, peak_load = 1,\n",
    "        random_soc_0=random_soc_0, disable_noise=disable_noise\n",
    "    )\n",
    "\n",
    "    # Instantiate the agent\n",
    "\n",
    "    agent = Agent(\n",
    "        env=my_env, critic_lr=critic_lr, actor_lr=actor_lr, actor_nn=actor_nn, critic_nn=critic_nn, batch_size=batch_size, gamma=gamma,\n",
    "        extended_obs=extended_observation, wandb_dict=wdb_config, enable_gpu=enable_gpu, disable_wandb=disable_logging,\n",
    "    )\n",
    "\n",
    "    # Launch the training\n",
    "\n",
    "    all_states, all_rewards, all_actions = agent.train(training_steps=training_steps, epsilon=epsilon)\n",
    "\n",
    "    # Finish Wandb execution\n",
    "\n",
    "    agent.wdb_logger.finish()\n",
    "\n",
    "except (RuntimeError, KeyboardInterrupt):\n",
    "\n",
    "    traceback.print_exc()\n",
    "\n",
    "print('A2C training completed')"
   ]
  },
  {
   "cell_type": "markdown",
   "metadata": {},
   "source": [
    "# Plots"
   ]
  },
  {
   "cell_type": "code",
   "execution_count": null,
   "metadata": {},
   "outputs": [],
   "source": [
    "all_rewards = np.stack(all_rewards, axis=0).squeeze()\n",
    "all_actions = np.stack(all_actions, axis=0).squeeze()\n",
    "all_states = np.stack(all_states, axis=0).squeeze()\n",
    "\n",
    "plt.plot(all_rewards[0,:,0], label='reward 0 0')\n",
    "plt.plot(all_rewards[250,:,0], label='reward 250 0')\n",
    "plt.plot(all_rewards[1499,:,0], label='reward 499 0')\n",
    "plt.legend()\n",
    "plt.show()"
   ]
  },
  {
   "cell_type": "code",
   "execution_count": null,
   "metadata": {},
   "outputs": [],
   "source": [
    "avg_reward = all_rewards.sum(axis=1).mean(axis=1)\n",
    "\n",
    "plt.plot(avg_reward)\n",
    "plt.show()"
   ]
  },
  {
   "cell_type": "code",
   "execution_count": null,
   "metadata": {},
   "outputs": [],
   "source": [
    "plt.plot(all_actions[0,:,0], label='actions 0')\n",
    "plt.plot(all_actions[250,:,0], label='actions 250')\n",
    "plt.plot(all_actions[1499,:,0], label='actions 499')\n",
    "plt.legend()\n",
    "plt.show()"
   ]
  },
  {
   "cell_type": "code",
   "execution_count": null,
   "metadata": {},
   "outputs": [],
   "source": [
    "avg_action = all_actions.mean(axis=1).mean(axis=1)\n",
    "\n",
    "plt.plot(avg_action)\n",
    "plt.show()"
   ]
  },
  {
   "cell_type": "code",
   "execution_count": null,
   "metadata": {},
   "outputs": [],
   "source": [
    "all_socs = all_states[:,:,:,8]\n",
    "\n",
    "plt.plot(all_socs[0,:,0], label='soc 0')\n",
    "plt.plot(all_socs[250,:,0], label='soc 250')\n",
    "plt.plot(all_socs[1499,:,0], label='soc 499')\n",
    "plt.legend()\n",
    "plt.show()"
   ]
  },
  {
   "cell_type": "code",
   "execution_count": null,
   "metadata": {},
   "outputs": [],
   "source": [
    "all_net_energy = all_states[:,:,:,4]\n",
    "remaining_energy = my_env.mg.remaining_energy\n",
    "\n",
    "plt.plot(remaining_energy, label='remaining energy')\n",
    "plt.plot(all_net_energy[0,:,0], label='net energy 0')\n",
    "plt.plot(all_net_energy[250,:,0], label='net energy 250')\n",
    "plt.plot(all_net_energy[499,:,0], label='net energy 499')\n",
    "plt.legend()\n",
    "plt.show()"
   ]
  },
  {
   "cell_type": "code",
   "execution_count": null,
   "metadata": {},
   "outputs": [],
   "source": [
    "remaining_energy = my_env.mg.pv_gen\n",
    "\n",
    "remaining_energy.shape\n",
    "\n",
    "plt.plot(remaining_energy, label='remaining energy')\n",
    "plt.legend()\n",
    "plt.show()"
   ]
  }
 ],
 "metadata": {
  "kernelspec": {
   "display_name": "Python 3.10.6 ('rl_energy')",
   "language": "python",
   "name": "python3"
  },
  "language_info": {
   "codemirror_mode": {
    "name": "ipython",
    "version": 3
   },
   "file_extension": ".py",
   "mimetype": "text/x-python",
   "name": "python",
   "nbconvert_exporter": "python",
   "pygments_lexer": "ipython3",
   "version": "3.10.6"
  },
  "vscode": {
   "interpreter": {
    "hash": "c90140d1e60c0c8ac8d9973d206ea730577da1ef55aede4e552f1f53ef485e21"
   }
  }
 },
 "nbformat": 4,
 "nbformat_minor": 2
}
