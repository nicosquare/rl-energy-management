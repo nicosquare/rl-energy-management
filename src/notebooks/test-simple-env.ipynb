{
 "cells": [
  {
   "cell_type": "code",
   "execution_count": 1,
   "metadata": {},
   "outputs": [],
   "source": [
    "import numpy as np\n",
    "\n",
    "from matplotlib import pyplot as plt\n",
    "from src.environments.mg_simple import MGSimple"
   ]
  },
  {
   "cell_type": "markdown",
   "metadata": {},
   "source": [
    "## Zero agent"
   ]
  },
  {
   "cell_type": "code",
   "execution_count": null,
   "metadata": {},
   "outputs": [],
   "source": [
    "batch_size = 1\n",
    "env = MGSimple(batch_size=batch_size, steps=24, min_temp=29, max_temp=31, peak_pv_gen=1, peak_conv_gen=1, peak_load=1)\n",
    "\n",
    "# Initialize states and rewards\n",
    "\n",
    "state_0, r_0, done, _ = env.reset()\n",
    "\n",
    "states_za, rewards_za, actions_za = [], [], []\n",
    "\n",
    "while not done:\n",
    "\n",
    "    action = np.zeros((batch_size, 1))\n",
    "\n",
    "    s_t, r_t, done, _ = env.step(action)\n",
    "\n",
    "    states_za.append(s_t)\n",
    "    rewards_za.append(r_t)\n",
    "    actions_za.append(action)\n",
    "\n",
    "states_za = np.stack(states_za, axis=1)\n",
    "rewards_za = np.stack(rewards_za, axis=1)\n",
    "actions_za = np.stack(actions_za, axis=1)"
   ]
  },
  {
   "cell_type": "markdown",
   "metadata": {},
   "source": [
    "# Random Agent"
   ]
  },
  {
   "cell_type": "code",
   "execution_count": null,
   "metadata": {},
   "outputs": [],
   "source": [
    "batch_size = 1\n",
    "env = MGSimple(batch_size=batch_size, steps=24, min_temp=29, max_temp=31, peak_pv_gen=1, peak_conv_gen=1, peak_load=1)\n",
    "\n",
    "# Initialize states and rewards\n",
    "\n",
    "state_0, r_0, done, _ = env.reset()\n",
    "\n",
    "states_ra, rewards_ra, actions_ra = [], [], []\n",
    "\n",
    "while not done:\n",
    "\n",
    "    action = np.random.uniform(low=-1, high=1, size=(batch_size, 1))\n",
    "\n",
    "    s_t, r_t, done, _ = env.step(action)\n",
    "\n",
    "    states_ra.append(s_t)\n",
    "    rewards_ra.append(r_t)\n",
    "    actions_ra.append(action)\n",
    "\n",
    "states_ra = np.stack(states_ra, axis=1)\n",
    "rewards_ra = np.stack(rewards_ra, axis=1)\n",
    "actions_ra = np.stack(actions_ra, axis=1)"
   ]
  },
  {
   "cell_type": "markdown",
   "metadata": {},
   "source": [
    "# A2C Causality cont."
   ]
  },
  {
   "cell_type": "code",
   "execution_count": null,
   "metadata": {},
   "outputs": [],
   "source": [
    "import traceback\n",
    "\n",
    "from src.environments.mg_simple import MGSimple\n",
    "from src.rl.a2c.c_mg_simple import Agent, set_all_seeds\n",
    "\n",
    "# Get arguments from command line\n",
    "\n",
    "disable_logging = False\n",
    "batch_size = 4\n",
    "training_steps = 500\n",
    "rollout_steps = 24\n",
    "actor_lr = 0.0001\n",
    "critic_lr = 0.001\n",
    "actor_nn = 64\n",
    "critic_nn = 64\n",
    "gamma = 1\n",
    "enable_gpu = True\n",
    "central_agent = False # Not needed yet\n",
    "random_starting_step = True # Need to be refactored to random soc_0\n",
    "encoding = False # Not needed yet\n",
    "extended_observation = False # Not needed yet\n",
    "epsilon = 0.01\n",
    "\n",
    "# Start wandb logger\n",
    "\n",
    "try:\n",
    "\n",
    "    '''\n",
    "        Setup all the configurations for Wandb\n",
    "    '''\n",
    "\n",
    "    wdb_config={\n",
    "        \"training_steps\": training_steps,\n",
    "        \"batch_size\": batch_size,\n",
    "        \"rollout_steps\": rollout_steps,\n",
    "        \"agent_actor_lr\": actor_lr,\n",
    "        \"agent_critic_lr\": critic_lr,\n",
    "        \"agent_actor_nn\": actor_nn,\n",
    "        \"agent_critic_nn\": critic_nn,\n",
    "        \"gamma\": gamma,\n",
    "        \"central_agent\": central_agent,\n",
    "        \"random_starting_step\": random_starting_step,\n",
    "        \"encoding\": encoding,\n",
    "        \"extended_observation\": extended_observation,\n",
    "        \"epsilon\": epsilon,\n",
    "    }\n",
    "\n",
    "    '''\n",
    "        Run the simulator\n",
    "    '''\n",
    "\n",
    "    set_all_seeds(0)\n",
    "\n",
    "    # Instantiate the environment\n",
    "\n",
    "    my_env = MGSimple(batch_size=batch_size, steps = rollout_steps, min_temp = 29, max_temp = 31, peak_pv_gen = 1, peak_conv_gen = 1, peak_load = 1)\n",
    "\n",
    "    # Instantiate the agent\n",
    "\n",
    "    agent = Agent(\n",
    "        env=my_env, critic_lr=critic_lr, actor_lr=actor_lr, actor_nn=actor_nn, critic_nn=critic_nn, batch_size=batch_size, gamma=gamma,\n",
    "        extended_obs=extended_observation, wandb_dict=wdb_config, enable_gpu=enable_gpu, disable_wandb=disable_logging,\n",
    "    )\n",
    "\n",
    "    # Launch the training\n",
    "\n",
    "    all_states, all_rewards, all_actions = agent.train(training_steps=training_steps, epsilon=epsilon)\n",
    "\n",
    "    # Finish Wandb execution\n",
    "\n",
    "    agent.wdb_logger.finish()\n",
    "\n",
    "except (RuntimeError, KeyboardInterrupt):\n",
    "\n",
    "    traceback.print_exc()\n",
    "\n",
    "print('A2C training completed')"
   ]
  },
  {
   "cell_type": "markdown",
   "metadata": {},
   "source": [
    "# A2C Causality disc."
   ]
  },
  {
   "cell_type": "code",
   "execution_count": 22,
   "metadata": {},
   "outputs": [
    {
     "name": "stdout",
     "output_type": "stream",
     "text": [
      "Running on CPU\n"
     ]
    },
    {
     "name": "stderr",
     "output_type": "stream",
     "text": [
      "  0%|          | 0/500 [00:00<?, ?it/s]"
     ]
    },
    {
     "name": "stdout",
     "output_type": "stream",
     "text": [
      "rollout_avg_reward: -6.30094575881958 \n",
      "actor_loss: 0.12441383302211761 \n",
      "critic_loss: 7.39766263961792 \n",
      "avg_action: 0.15000000000000008 \n"
     ]
    },
    {
     "name": "stderr",
     "output_type": "stream",
     "text": [
      "  0%|          | 2/500 [00:00<00:33, 14.81it/s]"
     ]
    },
    {
     "name": "stdout",
     "output_type": "stream",
     "text": [
      "Saving model on step: 0\n"
     ]
    },
    {
     "name": "stderr",
     "output_type": "stream",
     "text": [
      "  1%|          | 4/500 [00:00<00:32, 15.28it/s]"
     ]
    },
    {
     "name": "stdout",
     "output_type": "stream",
     "text": [
      "rollout_avg_reward: -6.215721130371094 \n",
      "actor_loss: 4.775234699249268 \n",
      "critic_loss: 5.154472827911377 \n",
      "avg_action: 0.1445652173913044 \n"
     ]
    },
    {
     "name": "stderr",
     "output_type": "stream",
     "text": [
      "  2%|▏         | 10/500 [00:00<00:31, 15.70it/s]"
     ]
    },
    {
     "name": "stdout",
     "output_type": "stream",
     "text": [
      "rollout_avg_reward: -6.334777355194092 \n",
      "actor_loss: -0.06654560565948486 \n",
      "critic_loss: 4.733691692352295 \n",
      "avg_action: 0.15000000000000008 \n"
     ]
    },
    {
     "name": "stderr",
     "output_type": "stream",
     "text": [
      "  3%|▎         | 14/500 [00:00<00:30, 15.73it/s]"
     ]
    },
    {
     "name": "stdout",
     "output_type": "stream",
     "text": [
      "rollout_avg_reward: -6.350674629211426 \n",
      "actor_loss: -0.056318499147892 \n",
      "critic_loss: 3.8614020347595215 \n",
      "avg_action: 0.15000000000000008 \n"
     ]
    },
    {
     "name": "stderr",
     "output_type": "stream",
     "text": [
      "  4%|▍         | 20/500 [00:01<00:31, 15.19it/s]"
     ]
    },
    {
     "name": "stdout",
     "output_type": "stream",
     "text": [
      "rollout_avg_reward: -6.279555320739746 \n",
      "actor_loss: -0.01979568414390087 \n",
      "critic_loss: 3.014061689376831 \n",
      "avg_action: 0.15000000000000008 \n"
     ]
    },
    {
     "name": "stderr",
     "output_type": "stream",
     "text": [
      "  5%|▍         | 24/500 [00:01<00:31, 15.22it/s]"
     ]
    },
    {
     "name": "stdout",
     "output_type": "stream",
     "text": [
      "rollout_avg_reward: -6.338149547576904 \n",
      "actor_loss: -0.010169858112931252 \n",
      "critic_loss: 2.534431219100952 \n",
      "avg_action: 0.15000000000000008 \n"
     ]
    },
    {
     "name": "stderr",
     "output_type": "stream",
     "text": [
      "  6%|▌         | 30/500 [00:01<00:30, 15.57it/s]"
     ]
    },
    {
     "name": "stdout",
     "output_type": "stream",
     "text": [
      "rollout_avg_reward: -6.306475639343262 \n",
      "actor_loss: 3.9957115650177 \n",
      "critic_loss: 1.96998131275177 \n",
      "avg_action: 0.1445652173913044 \n"
     ]
    },
    {
     "name": "stderr",
     "output_type": "stream",
     "text": [
      "  7%|▋         | 34/500 [00:02<00:30, 15.48it/s]"
     ]
    },
    {
     "name": "stdout",
     "output_type": "stream",
     "text": [
      "rollout_avg_reward: -6.267446517944336 \n",
      "actor_loss: -2.509570837020874 \n",
      "critic_loss: 1.4888962507247925 \n",
      "avg_action: 0.14130434782608703 \n"
     ]
    },
    {
     "name": "stderr",
     "output_type": "stream",
     "text": [
      "  8%|▊         | 40/500 [00:02<00:29, 15.70it/s]"
     ]
    },
    {
     "name": "stdout",
     "output_type": "stream",
     "text": [
      "rollout_avg_reward: -6.242335319519043 \n",
      "actor_loss: 0.5188912153244019 \n",
      "critic_loss: 1.1499706506729126 \n",
      "avg_action: 0.1445652173913044 \n"
     ]
    },
    {
     "name": "stderr",
     "output_type": "stream",
     "text": [
      "  9%|▉         | 44/500 [00:02<00:29, 15.22it/s]"
     ]
    },
    {
     "name": "stdout",
     "output_type": "stream",
     "text": [
      "rollout_avg_reward: -6.340598106384277 \n",
      "actor_loss: -0.01845521479845047 \n",
      "critic_loss: 0.9478104710578918 \n",
      "avg_action: 0.15000000000000008 \n"
     ]
    },
    {
     "name": "stderr",
     "output_type": "stream",
     "text": [
      " 10%|█         | 50/500 [00:03<00:29, 15.40it/s]"
     ]
    },
    {
     "name": "stdout",
     "output_type": "stream",
     "text": [
      "rollout_avg_reward: -6.3327107429504395 \n",
      "actor_loss: -0.007864508777856827 \n",
      "critic_loss: 0.7458805441856384 \n",
      "avg_action: 0.15000000000000008 \n"
     ]
    },
    {
     "name": "stderr",
     "output_type": "stream",
     "text": [
      " 11%|█         | 54/500 [00:03<00:28, 15.41it/s]"
     ]
    },
    {
     "name": "stdout",
     "output_type": "stream",
     "text": [
      "Saving model on step: 50\n",
      "rollout_avg_reward: -6.298376083374023 \n",
      "actor_loss: -0.009439902380108833 \n",
      "critic_loss: 0.5858359336853027 \n",
      "avg_action: 0.15000000000000008 \n"
     ]
    },
    {
     "name": "stderr",
     "output_type": "stream",
     "text": [
      " 12%|█▏        | 60/500 [00:03<00:28, 15.18it/s]"
     ]
    },
    {
     "name": "stdout",
     "output_type": "stream",
     "text": [
      "rollout_avg_reward: -6.333112716674805 \n",
      "actor_loss: -0.015669386833906174 \n",
      "critic_loss: 0.49185910820961 \n",
      "avg_action: 0.15000000000000008 \n"
     ]
    },
    {
     "name": "stderr",
     "output_type": "stream",
     "text": [
      " 13%|█▎        | 64/500 [00:04<00:29, 14.87it/s]"
     ]
    },
    {
     "name": "stdout",
     "output_type": "stream",
     "text": [
      "rollout_avg_reward: -6.3102006912231445 \n",
      "actor_loss: -0.005167760886251926 \n",
      "critic_loss: 0.42437610030174255 \n",
      "avg_action: 0.15000000000000008 \n"
     ]
    },
    {
     "name": "stderr",
     "output_type": "stream",
     "text": [
      " 14%|█▍        | 70/500 [00:04<00:29, 14.66it/s]"
     ]
    },
    {
     "name": "stdout",
     "output_type": "stream",
     "text": [
      "rollout_avg_reward: -6.24957275390625 \n",
      "actor_loss: 2.3692286014556885 \n",
      "critic_loss: 0.38550278544425964 \n",
      "avg_action: 0.13260869565217398 \n"
     ]
    },
    {
     "name": "stderr",
     "output_type": "stream",
     "text": [
      " 15%|█▍        | 74/500 [00:04<00:28, 15.12it/s]"
     ]
    },
    {
     "name": "stdout",
     "output_type": "stream",
     "text": [
      "rollout_avg_reward: -6.294561386108398 \n",
      "actor_loss: -0.8235872387886047 \n",
      "critic_loss: 0.3534250557422638 \n",
      "avg_action: 0.1478260869565218 \n"
     ]
    },
    {
     "name": "stderr",
     "output_type": "stream",
     "text": [
      " 16%|█▌        | 80/500 [00:05<00:27, 15.47it/s]"
     ]
    },
    {
     "name": "stdout",
     "output_type": "stream",
     "text": [
      "rollout_avg_reward: -6.312612533569336 \n",
      "actor_loss: -0.00118618318811059 \n",
      "critic_loss: 0.3459477126598358 \n",
      "avg_action: 0.15000000000000008 \n"
     ]
    },
    {
     "name": "stderr",
     "output_type": "stream",
     "text": [
      " 17%|█▋        | 84/500 [00:05<00:26, 15.56it/s]"
     ]
    },
    {
     "name": "stdout",
     "output_type": "stream",
     "text": [
      "rollout_avg_reward: -6.316896438598633 \n",
      "actor_loss: 2.6350960731506348 \n",
      "critic_loss: 0.33305251598358154 \n",
      "avg_action: 0.1445652173913044 \n"
     ]
    },
    {
     "name": "stderr",
     "output_type": "stream",
     "text": [
      " 18%|█▊        | 90/500 [00:05<00:26, 15.69it/s]"
     ]
    },
    {
     "name": "stdout",
     "output_type": "stream",
     "text": [
      "rollout_avg_reward: -6.3189826011657715 \n",
      "actor_loss: 0.008672690950334072 \n",
      "critic_loss: 0.3258311152458191 \n",
      "avg_action: 0.15000000000000008 \n"
     ]
    },
    {
     "name": "stderr",
     "output_type": "stream",
     "text": [
      " 19%|█▉        | 94/500 [00:06<00:25, 15.64it/s]"
     ]
    },
    {
     "name": "stdout",
     "output_type": "stream",
     "text": [
      "rollout_avg_reward: -6.365512847900391 \n",
      "actor_loss: 0.0036705257371068 \n",
      "critic_loss: 0.3050098121166229 \n",
      "avg_action: 0.15000000000000008 \n"
     ]
    },
    {
     "name": "stderr",
     "output_type": "stream",
     "text": [
      " 20%|██        | 100/500 [00:06<00:25, 15.74it/s]"
     ]
    },
    {
     "name": "stdout",
     "output_type": "stream",
     "text": [
      "rollout_avg_reward: -6.326343536376953 \n",
      "actor_loss: 1.1829924583435059 \n",
      "critic_loss: 0.3051382899284363 \n",
      "avg_action: 0.14347826086956528 \n"
     ]
    },
    {
     "name": "stderr",
     "output_type": "stream",
     "text": [
      " 21%|██        | 104/500 [00:06<00:25, 15.65it/s]"
     ]
    },
    {
     "name": "stdout",
     "output_type": "stream",
     "text": [
      "Saving model on step: 100\n",
      "rollout_avg_reward: -6.319522857666016 \n",
      "actor_loss: 0.007913736626505852 \n",
      "critic_loss: 0.30290260910987854 \n",
      "avg_action: 0.15000000000000008 \n"
     ]
    },
    {
     "name": "stderr",
     "output_type": "stream",
     "text": [
      " 22%|██▏       | 110/500 [00:07<00:24, 15.78it/s]"
     ]
    },
    {
     "name": "stdout",
     "output_type": "stream",
     "text": [
      "rollout_avg_reward: -6.27314567565918 \n",
      "actor_loss: 0.012514643371105194 \n",
      "critic_loss: 0.3074114918708801 \n",
      "avg_action: 0.15000000000000008 \n"
     ]
    },
    {
     "name": "stderr",
     "output_type": "stream",
     "text": [
      " 23%|██▎       | 114/500 [00:07<00:24, 15.56it/s]"
     ]
    },
    {
     "name": "stdout",
     "output_type": "stream",
     "text": [
      "rollout_avg_reward: -6.324836730957031 \n",
      "actor_loss: 0.0034484006464481354 \n",
      "critic_loss: 0.28781941533088684 \n",
      "avg_action: 0.15000000000000008 \n"
     ]
    },
    {
     "name": "stderr",
     "output_type": "stream",
     "text": [
      " 24%|██▍       | 120/500 [00:07<00:24, 15.67it/s]"
     ]
    },
    {
     "name": "stdout",
     "output_type": "stream",
     "text": [
      "rollout_avg_reward: -6.3462233543396 \n",
      "actor_loss: 0.0027673831209540367 \n",
      "critic_loss: 0.2752216160297394 \n",
      "avg_action: 0.15000000000000008 \n"
     ]
    },
    {
     "name": "stderr",
     "output_type": "stream",
     "text": [
      " 25%|██▍       | 124/500 [00:08<00:23, 15.68it/s]"
     ]
    },
    {
     "name": "stdout",
     "output_type": "stream",
     "text": [
      "rollout_avg_reward: -6.306454658508301 \n",
      "actor_loss: 0.007968682795763016 \n",
      "critic_loss: 0.28004327416419983 \n",
      "avg_action: 0.15000000000000008 \n"
     ]
    },
    {
     "name": "stderr",
     "output_type": "stream",
     "text": [
      " 26%|██▌       | 130/500 [00:08<00:23, 15.87it/s]"
     ]
    },
    {
     "name": "stdout",
     "output_type": "stream",
     "text": [
      "rollout_avg_reward: -6.275145530700684 \n",
      "actor_loss: 0.16484488546848297 \n",
      "critic_loss: 0.27495765686035156 \n",
      "avg_action: 0.14130434782608703 \n"
     ]
    },
    {
     "name": "stderr",
     "output_type": "stream",
     "text": [
      " 27%|██▋       | 134/500 [00:08<00:22, 15.94it/s]"
     ]
    },
    {
     "name": "stdout",
     "output_type": "stream",
     "text": [
      "rollout_avg_reward: -6.292314529418945 \n",
      "actor_loss: 0.004750567022711039 \n",
      "critic_loss: 0.27163583040237427 \n",
      "avg_action: 0.15000000000000008 \n"
     ]
    },
    {
     "name": "stderr",
     "output_type": "stream",
     "text": [
      " 28%|██▊       | 140/500 [00:09<00:22, 15.88it/s]"
     ]
    },
    {
     "name": "stdout",
     "output_type": "stream",
     "text": [
      "rollout_avg_reward: -6.3243818283081055 \n",
      "actor_loss: 2.123192548751831 \n",
      "critic_loss: 0.25827881693840027 \n",
      "avg_action: 0.1445652173913044 \n"
     ]
    },
    {
     "name": "stderr",
     "output_type": "stream",
     "text": [
      " 29%|██▉       | 144/500 [00:09<00:22, 15.65it/s]"
     ]
    },
    {
     "name": "stdout",
     "output_type": "stream",
     "text": [
      "rollout_avg_reward: -6.366311073303223 \n",
      "actor_loss: 0.004844318609684706 \n",
      "critic_loss: 0.2463035136461258 \n",
      "avg_action: 0.15000000000000008 \n"
     ]
    },
    {
     "name": "stderr",
     "output_type": "stream",
     "text": [
      " 30%|███       | 150/500 [00:09<00:23, 15.15it/s]"
     ]
    },
    {
     "name": "stdout",
     "output_type": "stream",
     "text": [
      "rollout_avg_reward: -6.324678421020508 \n",
      "actor_loss: 0.006089068949222565 \n",
      "critic_loss: 0.25063225626945496 \n",
      "avg_action: 0.15000000000000008 \n"
     ]
    },
    {
     "name": "stderr",
     "output_type": "stream",
     "text": [
      " 31%|███       | 154/500 [00:09<00:22, 15.43it/s]"
     ]
    },
    {
     "name": "stdout",
     "output_type": "stream",
     "text": [
      "Saving model on step: 150\n",
      "rollout_avg_reward: -6.310658931732178 \n",
      "actor_loss: 0.007907663471996784 \n",
      "critic_loss: 0.2509022057056427 \n",
      "avg_action: 0.15000000000000008 \n"
     ]
    },
    {
     "name": "stderr",
     "output_type": "stream",
     "text": [
      " 32%|███▏      | 160/500 [00:10<00:21, 15.76it/s]"
     ]
    },
    {
     "name": "stdout",
     "output_type": "stream",
     "text": [
      "rollout_avg_reward: -6.264193534851074 \n",
      "actor_loss: 0.12831556797027588 \n",
      "critic_loss: 0.2516046464443207 \n",
      "avg_action: 0.1445652173913044 \n"
     ]
    },
    {
     "name": "stderr",
     "output_type": "stream",
     "text": [
      " 33%|███▎      | 164/500 [00:10<00:21, 15.76it/s]"
     ]
    },
    {
     "name": "stdout",
     "output_type": "stream",
     "text": [
      "rollout_avg_reward: -6.267663955688477 \n",
      "actor_loss: 0.003864469937980175 \n",
      "critic_loss: 0.25291818380355835 \n",
      "avg_action: 0.15000000000000008 \n"
     ]
    },
    {
     "name": "stderr",
     "output_type": "stream",
     "text": [
      " 34%|███▍      | 170/500 [00:10<00:20, 15.94it/s]"
     ]
    },
    {
     "name": "stdout",
     "output_type": "stream",
     "text": [
      "rollout_avg_reward: -6.322142601013184 \n",
      "actor_loss: 0.00794733501970768 \n",
      "critic_loss: 0.2392740249633789 \n",
      "avg_action: 0.15000000000000008 \n"
     ]
    },
    {
     "name": "stderr",
     "output_type": "stream",
     "text": [
      " 35%|███▍      | 174/500 [00:11<00:20, 15.79it/s]"
     ]
    },
    {
     "name": "stdout",
     "output_type": "stream",
     "text": [
      "rollout_avg_reward: -6.317574501037598 \n",
      "actor_loss: 0.009527333080768585 \n",
      "critic_loss: 0.23913943767547607 \n",
      "avg_action: 0.15000000000000008 \n"
     ]
    },
    {
     "name": "stderr",
     "output_type": "stream",
     "text": [
      " 36%|███▌      | 180/500 [00:11<00:20, 15.79it/s]"
     ]
    },
    {
     "name": "stdout",
     "output_type": "stream",
     "text": [
      "rollout_avg_reward: -6.397506237030029 \n",
      "actor_loss: -1.136277675628662 \n",
      "critic_loss: 0.2330021858215332 \n",
      "avg_action: 0.1543478260869566 \n"
     ]
    },
    {
     "name": "stderr",
     "output_type": "stream",
     "text": [
      " 37%|███▋      | 184/500 [00:11<00:19, 15.84it/s]"
     ]
    },
    {
     "name": "stdout",
     "output_type": "stream",
     "text": [
      "rollout_avg_reward: -6.305272102355957 \n",
      "actor_loss: 0.008622175082564354 \n",
      "critic_loss: 0.23629555106163025 \n",
      "avg_action: 0.15000000000000008 \n"
     ]
    },
    {
     "name": "stderr",
     "output_type": "stream",
     "text": [
      " 38%|███▊      | 190/500 [00:12<00:21, 14.44it/s]"
     ]
    },
    {
     "name": "stdout",
     "output_type": "stream",
     "text": [
      "rollout_avg_reward: -6.25276517868042 \n",
      "actor_loss: 2.6915366649627686 \n",
      "critic_loss: 0.2419373244047165 \n",
      "avg_action: 0.13586956521739138 \n"
     ]
    },
    {
     "name": "stderr",
     "output_type": "stream",
     "text": [
      " 39%|███▉      | 194/500 [00:12<00:20, 14.68it/s]"
     ]
    },
    {
     "name": "stdout",
     "output_type": "stream",
     "text": [
      "rollout_avg_reward: -6.361617088317871 \n",
      "actor_loss: 0.005563957616686821 \n",
      "critic_loss: 0.22349876165390015 \n",
      "avg_action: 0.15000000000000008 \n"
     ]
    },
    {
     "name": "stderr",
     "output_type": "stream",
     "text": [
      " 40%|████      | 200/500 [00:12<00:19, 15.04it/s]"
     ]
    },
    {
     "name": "stdout",
     "output_type": "stream",
     "text": [
      "rollout_avg_reward: -6.346851825714111 \n",
      "actor_loss: 2.7179043292999268 \n",
      "critic_loss: 0.22628726065158844 \n",
      "avg_action: 0.1543478260869566 \n"
     ]
    },
    {
     "name": "stderr",
     "output_type": "stream",
     "text": [
      " 41%|████      | 204/500 [00:13<00:19, 15.02it/s]"
     ]
    },
    {
     "name": "stdout",
     "output_type": "stream",
     "text": [
      "Saving model on step: 200\n",
      "rollout_avg_reward: -6.31839656829834 \n",
      "actor_loss: 0.00301766162738204 \n",
      "critic_loss: 0.22956588864326477 \n",
      "avg_action: 0.15000000000000008 \n"
     ]
    },
    {
     "name": "stderr",
     "output_type": "stream",
     "text": [
      " 42%|████▏     | 210/500 [00:13<00:19, 14.78it/s]"
     ]
    },
    {
     "name": "stdout",
     "output_type": "stream",
     "text": [
      "rollout_avg_reward: -6.31323766708374 \n",
      "actor_loss: 0.010339281521737576 \n",
      "critic_loss: 0.22728148102760315 \n",
      "avg_action: 0.15000000000000008 \n"
     ]
    },
    {
     "name": "stderr",
     "output_type": "stream",
     "text": [
      " 43%|████▎     | 214/500 [00:13<00:19, 14.97it/s]"
     ]
    },
    {
     "name": "stdout",
     "output_type": "stream",
     "text": [
      "rollout_avg_reward: -6.301835060119629 \n",
      "actor_loss: 0.009356752969324589 \n",
      "critic_loss: 0.22978538274765015 \n",
      "avg_action: 0.15000000000000008 \n"
     ]
    },
    {
     "name": "stderr",
     "output_type": "stream",
     "text": [
      " 44%|████▍     | 220/500 [00:14<00:18, 15.10it/s]"
     ]
    },
    {
     "name": "stdout",
     "output_type": "stream",
     "text": [
      "rollout_avg_reward: -6.324852466583252 \n",
      "actor_loss: 1.4608690738677979 \n",
      "critic_loss: 0.22090142965316772 \n",
      "avg_action: 0.1445652173913044 \n"
     ]
    },
    {
     "name": "stderr",
     "output_type": "stream",
     "text": [
      " 45%|████▍     | 224/500 [00:14<00:18, 15.03it/s]"
     ]
    },
    {
     "name": "stdout",
     "output_type": "stream",
     "text": [
      "rollout_avg_reward: -6.332339763641357 \n",
      "actor_loss: 1.059301495552063 \n",
      "critic_loss: 0.22013996541500092 \n",
      "avg_action: 0.1445652173913044 \n"
     ]
    },
    {
     "name": "stderr",
     "output_type": "stream",
     "text": [
      " 46%|████▌     | 230/500 [00:14<00:18, 14.86it/s]"
     ]
    },
    {
     "name": "stdout",
     "output_type": "stream",
     "text": [
      "rollout_avg_reward: -6.35322380065918 \n",
      "actor_loss: 0.006293238140642643 \n",
      "critic_loss: 0.21557798981666565 \n",
      "avg_action: 0.15000000000000008 \n"
     ]
    },
    {
     "name": "stderr",
     "output_type": "stream",
     "text": [
      " 47%|████▋     | 234/500 [00:15<00:18, 14.49it/s]"
     ]
    },
    {
     "name": "stdout",
     "output_type": "stream",
     "text": [
      "rollout_avg_reward: -6.306711673736572 \n",
      "actor_loss: 0.008540515787899494 \n",
      "critic_loss: 0.22307893633842468 \n",
      "avg_action: 0.15000000000000008 \n"
     ]
    },
    {
     "name": "stderr",
     "output_type": "stream",
     "text": [
      " 48%|████▊     | 240/500 [00:15<00:17, 14.85it/s]"
     ]
    },
    {
     "name": "stdout",
     "output_type": "stream",
     "text": [
      "rollout_avg_reward: -6.271650314331055 \n",
      "actor_loss: 0.18123601377010345 \n",
      "critic_loss: 0.21103064715862274 \n",
      "avg_action: 0.1445652173913044 \n"
     ]
    },
    {
     "name": "stderr",
     "output_type": "stream",
     "text": [
      " 49%|████▉     | 244/500 [00:15<00:17, 14.96it/s]"
     ]
    },
    {
     "name": "stdout",
     "output_type": "stream",
     "text": [
      "rollout_avg_reward: -6.328509330749512 \n",
      "actor_loss: 0.00831796694546938 \n",
      "critic_loss: 0.2173067182302475 \n",
      "avg_action: 0.15000000000000008 \n"
     ]
    },
    {
     "name": "stderr",
     "output_type": "stream",
     "text": [
      " 50%|█████     | 250/500 [00:16<00:17, 14.71it/s]"
     ]
    },
    {
     "name": "stdout",
     "output_type": "stream",
     "text": [
      "rollout_avg_reward: -6.262092113494873 \n",
      "actor_loss: 0.015867743641138077 \n",
      "critic_loss: 0.22507460415363312 \n",
      "avg_action: 0.15000000000000008 \n"
     ]
    },
    {
     "name": "stderr",
     "output_type": "stream",
     "text": [
      " 50%|█████     | 252/500 [00:16<00:16, 14.63it/s]"
     ]
    },
    {
     "name": "stdout",
     "output_type": "stream",
     "text": [
      "Saving model on step: 250\n"
     ]
    },
    {
     "name": "stderr",
     "output_type": "stream",
     "text": [
      " 51%|█████     | 254/500 [00:16<00:16, 14.74it/s]"
     ]
    },
    {
     "name": "stdout",
     "output_type": "stream",
     "text": [
      "rollout_avg_reward: -6.293098449707031 \n",
      "actor_loss: 2.595078229904175 \n",
      "critic_loss: 0.22034862637519836 \n",
      "avg_action: 0.1445652173913044 \n"
     ]
    },
    {
     "name": "stderr",
     "output_type": "stream",
     "text": [
      " 52%|█████▏    | 260/500 [00:16<00:15, 15.02it/s]"
     ]
    },
    {
     "name": "stdout",
     "output_type": "stream",
     "text": [
      "rollout_avg_reward: -6.300543785095215 \n",
      "actor_loss: 0.01102706789970398 \n",
      "critic_loss: 0.21741841733455658 \n",
      "avg_action: 0.15000000000000008 \n"
     ]
    },
    {
     "name": "stderr",
     "output_type": "stream",
     "text": [
      " 53%|█████▎    | 264/500 [00:17<00:15, 14.97it/s]"
     ]
    },
    {
     "name": "stdout",
     "output_type": "stream",
     "text": [
      "rollout_avg_reward: -6.291092395782471 \n",
      "actor_loss: -0.5681391358375549 \n",
      "critic_loss: 0.20499885082244873 \n",
      "avg_action: 0.14347826086956528 \n"
     ]
    },
    {
     "name": "stderr",
     "output_type": "stream",
     "text": [
      " 54%|█████▍    | 270/500 [00:17<00:15, 14.89it/s]"
     ]
    },
    {
     "name": "stdout",
     "output_type": "stream",
     "text": [
      "rollout_avg_reward: -6.325394630432129 \n",
      "actor_loss: 1.2968672513961792 \n",
      "critic_loss: 0.20688238739967346 \n",
      "avg_action: 0.1445652173913044 \n"
     ]
    },
    {
     "name": "stderr",
     "output_type": "stream",
     "text": [
      " 55%|█████▍    | 274/500 [00:17<00:15, 15.04it/s]"
     ]
    },
    {
     "name": "stdout",
     "output_type": "stream",
     "text": [
      "rollout_avg_reward: -6.278061866760254 \n",
      "actor_loss: 0.0047512720339000225 \n",
      "critic_loss: 0.21569305658340454 \n",
      "avg_action: 0.15000000000000008 \n"
     ]
    },
    {
     "name": "stderr",
     "output_type": "stream",
     "text": [
      " 56%|█████▌    | 280/500 [00:18<00:14, 15.14it/s]"
     ]
    },
    {
     "name": "stdout",
     "output_type": "stream",
     "text": [
      "rollout_avg_reward: -6.304861068725586 \n",
      "actor_loss: 0.17442886531352997 \n",
      "critic_loss: 0.20245039463043213 \n",
      "avg_action: 0.1445652173913044 \n"
     ]
    },
    {
     "name": "stderr",
     "output_type": "stream",
     "text": [
      " 57%|█████▋    | 284/500 [00:18<00:14, 15.09it/s]"
     ]
    },
    {
     "name": "stdout",
     "output_type": "stream",
     "text": [
      "rollout_avg_reward: -6.247713088989258 \n",
      "actor_loss: 3.1577744483947754 \n",
      "critic_loss: 0.215462788939476 \n",
      "avg_action: 0.13586956521739138 \n"
     ]
    },
    {
     "name": "stderr",
     "output_type": "stream",
     "text": [
      " 58%|█████▊    | 290/500 [00:18<00:13, 15.12it/s]"
     ]
    },
    {
     "name": "stdout",
     "output_type": "stream",
     "text": [
      "rollout_avg_reward: -6.326873779296875 \n",
      "actor_loss: 0.01194774080067873 \n",
      "critic_loss: 0.2057270109653473 \n",
      "avg_action: 0.15000000000000008 \n"
     ]
    },
    {
     "name": "stderr",
     "output_type": "stream",
     "text": [
      " 59%|█████▉    | 294/500 [00:19<00:13, 15.04it/s]"
     ]
    },
    {
     "name": "stdout",
     "output_type": "stream",
     "text": [
      "rollout_avg_reward: -6.3400559425354 \n",
      "actor_loss: 0.008346601389348507 \n",
      "critic_loss: 0.2028244435787201 \n",
      "avg_action: 0.15000000000000008 \n"
     ]
    },
    {
     "name": "stderr",
     "output_type": "stream",
     "text": [
      " 60%|██████    | 300/500 [00:19<00:13, 15.36it/s]"
     ]
    },
    {
     "name": "stdout",
     "output_type": "stream",
     "text": [
      "rollout_avg_reward: -6.335838317871094 \n",
      "actor_loss: 1.352155327796936 \n",
      "critic_loss: 0.20243093371391296 \n",
      "avg_action: 0.1445652173913044 \n"
     ]
    },
    {
     "name": "stderr",
     "output_type": "stream",
     "text": [
      " 60%|██████    | 302/500 [00:19<00:13, 14.64it/s]"
     ]
    },
    {
     "name": "stdout",
     "output_type": "stream",
     "text": [
      "Saving model on step: 300\n"
     ]
    },
    {
     "name": "stderr",
     "output_type": "stream",
     "text": [
      " 61%|██████    | 304/500 [00:19<00:13, 14.40it/s]"
     ]
    },
    {
     "name": "stdout",
     "output_type": "stream",
     "text": [
      "rollout_avg_reward: -6.273626327514648 \n",
      "actor_loss: 0.009974253363907337 \n",
      "critic_loss: 0.2073495090007782 \n",
      "avg_action: 0.15000000000000008 \n"
     ]
    },
    {
     "name": "stderr",
     "output_type": "stream",
     "text": [
      " 62%|██████▏   | 310/500 [00:20<00:14, 12.77it/s]"
     ]
    },
    {
     "name": "stdout",
     "output_type": "stream",
     "text": [
      "rollout_avg_reward: -6.25831413269043 \n",
      "actor_loss: 0.9501128792762756 \n",
      "critic_loss: 0.2062530368566513 \n",
      "avg_action: 0.1445652173913044 \n"
     ]
    },
    {
     "name": "stderr",
     "output_type": "stream",
     "text": [
      " 63%|██████▎   | 314/500 [00:20<00:13, 13.77it/s]"
     ]
    },
    {
     "name": "stdout",
     "output_type": "stream",
     "text": [
      "rollout_avg_reward: -6.323946952819824 \n",
      "actor_loss: -0.014589617028832436 \n",
      "critic_loss: 0.20187103748321533 \n",
      "avg_action: 0.15000000000000008 \n"
     ]
    },
    {
     "name": "stderr",
     "output_type": "stream",
     "text": [
      " 64%|██████▍   | 320/500 [00:21<00:11, 15.02it/s]"
     ]
    },
    {
     "name": "stdout",
     "output_type": "stream",
     "text": [
      "rollout_avg_reward: -6.362182140350342 \n",
      "actor_loss: 0.017358064651489258 \n",
      "critic_loss: 0.19558461010456085 \n",
      "avg_action: 0.15000000000000008 \n"
     ]
    },
    {
     "name": "stderr",
     "output_type": "stream",
     "text": [
      " 65%|██████▍   | 324/500 [00:21<00:11, 15.39it/s]"
     ]
    },
    {
     "name": "stdout",
     "output_type": "stream",
     "text": [
      "rollout_avg_reward: -6.3154401779174805 \n",
      "actor_loss: -0.024008341133594513 \n",
      "critic_loss: 0.2009137123823166 \n",
      "avg_action: 0.15000000000000008 \n"
     ]
    },
    {
     "name": "stderr",
     "output_type": "stream",
     "text": [
      " 66%|██████▌   | 330/500 [00:21<00:10, 15.54it/s]"
     ]
    },
    {
     "name": "stdout",
     "output_type": "stream",
     "text": [
      "rollout_avg_reward: -6.299347877502441 \n",
      "actor_loss: -0.9033254384994507 \n",
      "critic_loss: 0.1899956613779068 \n",
      "avg_action: 0.13913043478260875 \n"
     ]
    },
    {
     "name": "stderr",
     "output_type": "stream",
     "text": [
      " 67%|██████▋   | 334/500 [00:21<00:10, 15.53it/s]"
     ]
    },
    {
     "name": "stdout",
     "output_type": "stream",
     "text": [
      "rollout_avg_reward: -6.221053600311279 \n",
      "actor_loss: -0.7061769366264343 \n",
      "critic_loss: 0.20758603513240814 \n",
      "avg_action: 0.14130434782608703 \n"
     ]
    },
    {
     "name": "stderr",
     "output_type": "stream",
     "text": [
      " 68%|██████▊   | 340/500 [00:22<00:10, 15.52it/s]"
     ]
    },
    {
     "name": "stdout",
     "output_type": "stream",
     "text": [
      "rollout_avg_reward: -6.2457780838012695 \n",
      "actor_loss: 3.180182456970215 \n",
      "critic_loss: 0.19337107241153717 \n",
      "avg_action: 0.13478260869565223 \n"
     ]
    },
    {
     "name": "stderr",
     "output_type": "stream",
     "text": [
      " 69%|██████▉   | 344/500 [00:22<00:10, 15.31it/s]"
     ]
    },
    {
     "name": "stdout",
     "output_type": "stream",
     "text": [
      "rollout_avg_reward: -6.271213531494141 \n",
      "actor_loss: -0.3717525899410248 \n",
      "critic_loss: 0.18940375745296478 \n",
      "avg_action: 0.1445652173913044 \n"
     ]
    },
    {
     "name": "stderr",
     "output_type": "stream",
     "text": [
      " 70%|███████   | 350/500 [00:23<00:09, 15.07it/s]"
     ]
    },
    {
     "name": "stdout",
     "output_type": "stream",
     "text": [
      "rollout_avg_reward: -6.217129230499268 \n",
      "actor_loss: -0.39908650517463684 \n",
      "critic_loss: 0.19188211858272552 \n",
      "avg_action: 0.14239130434782615 \n"
     ]
    },
    {
     "name": "stderr",
     "output_type": "stream",
     "text": [
      " 70%|███████   | 352/500 [00:23<00:09, 14.91it/s]"
     ]
    },
    {
     "name": "stdout",
     "output_type": "stream",
     "text": [
      "Saving model on step: 350\n"
     ]
    },
    {
     "name": "stderr",
     "output_type": "stream",
     "text": [
      " 71%|███████   | 354/500 [00:23<00:09, 14.96it/s]"
     ]
    },
    {
     "name": "stdout",
     "output_type": "stream",
     "text": [
      "rollout_avg_reward: -6.166164398193359 \n",
      "actor_loss: 2.3828840255737305 \n",
      "critic_loss: 0.19794730842113495 \n",
      "avg_action: 0.13586956521739138 \n"
     ]
    },
    {
     "name": "stderr",
     "output_type": "stream",
     "text": [
      " 72%|███████▏  | 360/500 [00:23<00:09, 15.19it/s]"
     ]
    },
    {
     "name": "stdout",
     "output_type": "stream",
     "text": [
      "rollout_avg_reward: -6.215855598449707 \n",
      "actor_loss: 2.7812511920928955 \n",
      "critic_loss: 0.193010613322258 \n",
      "avg_action: 0.1336956521739131 \n"
     ]
    },
    {
     "name": "stderr",
     "output_type": "stream",
     "text": [
      " 73%|███████▎  | 364/500 [00:23<00:08, 15.13it/s]"
     ]
    },
    {
     "name": "stdout",
     "output_type": "stream",
     "text": [
      "rollout_avg_reward: -6.2581892013549805 \n",
      "actor_loss: -0.8265595436096191 \n",
      "critic_loss: 0.19427648186683655 \n",
      "avg_action: 0.1445652173913044 \n"
     ]
    },
    {
     "name": "stderr",
     "output_type": "stream",
     "text": [
      " 74%|███████▍  | 370/500 [00:24<00:08, 15.24it/s]"
     ]
    },
    {
     "name": "stdout",
     "output_type": "stream",
     "text": [
      "rollout_avg_reward: -6.262995719909668 \n",
      "actor_loss: 0.008468959480524063 \n",
      "critic_loss: 0.1848880499601364 \n",
      "avg_action: 0.1336956521739131 \n"
     ]
    },
    {
     "name": "stderr",
     "output_type": "stream",
     "text": [
      " 75%|███████▍  | 374/500 [00:24<00:08, 15.40it/s]"
     ]
    },
    {
     "name": "stdout",
     "output_type": "stream",
     "text": [
      "rollout_avg_reward: -6.3042168617248535 \n",
      "actor_loss: 0.4519616961479187 \n",
      "critic_loss: 0.1880347579717636 \n",
      "avg_action: 0.1445652173913044 \n"
     ]
    },
    {
     "name": "stderr",
     "output_type": "stream",
     "text": [
      " 76%|███████▌  | 380/500 [00:25<00:07, 15.48it/s]"
     ]
    },
    {
     "name": "stdout",
     "output_type": "stream",
     "text": [
      "rollout_avg_reward: -6.333642482757568 \n",
      "actor_loss: -0.02539954148232937 \n",
      "critic_loss: 0.1867707073688507 \n",
      "avg_action: 0.15000000000000008 \n"
     ]
    },
    {
     "name": "stderr",
     "output_type": "stream",
     "text": [
      " 77%|███████▋  | 384/500 [00:25<00:07, 15.48it/s]"
     ]
    },
    {
     "name": "stdout",
     "output_type": "stream",
     "text": [
      "rollout_avg_reward: -6.3079094886779785 \n",
      "actor_loss: -0.06550249457359314 \n",
      "critic_loss: 0.19143031537532806 \n",
      "avg_action: 0.15000000000000008 \n"
     ]
    },
    {
     "name": "stderr",
     "output_type": "stream",
     "text": [
      " 78%|███████▊  | 390/500 [00:25<00:07, 15.55it/s]"
     ]
    },
    {
     "name": "stdout",
     "output_type": "stream",
     "text": [
      "rollout_avg_reward: -6.258065223693848 \n",
      "actor_loss: 1.4805344343185425 \n",
      "critic_loss: 0.18770593404769897 \n",
      "avg_action: 0.141304347826087 \n"
     ]
    },
    {
     "name": "stderr",
     "output_type": "stream",
     "text": [
      " 79%|███████▉  | 394/500 [00:25<00:06, 15.51it/s]"
     ]
    },
    {
     "name": "stdout",
     "output_type": "stream",
     "text": [
      "rollout_avg_reward: -6.266571044921875 \n",
      "actor_loss: 0.23210397362709045 \n",
      "critic_loss: 0.17841987311840057 \n",
      "avg_action: 0.14347826086956528 \n"
     ]
    },
    {
     "name": "stderr",
     "output_type": "stream",
     "text": [
      " 80%|████████  | 400/500 [00:26<00:06, 15.45it/s]"
     ]
    },
    {
     "name": "stdout",
     "output_type": "stream",
     "text": [
      "rollout_avg_reward: -6.271927833557129 \n",
      "actor_loss: 2.357785701751709 \n",
      "critic_loss: 0.18012180924415588 \n",
      "avg_action: 0.1304347826086957 \n"
     ]
    },
    {
     "name": "stderr",
     "output_type": "stream",
     "text": [
      " 80%|████████  | 402/500 [00:26<00:06, 15.28it/s]"
     ]
    },
    {
     "name": "stdout",
     "output_type": "stream",
     "text": [
      "Saving model on step: 400\n"
     ]
    },
    {
     "name": "stderr",
     "output_type": "stream",
     "text": [
      " 81%|████████  | 404/500 [00:26<00:06, 15.17it/s]"
     ]
    },
    {
     "name": "stdout",
     "output_type": "stream",
     "text": [
      "rollout_avg_reward: -6.20742654800415 \n",
      "actor_loss: 1.2290031909942627 \n",
      "critic_loss: 0.18735720217227936 \n",
      "avg_action: 0.13586956521739138 \n"
     ]
    },
    {
     "name": "stderr",
     "output_type": "stream",
     "text": [
      " 82%|████████▏ | 410/500 [00:26<00:06, 14.70it/s]"
     ]
    },
    {
     "name": "stdout",
     "output_type": "stream",
     "text": [
      "rollout_avg_reward: -6.228073596954346 \n",
      "actor_loss: -0.5391523241996765 \n",
      "critic_loss: 0.17746423184871674 \n",
      "avg_action: 0.13913043478260875 \n"
     ]
    },
    {
     "name": "stderr",
     "output_type": "stream",
     "text": [
      " 83%|████████▎ | 414/500 [00:27<00:05, 14.82it/s]"
     ]
    },
    {
     "name": "stdout",
     "output_type": "stream",
     "text": [
      "rollout_avg_reward: -6.241997241973877 \n",
      "actor_loss: 2.3166892528533936 \n",
      "critic_loss: 0.1861732453107834 \n",
      "avg_action: 0.13586956521739138 \n"
     ]
    },
    {
     "name": "stderr",
     "output_type": "stream",
     "text": [
      " 84%|████████▍ | 420/500 [00:27<00:05, 15.35it/s]"
     ]
    },
    {
     "name": "stdout",
     "output_type": "stream",
     "text": [
      "rollout_avg_reward: -6.169491767883301 \n",
      "actor_loss: 1.0944761037826538 \n",
      "critic_loss: 0.17196258902549744 \n",
      "avg_action: 0.13043478260869573 \n"
     ]
    },
    {
     "name": "stderr",
     "output_type": "stream",
     "text": [
      " 85%|████████▍ | 424/500 [00:27<00:04, 15.55it/s]"
     ]
    },
    {
     "name": "stdout",
     "output_type": "stream",
     "text": [
      "rollout_avg_reward: -6.035693168640137 \n",
      "actor_loss: -0.46579068899154663 \n",
      "critic_loss: 0.1754601150751114 \n",
      "avg_action: 0.12826086956521743 \n"
     ]
    },
    {
     "name": "stderr",
     "output_type": "stream",
     "text": [
      " 86%|████████▌ | 430/500 [00:28<00:04, 15.59it/s]"
     ]
    },
    {
     "name": "stdout",
     "output_type": "stream",
     "text": [
      "rollout_avg_reward: -6.275537014007568 \n",
      "actor_loss: 0.24418042600154877 \n",
      "critic_loss: 0.18052762746810913 \n",
      "avg_action: 0.13804347826086963 \n"
     ]
    },
    {
     "name": "stderr",
     "output_type": "stream",
     "text": [
      " 87%|████████▋ | 434/500 [00:28<00:04, 15.46it/s]"
     ]
    },
    {
     "name": "stdout",
     "output_type": "stream",
     "text": [
      "rollout_avg_reward: -6.32613468170166 \n",
      "actor_loss: -0.10771001130342484 \n",
      "critic_loss: 0.18420638144016266 \n",
      "avg_action: 0.15000000000000008 \n"
     ]
    },
    {
     "name": "stderr",
     "output_type": "stream",
     "text": [
      " 88%|████████▊ | 440/500 [00:28<00:03, 15.66it/s]"
     ]
    },
    {
     "name": "stdout",
     "output_type": "stream",
     "text": [
      "rollout_avg_reward: -6.32093620300293 \n",
      "actor_loss: -0.6203336119651794 \n",
      "critic_loss: 0.18469727039337158 \n",
      "avg_action: 0.1445652173913044 \n"
     ]
    },
    {
     "name": "stderr",
     "output_type": "stream",
     "text": [
      " 89%|████████▉ | 444/500 [00:29<00:03, 15.53it/s]"
     ]
    },
    {
     "name": "stdout",
     "output_type": "stream",
     "text": [
      "rollout_avg_reward: -6.182525634765625 \n",
      "actor_loss: 0.19684846699237823 \n",
      "critic_loss: 0.16978725790977478 \n",
      "avg_action: 0.12934782608695658 \n"
     ]
    },
    {
     "name": "stderr",
     "output_type": "stream",
     "text": [
      " 90%|█████████ | 450/500 [00:29<00:03, 15.70it/s]"
     ]
    },
    {
     "name": "stdout",
     "output_type": "stream",
     "text": [
      "rollout_avg_reward: -6.319113254547119 \n",
      "actor_loss: -0.558914840221405 \n",
      "critic_loss: 0.18876264989376068 \n",
      "avg_action: 0.13586956521739138 \n"
     ]
    },
    {
     "name": "stderr",
     "output_type": "stream",
     "text": [
      " 91%|█████████ | 454/500 [00:29<00:02, 15.78it/s]"
     ]
    },
    {
     "name": "stdout",
     "output_type": "stream",
     "text": [
      "Saving model on step: 450\n",
      "rollout_avg_reward: -6.219179630279541 \n",
      "actor_loss: 2.799694538116455 \n",
      "critic_loss: 0.17563533782958984 \n",
      "avg_action: 0.12717391304347833 \n"
     ]
    },
    {
     "name": "stderr",
     "output_type": "stream",
     "text": [
      " 92%|█████████▏| 460/500 [00:30<00:02, 15.48it/s]"
     ]
    },
    {
     "name": "stdout",
     "output_type": "stream",
     "text": [
      "rollout_avg_reward: -6.130755424499512 \n",
      "actor_loss: 0.5213409066200256 \n",
      "critic_loss: 0.17838521301746368 \n",
      "avg_action: 0.12500000000000008 \n"
     ]
    },
    {
     "name": "stderr",
     "output_type": "stream",
     "text": [
      " 93%|█████████▎| 464/500 [00:30<00:02, 15.54it/s]"
     ]
    },
    {
     "name": "stdout",
     "output_type": "stream",
     "text": [
      "rollout_avg_reward: -6.21030330657959 \n",
      "actor_loss: 1.2742515802383423 \n",
      "critic_loss: 0.16840223968029022 \n",
      "avg_action: 0.13913043478260875 \n"
     ]
    },
    {
     "name": "stderr",
     "output_type": "stream",
     "text": [
      " 94%|█████████▍| 470/500 [00:30<00:01, 15.73it/s]"
     ]
    },
    {
     "name": "stdout",
     "output_type": "stream",
     "text": [
      "rollout_avg_reward: -6.007822036743164 \n",
      "actor_loss: 4.747883319854736 \n",
      "critic_loss: 0.2091170847415924 \n",
      "avg_action: 0.11521739130434788 \n"
     ]
    },
    {
     "name": "stderr",
     "output_type": "stream",
     "text": [
      " 95%|█████████▍| 474/500 [00:31<00:01, 15.77it/s]"
     ]
    },
    {
     "name": "stdout",
     "output_type": "stream",
     "text": [
      "rollout_avg_reward: -6.195594787597656 \n",
      "actor_loss: -2.2205495834350586 \n",
      "critic_loss: 0.17131218314170837 \n",
      "avg_action: 0.13804347826086963 \n"
     ]
    },
    {
     "name": "stderr",
     "output_type": "stream",
     "text": [
      " 96%|█████████▌| 480/500 [00:31<00:01, 15.78it/s]"
     ]
    },
    {
     "name": "stdout",
     "output_type": "stream",
     "text": [
      "rollout_avg_reward: -6.190752983093262 \n",
      "actor_loss: 0.7600062489509583 \n",
      "critic_loss: 0.1698765903711319 \n",
      "avg_action: 0.13260869565217398 \n"
     ]
    },
    {
     "name": "stderr",
     "output_type": "stream",
     "text": [
      " 97%|█████████▋| 484/500 [00:31<00:01, 15.57it/s]"
     ]
    },
    {
     "name": "stdout",
     "output_type": "stream",
     "text": [
      "rollout_avg_reward: -6.095770835876465 \n",
      "actor_loss: -2.270416259765625 \n",
      "critic_loss: 0.17505666613578796 \n",
      "avg_action: 0.1086956521739131 \n"
     ]
    },
    {
     "name": "stderr",
     "output_type": "stream",
     "text": [
      " 98%|█████████▊| 490/500 [00:32<00:00, 15.64it/s]"
     ]
    },
    {
     "name": "stdout",
     "output_type": "stream",
     "text": [
      "rollout_avg_reward: -6.136177062988281 \n",
      "actor_loss: 1.5819461345672607 \n",
      "critic_loss: 0.16751906275749207 \n",
      "avg_action: 0.12173913043478268 \n"
     ]
    },
    {
     "name": "stderr",
     "output_type": "stream",
     "text": [
      " 99%|█████████▉| 494/500 [00:32<00:00, 15.67it/s]"
     ]
    },
    {
     "name": "stdout",
     "output_type": "stream",
     "text": [
      "rollout_avg_reward: -6.0805344581604 \n",
      "actor_loss: 1.6488163471221924 \n",
      "critic_loss: 0.15265648066997528 \n",
      "avg_action: 0.10543478260869572 \n"
     ]
    },
    {
     "name": "stderr",
     "output_type": "stream",
     "text": [
      "100%|██████████| 500/500 [00:32<00:00, 15.26it/s]"
     ]
    },
    {
     "name": "stdout",
     "output_type": "stream",
     "text": [
      "A2C training completed\n"
     ]
    },
    {
     "name": "stderr",
     "output_type": "stream",
     "text": [
      "\n"
     ]
    }
   ],
   "source": [
    "import traceback\n",
    "\n",
    "from src.environments.mg_simple import MGSimple\n",
    "from src.rl.a2c.d_mg_simple import Agent, set_all_seeds\n",
    "\n",
    "# Get arguments from command line\n",
    "\n",
    "disable_logging = True\n",
    "batch_size = 2\n",
    "training_steps = 500\n",
    "rollout_steps = 24\n",
    "actor_lr = 0.0001\n",
    "critic_lr = 0.001\n",
    "actor_nn = 64\n",
    "critic_nn = 64\n",
    "gamma = 1\n",
    "enable_gpu = True\n",
    "central_agent = False # Not needed yet\n",
    "random_starting_step = True # Need to be refactored to random soc_0\n",
    "encoding = False # Not needed yet\n",
    "extended_observation = False # Not needed yet\n",
    "epsilon = 0.01\n",
    "\n",
    "# Start wandb logger\n",
    "\n",
    "try:\n",
    "\n",
    "    '''\n",
    "        Setup all the configurations for Wandb\n",
    "    '''\n",
    "\n",
    "    wdb_config={\n",
    "        \"training_steps\": training_steps,\n",
    "        \"batch_size\": batch_size,\n",
    "        \"rollout_steps\": rollout_steps,\n",
    "        \"agent_actor_lr\": actor_lr,\n",
    "        \"agent_critic_lr\": critic_lr,\n",
    "        \"agent_actor_nn\": actor_nn,\n",
    "        \"agent_critic_nn\": critic_nn,\n",
    "        \"gamma\": gamma,\n",
    "        \"central_agent\": central_agent,\n",
    "        \"random_starting_step\": random_starting_step,\n",
    "        \"encoding\": encoding,\n",
    "        \"extended_observation\": extended_observation,\n",
    "        \"epsilon\": epsilon,\n",
    "    }\n",
    "\n",
    "    '''\n",
    "        Run the simulator\n",
    "    '''\n",
    "\n",
    "    set_all_seeds(0)\n",
    "\n",
    "    # Instantiate the environment\n",
    "\n",
    "    my_env = MGSimple(batch_size=batch_size, steps = rollout_steps, min_temp = 29, max_temp = 31, peak_pv_gen = 1, peak_conv_gen = 1, peak_load = 1)\n",
    "\n",
    "    # Instantiate the agent\n",
    "\n",
    "    agent = Agent(\n",
    "        env=my_env, critic_lr=critic_lr, actor_lr=actor_lr, actor_nn=actor_nn, critic_nn=critic_nn, batch_size=batch_size, gamma=gamma,\n",
    "        extended_obs=extended_observation, wandb_dict=wdb_config, enable_gpu=enable_gpu, disable_wandb=disable_logging,\n",
    "    )\n",
    "\n",
    "    # Launch the training\n",
    "\n",
    "    all_states, all_rewards, all_actions = agent.train(training_steps=training_steps, epsilon=epsilon)\n",
    "\n",
    "    # Finish Wandb execution\n",
    "\n",
    "    agent.wdb_logger.finish()\n",
    "\n",
    "except (RuntimeError, KeyboardInterrupt):\n",
    "\n",
    "    traceback.print_exc()\n",
    "\n",
    "print('A2C training completed')"
   ]
  },
  {
   "cell_type": "code",
   "execution_count": 21,
   "metadata": {},
   "outputs": [
    {
     "data": {
      "text/plain": [
       "(500, 23, 1)"
      ]
     },
     "execution_count": 21,
     "metadata": {},
     "output_type": "execute_result"
    }
   ],
   "source": [
    "np.stack(all_rewards).squeeze(axis=-1).shape"
   ]
  },
  {
   "cell_type": "code",
   "execution_count": 14,
   "metadata": {},
   "outputs": [
    {
     "ename": "IndexError",
     "evalue": "too many indices for array: array is 2-dimensional, but 3 were indexed",
     "output_type": "error",
     "traceback": [
      "\u001b[0;31m---------------------------------------------------------------------------\u001b[0m",
      "\u001b[0;31mIndexError\u001b[0m                                Traceback (most recent call last)",
      "\u001b[1;32m/home/madog/Dev/repos/python/mbzuai-rl-research/src/notebooks/test-simple-env.ipynb Cell 10\u001b[0m in \u001b[0;36m<cell line: 5>\u001b[0;34m()\u001b[0m\n\u001b[1;32m      <a href='vscode-notebook-cell:/home/madog/Dev/repos/python/mbzuai-rl-research/src/notebooks/test-simple-env.ipynb#X10sZmlsZQ%3D%3D?line=1'>2</a>\u001b[0m all_actions \u001b[39m=\u001b[39m np\u001b[39m.\u001b[39mstack(all_actions, axis\u001b[39m=\u001b[39m\u001b[39m0\u001b[39m)\u001b[39m.\u001b[39msqueeze()\n\u001b[1;32m      <a href='vscode-notebook-cell:/home/madog/Dev/repos/python/mbzuai-rl-research/src/notebooks/test-simple-env.ipynb#X10sZmlsZQ%3D%3D?line=2'>3</a>\u001b[0m all_states \u001b[39m=\u001b[39m np\u001b[39m.\u001b[39mstack(all_states, axis\u001b[39m=\u001b[39m\u001b[39m0\u001b[39m)\u001b[39m.\u001b[39msqueeze()\n\u001b[0;32m----> <a href='vscode-notebook-cell:/home/madog/Dev/repos/python/mbzuai-rl-research/src/notebooks/test-simple-env.ipynb#X10sZmlsZQ%3D%3D?line=4'>5</a>\u001b[0m plt\u001b[39m.\u001b[39mplot(all_rewards[\u001b[39m0\u001b[39;49m,:,\u001b[39m0\u001b[39;49m], label\u001b[39m=\u001b[39m\u001b[39m'\u001b[39m\u001b[39mreward 0 0\u001b[39m\u001b[39m'\u001b[39m)\n\u001b[1;32m      <a href='vscode-notebook-cell:/home/madog/Dev/repos/python/mbzuai-rl-research/src/notebooks/test-simple-env.ipynb#X10sZmlsZQ%3D%3D?line=5'>6</a>\u001b[0m plt\u001b[39m.\u001b[39mplot(all_rewards[\u001b[39m250\u001b[39m,:,\u001b[39m0\u001b[39m], label\u001b[39m=\u001b[39m\u001b[39m'\u001b[39m\u001b[39mreward 250 0\u001b[39m\u001b[39m'\u001b[39m)\n\u001b[1;32m      <a href='vscode-notebook-cell:/home/madog/Dev/repos/python/mbzuai-rl-research/src/notebooks/test-simple-env.ipynb#X10sZmlsZQ%3D%3D?line=6'>7</a>\u001b[0m plt\u001b[39m.\u001b[39mplot(all_rewards[\u001b[39m499\u001b[39m,:,\u001b[39m0\u001b[39m], label\u001b[39m=\u001b[39m\u001b[39m'\u001b[39m\u001b[39mreward 499 0\u001b[39m\u001b[39m'\u001b[39m)\n",
      "\u001b[0;31mIndexError\u001b[0m: too many indices for array: array is 2-dimensional, but 3 were indexed"
     ]
    }
   ],
   "source": [
    "all_rewards = np.stack(all_rewards, axis=0).squeeze()\n",
    "all_actions = np.stack(all_actions, axis=0).squeeze()\n",
    "all_states = np.stack(all_states, axis=0).squeeze()\n",
    "\n",
    "plt.plot(all_rewards[0,:,0], label='reward 0 0')\n",
    "plt.plot(all_rewards[250,:,0], label='reward 250 0')\n",
    "plt.plot(all_rewards[499,:,0], label='reward 499 0')\n",
    "plt.legend()\n",
    "plt.show()"
   ]
  },
  {
   "cell_type": "code",
   "execution_count": null,
   "metadata": {},
   "outputs": [],
   "source": [
    "all_rewards[:,:,0]"
   ]
  },
  {
   "cell_type": "code",
   "execution_count": 13,
   "metadata": {},
   "outputs": [
    {
     "ename": "TypeError",
     "evalue": "list indices must be integers or slices, not tuple",
     "output_type": "error",
     "traceback": [
      "\u001b[0;31m---------------------------------------------------------------------------\u001b[0m",
      "\u001b[0;31mTypeError\u001b[0m                                 Traceback (most recent call last)",
      "\u001b[1;32m/home/madog/Dev/repos/python/mbzuai-rl-research/src/notebooks/test-simple-env.ipynb Cell 12\u001b[0m in \u001b[0;36m<cell line: 1>\u001b[0;34m()\u001b[0m\n\u001b[0;32m----> <a href='vscode-notebook-cell:/home/madog/Dev/repos/python/mbzuai-rl-research/src/notebooks/test-simple-env.ipynb#X11sZmlsZQ%3D%3D?line=0'>1</a>\u001b[0m plt\u001b[39m.\u001b[39mplot(all_actions[\u001b[39m0\u001b[39;49m,:,\u001b[39m0\u001b[39;49m], label\u001b[39m=\u001b[39m\u001b[39m'\u001b[39m\u001b[39mactions 0\u001b[39m\u001b[39m'\u001b[39m)\n\u001b[1;32m      <a href='vscode-notebook-cell:/home/madog/Dev/repos/python/mbzuai-rl-research/src/notebooks/test-simple-env.ipynb#X11sZmlsZQ%3D%3D?line=1'>2</a>\u001b[0m plt\u001b[39m.\u001b[39mplot(all_actions[\u001b[39m250\u001b[39m,:,\u001b[39m0\u001b[39m], label\u001b[39m=\u001b[39m\u001b[39m'\u001b[39m\u001b[39mactions 250\u001b[39m\u001b[39m'\u001b[39m)\n\u001b[1;32m      <a href='vscode-notebook-cell:/home/madog/Dev/repos/python/mbzuai-rl-research/src/notebooks/test-simple-env.ipynb#X11sZmlsZQ%3D%3D?line=2'>3</a>\u001b[0m plt\u001b[39m.\u001b[39mplot(all_actions[\u001b[39m499\u001b[39m,:,\u001b[39m0\u001b[39m], label\u001b[39m=\u001b[39m\u001b[39m'\u001b[39m\u001b[39mactions 499\u001b[39m\u001b[39m'\u001b[39m)\n",
      "\u001b[0;31mTypeError\u001b[0m: list indices must be integers or slices, not tuple"
     ]
    }
   ],
   "source": [
    "plt.plot(all_actions[0,:,0], label='actions 0')\n",
    "plt.plot(all_actions[250,:,0], label='actions 250')\n",
    "plt.plot(all_actions[499,:,0], label='actions 499')\n",
    "plt.legend()\n",
    "plt.show()"
   ]
  },
  {
   "cell_type": "code",
   "execution_count": 10,
   "metadata": {},
   "outputs": [
    {
     "data": {
      "image/png": "[encoded data removed]",
      "text/plain": [
       "<Figure size 640x480 with 1 Axes>"
      ]
     },
     "metadata": {},
     "output_type": "display_data"
    }
   ],
   "source": [
    "all_socs = all_states[:,:,:,8]\n",
    "\n",
    "plt.plot(all_socs[0,:,0], label='soc 0')\n",
    "plt.plot(all_socs[250,:,0], label='soc 250')\n",
    "plt.plot(all_socs[499,:,0], label='soc 499')\n",
    "plt.legend()\n",
    "plt.show()"
   ]
  },
  {
   "cell_type": "code",
   "execution_count": 4,
   "metadata": {},
   "outputs": [
    {
     "data": {
      "image/png": "[encoded data removed]",
      "text/plain": [
       "<Figure size 640x480 with 1 Axes>"
      ]
     },
     "metadata": {},
     "output_type": "display_data"
    }
   ],
   "source": [
    "all_net_energy = all_states[:,:,:,4]\n",
    "remaining_energy = my_env.mg.remaining_energy\n",
    "\n",
    "plt.plot(remaining_energy, label='remaining energy')\n",
    "plt.plot(all_net_energy[0,:,0], label='net energy 0')\n",
    "plt.plot(all_net_energy[250,:,0], label='net energy 250')\n",
    "plt.plot(all_net_energy[499,:,0], label='net energy 499')\n",
    "plt.legend()\n",
    "plt.show()"
   ]
  },
  {
   "cell_type": "code",
   "execution_count": null,
   "metadata": {},
   "outputs": [],
   "source": [
    "remaining_energy = my_env.mg.remaining_energy\n",
    "\n",
    "plt.plot(remaining_energy, label='remaining energy')\n",
    "plt.legend()\n",
    "plt.show()"
   ]
  }
 ],
 "metadata": {
  "kernelspec": {
   "display_name": "Python 3.10.6 ('rl_energy')",
   "language": "python",
   "name": "python3"
  },
  "language_info": {
   "codemirror_mode": {
    "name": "ipython",
    "version": 3
   },
   "file_extension": ".py",
   "mimetype": "text/x-python",
   "name": "python",
   "nbconvert_exporter": "python",
   "pygments_lexer": "ipython3",
   "version": "3.10.6"
  },
  "orig_nbformat": 4,
  "vscode": {
   "interpreter": {
    "hash": "c90140d1e60c0c8ac8d9973d206ea730577da1ef55aede4e552f1f53ef485e21"
   }
  }
 },
 "nbformat": 4,
 "nbformat_minor": 2
}
