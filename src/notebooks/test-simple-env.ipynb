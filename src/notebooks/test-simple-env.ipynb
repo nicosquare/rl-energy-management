{
 "cells": [
  {
   "cell_type": "code",
   "execution_count": 1,
   "metadata": {},
   "outputs": [
    {
     "name": "stderr",
     "output_type": "stream",
     "text": [
      "/home/roberto.guillen/.conda/envs/bcte/lib/python3.8/site-packages/tqdm/auto.py:22: TqdmWarning: IProgress not found. Please update jupyter and ipywidgets. See https://ipywidgets.readthedocs.io/en/stable/user_install.html\n",
      "  from .autonotebook import tqdm as notebook_tqdm\n"
     ]
    }
   ],
   "source": [
    "import numpy as np\n",
    "\n",
    "from matplotlib import pyplot as plt\n",
    "from src.environments.mg_simple import MGSimple\n",
    "from src.rl.a2c.c_mg_simple import set_all_seeds\n"
   ]
  },
  {
   "cell_type": "markdown",
   "metadata": {},
   "source": [
    "## Zero agent"
   ]
  },
  {
   "cell_type": "code",
   "execution_count": 2,
   "metadata": {},
   "outputs": [
    {
     "data": {
      "text/plain": [
       "-1.2022466296243146"
      ]
     },
     "execution_count": 2,
     "metadata": {},
     "output_type": "execute_result"
    }
   ],
   "source": [
    "set_all_seeds(0)\n",
    "batch_size = 1\n",
    "env = MGSimple(batch_size=batch_size, steps=24, min_temp=29, max_temp=31, peak_pv_gen=1, peak_grid_gen=1, peak_load=1, disable_noise=True)\n",
    "\n",
    "# Initialize states and rewards\n",
    "\n",
    "state_0, r_0, done, _ = env.reset()\n",
    "\n",
    "states_za, rewards_za, actions_za = [], [], []\n",
    "states_za.append(state_0)\n",
    "rewards_za.append(r_0)\n",
    "while not done:\n",
    "\n",
    "    action = np.zeros((batch_size, 1))\n",
    "\n",
    "    s_t, r_t, done, _ = env.step(action)\n",
    "\n",
    "    states_za.append(s_t)\n",
    "    rewards_za.append(r_t)\n",
    "    actions_za.append(action)\n",
    "\n",
    "states_za = np.stack(states_za, axis=1)\n",
    "rewards_za = np.stack(rewards_za, axis=1)\n",
    "actions_za = np.stack(actions_za, axis=1)\n",
    "rewards_za.sum()"
   ]
  },
  {
   "cell_type": "code",
   "execution_count": 3,
   "metadata": {},
   "outputs": [
    {
     "data": {
      "text/plain": [
       "array([ 0.        , -0.03371715, -0.03411645, -0.03384663, -0.03370772,\n",
       "       -0.03341677, -0.05795015, -0.20955795, -0.29083287,  0.01090137,\n",
       "        0.02454354,  0.01956496,  0.02142063,  0.02123992,  0.01902277,\n",
       "        0.02371799,  0.00578379, -0.08494636, -0.12693972, -0.09762758,\n",
       "       -0.11416803, -0.09810868, -0.05831798, -0.04118755])"
      ]
     },
     "execution_count": 3,
     "metadata": {},
     "output_type": "execute_result"
    }
   ],
   "source": [
    "rewards_za.squeeze()"
   ]
  },
  {
   "cell_type": "code",
   "execution_count": 4,
   "metadata": {},
   "outputs": [
    {
     "data": {
      "text/plain": [
       "array([[0.00000000e+00, 0.00000000e+00, 2.80976270e-01, 6.00000000e-02,\n",
       "        1.50000000e-02],\n",
       "       [1.00000000e+00, 0.00000000e+00, 2.84303787e-01, 6.00000000e-02,\n",
       "        1.50000000e-02],\n",
       "       [2.00000000e+00, 0.00000000e+00, 2.82055268e-01, 6.00000000e-02,\n",
       "        1.50000000e-02],\n",
       "       [3.00000000e+00, 0.00000000e+00, 2.80897664e-01, 6.00000000e-02,\n",
       "        1.50000000e-02],\n",
       "       [4.00000000e+00, 0.00000000e+00, 2.78473096e-01, 6.00000000e-02,\n",
       "        1.50000000e-02],\n",
       "       [5.00000000e+00, 0.00000000e+00, 4.82917882e-01, 6.00000000e-02,\n",
       "        1.50000000e-02],\n",
       "       [6.00000000e+00, 2.15119988e-01, 9.42751744e-01, 1.20000000e-01,\n",
       "        3.00000000e-02],\n",
       "       [7.00000000e+00, 4.50044074e-01, 1.08783546e+00, 1.80000000e-01,\n",
       "        4.50000000e-02],\n",
       "       [8.00000000e+00, 6.56986599e-01, 4.89273255e-01, 2.60000000e-01,\n",
       "        6.50000000e-02],\n",
       "       [9.00000000e+00, 8.23080879e-01, 2.77668830e-01, 1.80000000e-01,\n",
       "        4.50000000e-02],\n",
       "       [1.00000000e+01, 9.37999977e-01, 2.85834501e-01, 1.20000000e-01,\n",
       "        3.00000000e-02],\n",
       "       [1.10000000e+01, 9.94598779e-01, 2.80577898e-01, 1.20000000e-01,\n",
       "        3.00000000e-02],\n",
       "       [1.20000000e+01, 9.89358247e-01, 2.81360891e-01, 1.20000000e-01,\n",
       "        3.00000000e-02],\n",
       "       [1.30000000e+01, 9.22604210e-01, 2.88511933e-01, 1.20000000e-01,\n",
       "        3.00000000e-02],\n",
       "       [1.40000000e+01, 7.98487113e-01, 2.71420721e-01, 1.80000000e-01,\n",
       "        4.50000000e-02],\n",
       "       [1.50000000e+01, 6.24723954e-01, 5.35742586e-01, 2.60000000e-01,\n",
       "        6.50000000e-02],\n",
       "       [1.60000000e+01, 4.12118485e-01, 5.98404368e-01, 1.80000000e-01,\n",
       "        4.50000000e-02],\n",
       "       [1.70000000e+01, 1.73889485e-01, 6.14652397e-01, 1.20000000e-01,\n",
       "        3.00000000e-02],\n",
       "       [1.80000000e+01, 0.00000000e+00, 8.13563135e-01, 6.00000000e-02,\n",
       "        1.50000000e-02],\n",
       "       [1.90000000e+01, 0.00000000e+00, 9.51400243e-01, 6.00000000e-02,\n",
       "        1.50000000e-02],\n",
       "       [2.00000000e+01, 0.00000000e+00, 8.17572367e-01, 6.00000000e-02,\n",
       "        1.50000000e-02],\n",
       "       [2.10000000e+01, 0.00000000e+00, 4.85983171e-01, 6.00000000e-02,\n",
       "        1.50000000e-02],\n",
       "       [2.20000000e+01, 0.00000000e+00, 3.43229587e-01, 6.00000000e-02,\n",
       "        1.50000000e-02],\n",
       "       [2.30000000e+01, 0.00000000e+00, 2.85610584e-01, 6.00000000e-02,\n",
       "        1.50000000e-02]])"
      ]
     },
     "execution_count": 4,
     "metadata": {},
     "output_type": "execute_result"
    }
   ],
   "source": [
    "states_za.squeeze()[:,(0,2,3,4,5)]"
   ]
  },
  {
   "cell_type": "code",
   "execution_count": 5,
   "metadata": {},
   "outputs": [
    {
     "data": {
      "text/plain": [
       "[<matplotlib.lines.Line2D at 0x7fad940448e0>]"
      ]
     },
     "execution_count": 5,
     "metadata": {},
     "output_type": "execute_result"
    },
    {
     "data": {
      "image/png": "[encoded data removed]",
      "text/plain": [
       "<Figure size 640x480 with 1 Axes>"
      ]
     },
     "metadata": {},
     "output_type": "display_data"
    }
   ],
   "source": [
    "plt.plot(rewards_za.squeeze())\n",
    "plt.plot(actions_za.squeeze())"
   ]
  },
  {
   "cell_type": "markdown",
   "metadata": {},
   "source": [
    "# Random Agent"
   ]
  },
  {
   "cell_type": "code",
   "execution_count": 31,
   "metadata": {},
   "outputs": [
    {
     "data": {
      "text/plain": [
       "-1.9565174889513146"
      ]
     },
     "execution_count": 31,
     "metadata": {},
     "output_type": "execute_result"
    }
   ],
   "source": [
    "set_all_seeds(0)\n",
    "batch_size = 1\n",
    "env = MGSimple(batch_size=batch_size, steps=24, min_temp=29, max_temp=31, peak_pv_gen=1, peak_grid_gen=1, peak_load=1, disable_noise=True)\n",
    "\n",
    "# Initialize states and rewards\n",
    "\n",
    "state_0, r_0, done, _ = env.reset()\n",
    "\n",
    "states_ra, rewards_ra, actions_ra = [], [], []\n",
    "\n",
    "while not done:\n",
    "\n",
    "    action = np.random.uniform(low=-1, high=1, size=(batch_size, 1))\n",
    "\n",
    "    s_t, r_t, done, _ = env.step(action)\n",
    "\n",
    "    states_ra.append(s_t)\n",
    "    rewards_ra.append(r_t)\n",
    "    actions_ra.append(action)\n",
    "\n",
    "states_ra = np.stack(states_ra, axis=1)\n",
    "rewards_ra = np.stack(rewards_ra, axis=1)\n",
    "actions_ra = np.stack(actions_ra, axis=1)\n",
    "rewards_ra.sum()"
   ]
  },
  {
   "cell_type": "code",
   "execution_count": 34,
   "metadata": {},
   "outputs": [
    {
     "data": {
      "text/plain": [
       "(1, 1)"
      ]
     },
     "execution_count": 34,
     "metadata": {},
     "output_type": "execute_result"
    }
   ],
   "source": [
    "np.random.uniform(low=-1, high=1, size=(batch_size, 1)).shape"
   ]
  },
  {
   "cell_type": "markdown",
   "metadata": {},
   "source": [
    "# CVX Agent"
   ]
  },
  {
   "cell_type": "code",
   "execution_count": 7,
   "metadata": {},
   "outputs": [
    {
     "data": {
      "text/plain": [
       "-1.688640573655803"
      ]
     },
     "execution_count": 7,
     "metadata": {},
     "output_type": "execute_result"
    }
   ],
   "source": [
    "set_all_seeds(0)\n",
    "batch_size = 1\n",
    "env = MGSimple(batch_size=batch_size, steps=24, min_temp=29, max_temp=31, peak_pv_gen=1, peak_grid_gen=1, peak_load=1, disable_noise=True)\n",
    "\n",
    "# Initialize states and rewards\n",
    "\n",
    "s_t, r_t, done, _ = env.reset()\n",
    "\n",
    "states_ra, rewards_ra, actions_ra = [], [], []\n",
    "\n",
    "perf_actions = [ 1.87618149e-01,  1.16353135e-01,  8.45745864e-02,  7.83851802e-02,\n",
    "         9.81474354e-02, -4.22038145e-02, -2.47501938e-01, -2.75372733e-01,\n",
    "         5.67474161e-01,  2.32525839e-01, -2.68996106e-01, -1.30855062e-01,\n",
    "        -1.30862054e-01, -2.69286778e-01,  1.91850189e-01,  5.15841571e-01,\n",
    "         9.23082401e-02,  1.19832551e-10, -2.12988428e-01, -3.68287674e-01,\n",
    "        -2.18723898e-01,  1.26685365e-01,  2.85300459e-01,  3.49321574e-01]\n",
    "         \n",
    "while not done:\n",
    "\n",
    "    action = np.ones((batch_size, 1))\n",
    "    action = action * perf_actions[int(s_t[0,0])]\n",
    "\n",
    "    s_t, r_t, done, _ = env.step(action)\n",
    "\n",
    "    states_ra.append(s_t)\n",
    "    rewards_ra.append(r_t)\n",
    "    actions_ra.append(action)\n",
    "\n",
    "states_ra = np.stack(states_ra, axis=1)\n",
    "rewards_ra = np.stack(rewards_ra, axis=1)\n",
    "actions_ra = np.stack(actions_ra, axis=1)\n",
    "rewards_ra.sum()"
   ]
  },
  {
   "cell_type": "code",
   "execution_count": 12,
   "metadata": {},
   "outputs": [
    {
     "data": {
      "text/plain": [
       "array([0.        , 0.        , 0.        , 0.        , 0.        ,\n",
       "       0.21511999, 0.45004407, 0.6569866 , 0.82308088, 0.93799998,\n",
       "       0.99459878, 0.98935825, 0.92260421, 0.79848711, 0.62472395,\n",
       "       0.41211849, 0.17388949, 0.        , 0.        , 0.        ,\n",
       "       0.        , 0.        , 0.        ])"
      ]
     },
     "execution_count": 12,
     "metadata": {},
     "output_type": "execute_result"
    }
   ],
   "source": [
    "states_ra[0,:,2]\n",
    "# states_ra[0,:,7]#SOC"
   ]
  },
  {
   "cell_type": "code",
   "execution_count": null,
   "metadata": {},
   "outputs": [],
   "source": []
  },
  {
   "cell_type": "code",
   "execution_count": 36,
   "metadata": {},
   "outputs": [
    {
     "data": {
      "text/plain": [
       "((1, 23, 8), (1, 23, 1), (1, 23, 1))"
      ]
     },
     "execution_count": 36,
     "metadata": {},
     "output_type": "execute_result"
    }
   ],
   "source": [
    "states_ra.shape, rewards_ra.shape,actions_ra.shape\n"
   ]
  },
  {
   "cell_type": "markdown",
   "metadata": {},
   "source": [
    "# A2C Causality cont."
   ]
  },
  {
   "cell_type": "code",
   "execution_count": 7,
   "metadata": {},
   "outputs": [
    {
     "name": "stderr",
     "output_type": "stream",
     "text": [
      "Failed to detect the name of this notebook, you can set it manually with the WANDB_NOTEBOOK_NAME environment variable to enable code saving.\n",
      "\u001b[34m\u001b[1mwandb\u001b[0m: Currently logged in as: \u001b[33mguti\u001b[0m. Use \u001b[1m`wandb login --relogin`\u001b[0m to force relogin\n",
      "\u001b[34m\u001b[1mwandb\u001b[0m: \u001b[33mWARNING\u001b[0m If you're specifying your api key in code, ensure this code is not shared publicly.\n",
      "\u001b[34m\u001b[1mwandb\u001b[0m: \u001b[33mWARNING\u001b[0m Consider setting the WANDB_API_KEY environment variable, or running `wandb login` from the command line.\n",
      "\u001b[34m\u001b[1mwandb\u001b[0m: Appending key for api.wandb.ai to your netrc file: /home/roberto.guillen/.netrc\n",
      "\u001b[34m\u001b[1mwandb\u001b[0m: Currently logged in as: \u001b[33mguti\u001b[0m (\u001b[33moptimllab\u001b[0m). Use \u001b[1m`wandb login --relogin`\u001b[0m to force relogin\n"
     ]
    },
    {
     "data": {
      "text/html": [
       "Tracking run with wandb version 0.13.5"
      ],
      "text/plain": [
       "<IPython.core.display.HTML object>"
      ]
     },
     "metadata": {},
     "output_type": "display_data"
    },
    {
     "data": {
      "text/html": [
       "Run data is saved locally in <code>/home/roberto.guillen/Documents/GitHub/BCTE/rl-energy-management/wandb/run-20221107_124646-14oy6ol7</code>"
      ],
      "text/plain": [
       "<IPython.core.display.HTML object>"
      ]
     },
     "metadata": {},
     "output_type": "display_data"
    },
    {
     "data": {
      "text/html": [
       "Syncing run <strong><a href=\"https://wandb.ai/optimllab/bcte/runs/14oy6ol7\" target=\"_blank\">vibrant-grass-111</a></strong> to <a href=\"https://wandb.ai/optimllab/bcte\" target=\"_blank\">Weights & Biases</a> (<a href=\"https://wandb.me/run\" target=\"_blank\">docs</a>)<br/>"
      ],
      "text/plain": [
       "<IPython.core.display.HTML object>"
      ]
     },
     "metadata": {},
     "output_type": "display_data"
    },
    {
     "name": "stdout",
     "output_type": "stream",
     "text": [
      "Running on GPU\n"
     ]
    },
    {
     "name": "stderr",
     "output_type": "stream",
     "text": [
      "  0%|          | 2/1500 [00:09<1:40:09,  4.01s/it]"
     ]
    },
    {
     "name": "stdout",
     "output_type": "stream",
     "text": [
      "Saving model on step: 0\n"
     ]
    },
    {
     "name": "stderr",
     "output_type": "stream",
     "text": [
      "  3%|▎         | 52/1500 [00:44<15:13,  1.58it/s] "
     ]
    },
    {
     "name": "stdout",
     "output_type": "stream",
     "text": [
      "Saving model on step: 50\n"
     ]
    },
    {
     "name": "stderr",
     "output_type": "stream",
     "text": [
      "  7%|▋         | 101/1500 [01:15<18:36,  1.25it/s]"
     ]
    },
    {
     "name": "stdout",
     "output_type": "stream",
     "text": [
      "Saving model on step: 100\n"
     ]
    },
    {
     "name": "stderr",
     "output_type": "stream",
     "text": [
      " 10%|█         | 151/1500 [01:47<13:15,  1.70it/s]"
     ]
    },
    {
     "name": "stdout",
     "output_type": "stream",
     "text": [
      "Saving model on step: 150\n"
     ]
    },
    {
     "name": "stderr",
     "output_type": "stream",
     "text": [
      " 12%|█▏        | 181/1500 [02:06<11:40,  1.88it/s]"
     ]
    }
   ],
   "source": [
    "import traceback\n",
    "\n",
    "from src.environments.mg_simple import MGSimple\n",
    "from src.rl.a2c.c_mg_simple import Agent\n",
    "\n",
    "# Get arguments from command line\n",
    "\n",
    "disable_logging = False\n",
    "disable_noise = True\n",
    "batch_size = 8\n",
    "training_steps = 1500\n",
    "rollout_steps = 24\n",
    "actor_lr = 0.0001\n",
    "critic_lr = 0.001\n",
    "actor_nn = 64\n",
    "critic_nn = 64\n",
    "gamma = 1\n",
    "enable_gpu = True\n",
    "central_agent = False # Not needed yet\n",
    "random_soc_0 = False\n",
    "encoding = False # Not needed yet\n",
    "extended_observation = False # Not needed yet\n",
    "epsilon = 0.001\n",
    "\n",
    "# Start wandb logger\n",
    "\n",
    "try:\n",
    "\n",
    "    '''\n",
    "        Setup all the configurations for Wandb\n",
    "    '''\n",
    "\n",
    "    wdb_config={\n",
    "        \"training_steps\": training_steps,\n",
    "        \"batch_size\": batch_size,\n",
    "        \"rollout_steps\": rollout_steps,\n",
    "        \"agent_actor_lr\": actor_lr,\n",
    "        \"agent_critic_lr\": critic_lr,\n",
    "        \"agent_actor_nn\": actor_nn,\n",
    "        \"agent_critic_nn\": critic_nn,\n",
    "        \"gamma\": gamma,\n",
    "        \"central_agent\": central_agent,\n",
    "        \"random_soc_0\": random_soc_0,\n",
    "        \"encoding\": encoding,\n",
    "        \"extended_observation\": extended_observation,\n",
    "        \"epsilon\": epsilon,\n",
    "    }\n",
    "\n",
    "    '''\n",
    "        Run the simulator\n",
    "    '''\n",
    "\n",
    "    set_all_seeds(0)\n",
    "\n",
    "    # Instantiate the environment\n",
    "\n",
    "    my_env = MGSimple(\n",
    "        batch_size=batch_size, steps = rollout_steps, min_temp = 29, max_temp = 31, peak_pv_gen = 1, peak_grid_gen = 1, peak_load = 1,\n",
    "        random_soc_0=random_soc_0, disable_noise=disable_noise\n",
    "    )\n",
    "\n",
    "    # Instantiate the agent\n",
    "\n",
    "    agent = Agent(\n",
    "        env=my_env, critic_lr=critic_lr, actor_lr=actor_lr, actor_nn=actor_nn, critic_nn=critic_nn, batch_size=batch_size, gamma=gamma,\n",
    "        extended_obs=extended_observation, wandb_dict=wdb_config, enable_gpu=enable_gpu, disable_wandb=disable_logging,\n",
    "    )\n",
    "\n",
    "    # Launch the training\n",
    "\n",
    "    all_states, all_rewards, all_actions = agent.train(training_steps=training_steps, epsilon=epsilon)\n",
    "\n",
    "    # Finish Wandb execution\n",
    "\n",
    "    agent.wdb_logger.finish()\n",
    "\n",
    "except (RuntimeError, KeyboardInterrupt):\n",
    "\n",
    "    traceback.print_exc()"
   ]
  },
  {
   "cell_type": "markdown",
   "metadata": {},
   "source": [
    "# A2C Causality disc."
   ]
  },
  {
   "cell_type": "code",
   "execution_count": null,
   "metadata": {},
   "outputs": [],
   "source": [
    "import traceback\n",
    "\n",
    "from src.environments.mg_simple import MGSimple\n",
    "from src.rl.a2c.d_mg_simple import Agent, set_all_seeds\n",
    "\n",
    "# Get arguments from command line\n",
    "\n",
    "disable_logging = True\n",
    "disable_noise = True\n",
    "batch_size = 8\n",
    "training_steps = 1500\n",
    "rollout_steps = 24\n",
    "actor_lr = 0.0005\n",
    "critic_lr = 0.001\n",
    "actor_nn = 256\n",
    "critic_nn = 64\n",
    "gamma = 1\n",
    "enable_gpu = True\n",
    "central_agent = False # Not needed yet\n",
    "random_soc_0 = False\n",
    "encoding = False # Not needed yet\n",
    "extended_observation = False # Not needed yet\n",
    "epsilon = 0.001\n",
    "\n",
    "# Start wandb logger\n",
    "\n",
    "try:\n",
    "\n",
    "    '''\n",
    "        Setup all the configurations for Wandb\n",
    "    '''\n",
    "\n",
    "    wdb_config={\n",
    "        \"training_steps\": training_steps,\n",
    "        \"batch_size\": batch_size,\n",
    "        \"rollout_steps\": rollout_steps,\n",
    "        \"agent_actor_lr\": actor_lr,\n",
    "        \"agent_critic_lr\": critic_lr,\n",
    "        \"agent_actor_nn\": actor_nn,\n",
    "        \"agent_critic_nn\": critic_nn,\n",
    "        \"gamma\": gamma,\n",
    "        \"central_agent\": central_agent,\n",
    "        \"random_soc_0\": random_soc_0,\n",
    "        \"encoding\": encoding,\n",
    "        \"extended_observation\": extended_observation,\n",
    "        \"epsilon\": epsilon,\n",
    "    }\n",
    "\n",
    "    '''\n",
    "        Run the simulator\n",
    "    '''\n",
    "\n",
    "    set_all_seeds(0)\n",
    "\n",
    "    # Instantiate the environment\n",
    "\n",
    "    my_env = MGSimple(\n",
    "        batch_size=batch_size, steps = rollout_steps, min_temp = 29, max_temp = 31, peak_pv_gen = 1, peak_grid_gen = 1, peak_load = 1,\n",
    "        random_soc_0=random_soc_0, disable_noise=disable_noise\n",
    "    )\n",
    "\n",
    "    # Instantiate the agent\n",
    "\n",
    "    agent = Agent(\n",
    "        env=my_env, critic_lr=critic_lr, actor_lr=actor_lr, actor_nn=actor_nn, critic_nn=critic_nn, batch_size=batch_size, gamma=gamma,\n",
    "        extended_obs=extended_observation, wandb_dict=wdb_config, enable_gpu=enable_gpu, disable_wandb=disable_logging,\n",
    "    )\n",
    "\n",
    "    # Launch the training\n",
    "\n",
    "    all_states, all_rewards, all_actions = agent.train(training_steps=training_steps, epsilon=epsilon)\n",
    "\n",
    "    # Finish Wandb execution\n",
    "\n",
    "    agent.wdb_logger.finish()\n",
    "\n",
    "except (RuntimeError, KeyboardInterrupt):\n",
    "\n",
    "    traceback.print_exc()\n",
    "\n",
    "print('A2C training completed')"
   ]
  },
  {
   "cell_type": "markdown",
   "metadata": {},
   "source": [
    "# Plots"
   ]
  },
  {
   "cell_type": "code",
   "execution_count": null,
   "metadata": {},
   "outputs": [],
   "source": [
    "all_rewards = np.stack(all_rewards, axis=0).squeeze()\n",
    "all_actions = np.stack(all_actions, axis=0).squeeze()\n",
    "all_states = np.stack(all_states, axis=0).squeeze()\n",
    "\n",
    "plt.plot(all_rewards[0,:,0], label='reward 0 0')\n",
    "plt.plot(all_rewards[250,:,0], label='reward 250 0')\n",
    "plt.plot(all_rewards[1499,:,0], label='reward 499 0')\n",
    "plt.legend()\n",
    "plt.show()"
   ]
  },
  {
   "cell_type": "code",
   "execution_count": null,
   "metadata": {},
   "outputs": [],
   "source": []
  },
  {
   "cell_type": "code",
   "execution_count": null,
   "metadata": {},
   "outputs": [],
   "source": [
    "avg_reward = all_rewards.sum(axis=1).mean(axis=1)\n",
    "\n",
    "plt.plot(avg_reward)\n",
    "plt.show()"
   ]
  },
  {
   "cell_type": "code",
   "execution_count": null,
   "metadata": {},
   "outputs": [],
   "source": [
    "plt.plot(all_actions[0,:,0], label='actions 0')\n",
    "plt.plot(all_actions[250,:,0], label='actions 250')\n",
    "plt.plot(all_actions[1499,:,0], label='actions 499')\n",
    "plt.legend()\n",
    "plt.show()"
   ]
  },
  {
   "cell_type": "code",
   "execution_count": null,
   "metadata": {},
   "outputs": [],
   "source": [
    "avg_action = all_actions.mean(axis=1).mean(axis=1)\n",
    "\n",
    "plt.plot(avg_action)\n",
    "plt.show()"
   ]
  },
  {
   "cell_type": "code",
   "execution_count": null,
   "metadata": {},
   "outputs": [],
   "source": [
    "all_socs = all_states[:,:,:,8]\n",
    "\n",
    "plt.plot(all_socs[0,:,0], label='soc 0')\n",
    "plt.plot(all_socs[250,:,0], label='soc 250')\n",
    "plt.plot(all_socs[1499,:,0], label='soc 499')\n",
    "plt.legend()\n",
    "plt.show()"
   ]
  },
  {
   "cell_type": "code",
   "execution_count": null,
   "metadata": {},
   "outputs": [],
   "source": [
    "all_net_energy = all_states[:,:,:,4]\n",
    "remaining_energy = my_env.mg.remaining_energy\n",
    "\n",
    "plt.plot(remaining_energy, label='remaining energy')\n",
    "plt.plot(all_net_energy[0,:,0], label='net energy 0')\n",
    "plt.plot(all_net_energy[250,:,0], label='net energy 250')\n",
    "plt.plot(all_net_energy[499,:,0], label='net energy 499')\n",
    "plt.legend()\n",
    "plt.show()"
   ]
  },
  {
   "cell_type": "code",
   "execution_count": null,
   "metadata": {},
   "outputs": [],
   "source": [
    "remaining_energy = my_env.mg.pv_gen\n",
    "\n",
    "remaining_energy.shape\n",
    "\n",
    "plt.plot(remaining_energy, label='remaining energy')\n",
    "plt.legend()\n",
    "plt.show()"
   ]
  }
 ],
 "metadata": {
  "kernelspec": {
   "display_name": "Python 3.8.13 ('bcte')",
   "language": "python",
   "name": "python3"
  },
  "language_info": {
   "codemirror_mode": {
    "name": "ipython",
    "version": 3
   },
   "file_extension": ".py",
   "mimetype": "text/x-python",
   "name": "python",
   "nbconvert_exporter": "python",
   "pygments_lexer": "ipython3",
   "version": "3.8.13"
  },
  "vscode": {
   "interpreter": {
    "hash": "4360e16d43ac692103fa28bcc8d0bd7c33534b35175524cb6d3ea499dda18b7b"
   }
  }
 },
 "nbformat": 4,
 "nbformat_minor": 2
}
