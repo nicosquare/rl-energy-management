{
 "cells": [
  {
   "cell_type": "code",
   "execution_count": 1,
   "metadata": {},
   "outputs": [],
   "source": [
    "import numpy as np\n",
    "\n",
    "from matplotlib import pyplot as plt\n",
    "from src.environments.mg_simple import MGSimple"
   ]
  },
  {
   "cell_type": "markdown",
   "metadata": {},
   "source": [
    "## Zero agent"
   ]
  },
  {
   "cell_type": "code",
   "execution_count": 7,
   "metadata": {},
   "outputs": [],
   "source": [
    "batch_size = 1\n",
    "env = MGSimple(batch_size=batch_size, steps=24, min_temp=29, max_temp=31, peak_pv_gen=1, peak_conv_gen=1, peak_load=1)\n",
    "\n",
    "# Initialize states and rewards\n",
    "\n",
    "state_0, r_0, done, _ = env.reset()\n",
    "\n",
    "states_za, rewards_za, actions_za = [], [], []\n",
    "\n",
    "while not done:\n",
    "\n",
    "    action = np.zeros((batch_size, 1))\n",
    "\n",
    "    s_t, r_t, done, _ = env.step(action)\n",
    "\n",
    "    states_za.append(s_t)\n",
    "    rewards_za.append(r_t)\n",
    "    actions_za.append(action)\n",
    "\n",
    "states_za = np.stack(states_za, axis=1)\n",
    "rewards_za = np.stack(rewards_za, axis=1)\n",
    "actions_za = np.stack(actions_za, axis=1)"
   ]
  },
  {
   "cell_type": "markdown",
   "metadata": {},
   "source": [
    "# Randon Agent"
   ]
  },
  {
   "cell_type": "code",
   "execution_count": 10,
   "metadata": {},
   "outputs": [],
   "source": [
    "batch_size = 1\n",
    "env = MGSimple(batch_size=batch_size, steps=24, min_temp=29, max_temp=31, peak_pv_gen=1, peak_conv_gen=1, peak_load=1)\n",
    "\n",
    "# Initialize states and rewards\n",
    "\n",
    "state_0, r_0, done, _ = env.reset()\n",
    "\n",
    "states_ra, rewards_ra, actions_ra = [], [], []\n",
    "\n",
    "while not done:\n",
    "\n",
    "    action = np.random.uniform(low=-1, high=1, size=(batch_size, 1))\n",
    "\n",
    "    s_t, r_t, done, _ = env.step(action)\n",
    "\n",
    "    states_ra.append(s_t)\n",
    "    rewards_ra.append(r_t)\n",
    "    actions_ra.append(action)\n",
    "\n",
    "states_ra = np.stack(states_ra, axis=1)\n",
    "rewards_ra = np.stack(rewards_ra, axis=1)\n",
    "actions_ra = np.stack(actions_ra, axis=1)"
   ]
  }
 ],
 "metadata": {
  "kernelspec": {
   "display_name": "Python 3.10.6 ('rl_energy')",
   "language": "python",
   "name": "python3"
  },
  "language_info": {
   "codemirror_mode": {
    "name": "ipython",
    "version": 3
   },
   "file_extension": ".py",
   "mimetype": "text/x-python",
   "name": "python",
   "nbconvert_exporter": "python",
   "pygments_lexer": "ipython3",
   "version": "3.10.6"
  },
  "orig_nbformat": 4,
  "vscode": {
   "interpreter": {
    "hash": "c90140d1e60c0c8ac8d9973d206ea730577da1ef55aede4e552f1f53ef485e21"
   }
  }
 },
 "nbformat": 4,
 "nbformat_minor": 2
}
