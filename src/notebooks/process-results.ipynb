{
 "cells": [
  {
   "cell_type": "code",
   "execution_count": null,
   "metadata": {},
   "outputs": [],
   "source": [
    "import pickle\n",
    "import os\n",
    "\n",
    "from src.utils.tools import plot_metrics"
   ]
  },
  {
   "cell_type": "code",
   "execution_count": null,
   "metadata": {},
   "outputs": [],
   "source": [
    "# Plot metrics using all the files in the results folder\n",
    "\n",
    "# results_folder = \"./results/\"\n",
    "results_folder = \"/l/users/roberto.guillen/RL/results/\"\n",
    "\n",
    "for file in os.listdir(results_folder):\n",
    "    \n",
    "    print(file)\n",
    "    \n",
    "    try:\n",
    "\n",
    "        with open(results_folder + file, 'rb') as f:\n",
    "\n",
    "            results = pickle.load(f, errors='ignore')\n",
    "            plot_metrics(results)\n",
    "\n",
    "    except Exception as e:\n",
    "\n",
    "        print(\"Error loading file\")\n",
    "        print(e)\n",
    "        os.remove(results_folder + file)\n",
    "        continue\n"
   ]
  }
 ],
 "metadata": {
  "kernelspec": {
   "display_name": "RL Energy",
   "language": "python",
   "name": "rl_energy"
  },
  "language_info": {
   "codemirror_mode": {
    "name": "ipython",
    "version": 3
   },
   "file_extension": ".py",
   "mimetype": "text/x-python",
   "name": "python",
   "nbconvert_exporter": "python",
   "pygments_lexer": "ipython3",
   "version": "3.8.13"
  },
  "vscode": {
   "interpreter": {
    "hash": "236e39eadccf2e8e076ff541217647dde830b1c0b002cee94cff5f6fe2fcb82e"
   }
  }
 },
 "nbformat": 4,
 "nbformat_minor": 2
}
