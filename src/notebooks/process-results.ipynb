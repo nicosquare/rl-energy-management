{
 "cells": [
  {
   "cell_type": "code",
   "execution_count": null,
   "metadata": {},
   "outputs": [],
   "source": [
    "import pickle\n",
    "import os\n",
    "\n",
    "from src.utils.tools import plot_metrics"
   ]
  },
  {
   "cell_type": "code",
   "execution_count": null,
   "metadata": {},
   "outputs": [],
   "source": [
    "# Plot metrics using all the files in the results folder\n",
    "\n",
    "results_folder = \"./results/\"\n",
    "\n",
    "for file in os.listdir(results_folder):\n",
    "    \n",
    "    print(file)\n",
    "\n",
    "    results = pickle.load(open(results_folder + file, \"rb\"))\n",
    "\n",
    "    plot_metrics(results)\n",
    "    \n"
   ]
  }
 ],
 "metadata": {
  "kernelspec": {
   "display_name": "rl_energy",
   "language": "python",
   "name": "python3"
  },
  "language_info": {
   "codemirror_mode": {
    "name": "ipython",
    "version": 3
   },
   "file_extension": ".py",
   "mimetype": "text/x-python",
   "name": "python",
   "nbconvert_exporter": "python",
   "pygments_lexer": "ipython3",
   "version": "3.8.13"
  },
  "vscode": {
   "interpreter": {
    "hash": "236e39eadccf2e8e076ff541217647dde830b1c0b002cee94cff5f6fe2fcb82e"
   }
  }
 },
 "nbformat": 4,
 "nbformat_minor": 2
}
