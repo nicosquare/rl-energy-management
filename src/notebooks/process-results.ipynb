{
 "cells": [
  {
   "cell_type": "code",
   "execution_count": null,
   "metadata": {},
   "outputs": [],
   "source": [
    "import os\n",
    "import re\n",
    "import pickle\n",
    "import numpy as np\n",
    "import seaborn as sns\n",
    "import pandas as pd\n",
    "import matplotlib.pyplot as plt\n",
    "from src.utils.tools import plot_metrics"
   ]
  },
  {
   "attachments": {},
   "cell_type": "markdown",
   "metadata": {},
   "source": [
    "# Review and list top results"
   ]
  },
  {
   "cell_type": "code",
   "execution_count": null,
   "metadata": {},
   "outputs": [],
   "source": [
    "# Plot metrics using all the files in the results folder\n",
    "\n",
    "# results_folder = \"./results/\"\n",
    "results_folder = \"/l/users/roberto.guillen/RL/results/\"\n",
    "\n",
    "scores = []\n",
    "for file in os.listdir(results_folder):\n",
    "    \n",
    "    #print(file)\n",
    "    \n",
    "    try:\n",
    "\n",
    "        with open(results_folder + file, 'rb') as f:\n",
    "\n",
    "            metrics = pickle.load(f, errors='ignore')\n",
    "            # Extract metrics\n",
    "            train_price = np.array(metrics['train']['agent']['price_metric']).min()\n",
    "            train_emission = np.array(metrics['train']['agent']['emission_metric']).min()\n",
    "            eval_price = np.array(metrics['eval']['agent']['price_metric']).min()\n",
    "            eval_emission = np.array(metrics['eval']['agent']['emission_metric']).min()\n",
    "            # Extract file name numbers\n",
    "            row = list(re.search(r\"d_a2c_mg_alr_(.*)_clr_(.*)_cnn_(.*)_ann_(.*).pkl\",file).groups())\n",
    "            row += [train_price, train_emission, eval_price, eval_emission]\n",
    "            scores.append(row)\n",
    "            # plot_metrics(results)\n",
    "\n",
    "    except Exception as e:\n",
    "\n",
    "        print(\"Error loading file\")\n",
    "        print(e)\n",
    "        os.remove(results_folder + file)\n",
    "        continue\n",
    "scores = np.array(scores)\n",
    "col_names = ['ActorLr','CriticLr','CriticNN','ActorNN','train_price', 'train_emission', 'eval_price', 'eval_emission']\n",
    "df = pd.DataFrame(scores, columns=col_names)\n",
    "# Convert numeric columns to float, except nn\n",
    "\n",
    "df[col_names] = df[['ActorLr','CriticLr','train_price', 'train_emission', 'eval_price', 'eval_emission']].astype(float)\n"
   ]
  },
  {
   "cell_type": "code",
   "execution_count": null,
   "metadata": {},
   "outputs": [],
   "source": [
    "df['ActorLr'].unique(), df['ActorNN'].unique(), df['CriticLr'].unique(), df['CriticNN'].unique()"
   ]
  },
  {
   "cell_type": "code",
   "execution_count": null,
   "metadata": {},
   "outputs": [],
   "source": [
    "corr =df.corr(numeric_only=False)\n",
    "sns.heatmap(corr, annot=True, cmap='coolwarm')\n",
    "plt.show()"
   ]
  },
  {
   "cell_type": "code",
   "execution_count": null,
   "metadata": {},
   "outputs": [],
   "source": [
    "fig, ax = plt.subplots()\n",
    "# for i in range(1, len(data)):\n",
    "    # ax.scatter(data[0], data[i], label=f'Column {i}')\n",
    "\n",
    "x = df['ActorLr']\n",
    "\n",
    "y = df[col_names[4]]\n",
    "ax.scatter(x, y, label=df.columns[4])\n",
    "y = df[col_names[5]]\n",
    "ax.scatter(x, y, label=df.columns[5])\n",
    "\n",
    "ax.legend()\n",
    "\n",
    "ax.set_xlabel('Actor Learning Rate')\n",
    "ax.set_ylabel('Scores')\n",
    "plt.show()"
   ]
  },
  {
   "cell_type": "code",
   "execution_count": null,
   "metadata": {},
   "outputs": [],
   "source": [
    "# Extract the first column and last four columns\n",
    "# x = scores[:,0]\n",
    "# y = scores[:,4:]\n",
    "data = scores\n",
    "# Plot the graph\n",
    "# for i in range(y.shape[1]):\n",
    "# plt.plot(x, y[:,0])\n",
    "fig, ax = plt.subplots()\n",
    "for i in range(1, len(data)):\n",
    "    ax.scatter(data[0], data[i], label=f'Column {i}')\n",
    "\n",
    "ax.set_xlabel('Actor Learning Rate')\n",
    "ax.set_ylabel('Scores')\n",
    "ax.legend(['train_price', 'train_emission', 'eval_price', 'eval_emission'])\n",
    "plt.show()\n"
   ]
  },
  {
   "attachments": {},
   "cell_type": "markdown",
   "metadata": {},
   "source": [
    "# Review Images "
   ]
  },
  {
   "cell_type": "code",
   "execution_count": null,
   "metadata": {},
   "outputs": [],
   "source": [
    "# Plot metrics using all the files in the results folder\n",
    "\n",
    "# results_folder = \"./results/\"\n",
    "results_folder = \"/l/users/roberto.guillen/RL/results/\"\n",
    "\n",
    "for file in os.listdir(results_folder):\n",
    "    \n",
    "    print(file)\n",
    "    \n",
    "    try:\n",
    "\n",
    "        with open(results_folder + file, 'rb') as f:\n",
    "\n",
    "            results = pickle.load(f, errors='ignore')\n",
    "            plot_metrics(results)\n",
    "\n",
    "    except Exception as e:\n",
    "\n",
    "        print(\"Error loading file\")\n",
    "        print(e)\n",
    "        os.remove(results_folder + file)\n",
    "        continue\n"
   ]
  }
 ],
 "metadata": {
  "kernelspec": {
   "display_name": "bcte",
   "language": "python",
   "name": "python3"
  },
  "language_info": {
   "codemirror_mode": {
    "name": "ipython",
    "version": 3
   },
   "file_extension": ".py",
   "mimetype": "text/x-python",
   "name": "python",
   "nbconvert_exporter": "python",
   "pygments_lexer": "ipython3",
   "version": "3.8.13"
  },
  "vscode": {
   "interpreter": {
    "hash": "4360e16d43ac692103fa28bcc8d0bd7c33534b35175524cb6d3ea499dda18b7b"
   }
  }
 },
 "nbformat": 4,
 "nbformat_minor": 2
}
