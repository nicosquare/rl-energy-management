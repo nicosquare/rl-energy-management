{
 "cells": [
  {
   "cell_type": "code",
   "execution_count": null,
   "metadata": {},
   "outputs": [],
   "source": [
    "import os\n",
    "import re\n",
    "import pickle\n",
    "import numpy as np\n",
    "import seaborn as sns\n",
    "import plotly.express as px\n",
    "import pandas as pd\n",
    "import matplotlib.pyplot as plt\n",
    "from src.utils.tools import plot_metrics"
   ]
  },
  {
   "attachments": {},
   "cell_type": "markdown",
   "metadata": {},
   "source": [
    "# Build a results dataframe"
   ]
  },
  {
   "cell_type": "code",
   "execution_count": null,
   "metadata": {},
   "outputs": [],
   "source": [
    "# Plot metrics using all the files in the results folder\n",
    "\n",
    "# results_folder = \"./results/\"\n",
    "results_folder = \"/l/users/roberto.guillen/RL/results/\"\n",
    "\n",
    "scores = []\n",
    "step = 750\n",
    "\n",
    "for file in os.listdir(results_folder, ):\n",
    "    \n",
    "    exp_values = []\n",
    "    \n",
    "    try:\n",
    "\n",
    "        with open(results_folder + file, 'rb') as f:\n",
    "\n",
    "            metrics = pickle.load(f, errors='ignore')\n",
    "\n",
    "            row = list(re.search(r\"d_a2c_mg_.*_alr_(.*)_clr_(.*)_cnn_(.*)_ann_(.*).pkl\",file).groups())\n",
    "\n",
    "            train_price_metric = metrics['train']['agent']['price_metric']\n",
    "            train_emission_metric = metrics['train']['agent']['emission_metric']\n",
    "            eval_price_metric = metrics['eval']['agent']['price_metric']\n",
    "            eval_emission_metric = metrics['eval']['agent']['emission_metric']\n",
    "\n",
    "            rollout_steps = len(train_price_metric)\n",
    "\n",
    "            # Compute the minimum every 1500 steps in the last round\n",
    "            \n",
    "            for i in range(rollout_steps-step*6, rollout_steps, step):\n",
    "                row += [\n",
    "                    min(train_price_metric[i:i + step]),\n",
    "                    min(train_emission_metric[i:i + step]),\n",
    "                    min(eval_price_metric[i:i + step]),\n",
    "                    min(eval_emission_metric[i:i + step])\n",
    "                ]\n",
    "\n",
    "            # Extract file name numbers\n",
    "            \n",
    "            scores.append(row)\n",
    "\n",
    "    except Exception as e:\n",
    "\n",
    "        print(\"Error loading file\")\n",
    "        print(e)\n",
    "        continue\n",
    "\n",
    "\n",
    "scores = np.array(scores)\n",
    "col_names = [\n",
    "    'ALR','CLR','CNN','ANN',\n",
    "    'P1 TP', 'P1 TE', 'P1 EP', 'P1 EE',\n",
    "    'P2 TP', 'P2 TE', 'P2 EP', 'P2 EE',\n",
    "    'P3 TP', 'P3 TE', 'P3 EP', 'P3 EE',\n",
    "    'P4 TP', 'P4 TE', 'P4 EP', 'P4 EE',\n",
    "    'P5 TP', 'P5 TE', 'P5 EP', 'P5 EE',\n",
    "    'P6 TP', 'P6 TE', 'P6 EP', 'P6 EE',\n",
    "]\n",
    "\n",
    "df = pd.DataFrame(scores, columns=col_names)\n",
    "\n",
    "# Convert numeric columns to float, except nn\n",
    "\n",
    "df[col_names] = df[col_names].astype(float)\n",
    "\n",
    "df[['ANN', 'CNN']] = df[['ANN', 'CNN']].astype(int)\n",
    "\n",
    "# Average the metrics for each profile\n",
    "\n",
    "df['TP'] = df[['P1 TP', 'P2 TP', 'P3 TP', 'P4 TP', 'P5 TP', 'P6 TP']].mean(axis=1)\n",
    "df['TE'] = df[['P1 TE', 'P2 TE', 'P3 TE', 'P4 TE', 'P5 TE', 'P6 TE']].mean(axis=1)\n",
    "df['EP'] = df[['P1 EP', 'P2 EP', 'P3 EP', 'P4 EP', 'P5 EP', 'P6 EP']].mean(axis=1)\n",
    "df['EE'] = df[['P1 EE', 'P2 EE', 'P3 EE', 'P4 EE', 'P5 EE', 'P6 EE']].mean(axis=1)\n",
    "\n"
   ]
  },
  {
   "cell_type": "code",
   "execution_count": null,
   "metadata": {},
   "outputs": [],
   "source": [
    "df['ALR'].unique(), df['ANN'].unique(), df['ALR'].unique(), df['CNN'].unique()"
   ]
  },
  {
   "cell_type": "code",
   "execution_count": null,
   "metadata": {},
   "outputs": [],
   "source": [
    "sns.set(rc={'figure.figsize':(25,25)})\n",
    "\n",
    "corr =df[['ANN', 'ALR', 'CNN', 'CLR', 'TP', 'TE', 'EP', 'EE']].corr()\n",
    "sns.heatmap(corr, annot=True, cmap='coolwarm')\n",
    "plt.show()"
   ]
  },
  {
   "cell_type": "code",
   "execution_count": null,
   "metadata": {},
   "outputs": [],
   "source": [
    "fig = px.scatter(data_frame = df, x = \"TP\", y = \"CLR\", color='ALR', size='ANN', symbol='CNN', width=1000, height=500)\n",
    "fig.show()\n",
    "\n",
    "# fig = px.scatter(data_frame = df, x = \"ANN\", y = \"CNN\", color='TP', size='ALR', symbol='CNN', width=1000, height=500)\n",
    "# fig.show()"
   ]
  },
  {
   "cell_type": "code",
   "execution_count": null,
   "metadata": {},
   "outputs": [],
   "source": [
    "sns.set(rc={'figure.figsize':(25,12.5)})\n",
    "sns.set(style = \"darkgrid\")\n",
    "\n",
    "sc_1 = sns.scatterplot(data = df, x = \"ALR\", y = \"CLR\", hue='TP', size='ANN')\n",
    "plt.show()\n",
    "\n",
    "sc_2 = sns.scatterplot(data = df, x = \"ANN\", y = \"CNN\", hue='TP', size='ALR')\n",
    "plt.show()"
   ]
  },
  {
   "cell_type": "code",
   "execution_count": null,
   "metadata": {},
   "outputs": [],
   "source": [
    "\n",
    "# for creating a responsive plot\n",
    "from mpl_toolkits.mplot3d import Axes3D\n",
    "\n",
    "sns.set(rc={'figure.figsize':(15,15)})\n",
    "\n",
    "sns.set(style = \"darkgrid\")\n",
    "\n",
    "fig = plt.figure()\n",
    "ax = fig.add_subplot(111, projection='3d')\n",
    "\n",
    "x = df['ALR']\n",
    "y = df['CLR']\n",
    "\n",
    "ax.scatter(x, y, df['TP'])\n",
    "\n",
    "ax.set_xlabel('Actor Learning Rate')\n",
    "ax.set_ylabel('Critic Learning Rate')\n",
    "ax.set_zlabel('Price Metric')\n",
    "\n",
    "plt.show()"
   ]
  },
  {
   "attachments": {},
   "cell_type": "markdown",
   "metadata": {},
   "source": [
    "# Review Images "
   ]
  },
  {
   "cell_type": "code",
   "execution_count": null,
   "metadata": {},
   "outputs": [],
   "source": [
    "df[(df['ANN'] == 128) & (df['CNN'] == 128) & (df['ALR'] == 0.0014994966516895213) & (df['CLR'] == 0.0028081176757678403)]"
   ]
  },
  {
   "cell_type": "code",
   "execution_count": null,
   "metadata": {},
   "outputs": [],
   "source": [
    "# Single image plot\n",
    "\n",
    "sns.set(rc={'figure.figsize':(50,15)})\n",
    "\n",
    "# Plot metrics using all the files in the results folder\n",
    "\n",
    "results_folder = \"./results/\"\n",
    "# results_folder = \"/l/users/roberto.guillen/RL/results/\"\n",
    "\n",
    "# file = \"d_a2c_mg_alr_0.003288427767546812_clr_0.006038295776367509_cnn_256_ann_32.pkl\"\n",
    "# file = \"d_a2c_mg_alr_0.0014994966516895213_clr_0.0028081176757678403_cnn_128_ann_128.pkl\"\n",
    "# file = \"d_a2c_mg_alr_0.001745490597893743_clr_0.005519732815872187_cnn_64_ann_128.pkl\"\n",
    "# file = \"d_a2c_mg_alr_0.002544919999687364_clr_0.0032887794961973817_cnn_64_ann_64.pkl\"\n",
    "# file = \"d_a2c_mg_alr_0.0009668565108769986_clr_0.0003034062755461192_cnn_256_ann_128.pkl\"\n",
    "# file = \"d_a2c_mg_alr_0.0007395042721832776_clr_0.0001330675312932562_cnn_512_ann_64.pkl\"\n",
    "# file = \"d_a2c_mg_grid_attr__alr_0.0008776907717124785_clr_0.0008896735752826171_cnn_256_ann_512.pkl\"\n",
    "# file = \"d_a2c_mg_grid_attr_alr_0.0008005501564538642_clr_0.0003267751023062698_cnn_128_ann_512.pkl\"\n",
    "file = \"d_a2c_mg_grid_attr_alr_0.0007187855164262077_clr_0.0008576314033517756_cnn_32_ann_512.pkl\"\n",
    "    \n",
    "try:\n",
    "\n",
    "    with open(results_folder + file, 'rb') as f:\n",
    "\n",
    "        results = pickle.load(f, errors='ignore')\n",
    "        plot_metrics(results)\n",
    "\n",
    "except Exception as e:\n",
    "\n",
    "    print(\"Error loading file\")\n",
    "    print(e)"
   ]
  },
  {
   "cell_type": "code",
   "execution_count": null,
   "metadata": {},
   "outputs": [],
   "source": [
    "# Plot metrics using all the files in the results folder\n",
    "\n",
    "results_folder = \"./results/\"\n",
    "# results_folder = \"/l/users/roberto.guillen/RL/results/\"\n",
    "\n",
    "for file in os.listdir(results_folder):\n",
    "    \n",
    "    print(file)\n",
    "    \n",
    "    try:\n",
    "\n",
    "        with open(results_folder + file, 'rb') as f:\n",
    "\n",
    "            results = pickle.load(f, errors='ignore')\n",
    "            plot_metrics(results)\n",
    "\n",
    "    except Exception as e:\n",
    "\n",
    "        print(\"Error loading file\")\n",
    "        print(e)\n",
    "        # os.remove(results_folder + file)\n",
    "        continue\n"
   ]
  }
 ],
 "metadata": {
  "kernelspec": {
   "display_name": "rl_energy",
   "language": "python",
   "name": "python3"
  },
  "language_info": {
   "codemirror_mode": {
    "name": "ipython",
    "version": 3
   },
   "file_extension": ".py",
   "mimetype": "text/x-python",
   "name": "python",
   "nbconvert_exporter": "python",
   "pygments_lexer": "ipython3",
   "version": "3.8.13"
  },
  "vscode": {
   "interpreter": {
    "hash": "236e39eadccf2e8e076ff541217647dde830b1c0b002cee94cff5f6fe2fcb82e"
   }
  }
 },
 "nbformat": 4,
 "nbformat_minor": 2
}
