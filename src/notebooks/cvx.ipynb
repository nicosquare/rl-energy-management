{
 "cells": [
  {
   "cell_type": "code",
   "execution_count": null,
   "id": "8566b5e9",
   "metadata": {},
   "outputs": [],
   "source": [
    "import cvxpy\n",
    "from matplotlib import pyplot as plt\n",
    "import numpy as np\n",
    "from src.components.microgrid_simple import SimpleMicrogrid\n",
    "from src.components.battery import Battery, BatteryParameters\n",
    "from src.rl.a2c.c_mg_simple import set_all_seeds"
   ]
  },
  {
   "cell_type": "code",
   "execution_count": null,
   "id": "f6f98a49",
   "metadata": {},
   "outputs": [],
   "source": [
    "set_all_seeds(0)"
   ]
  },
  {
   "cell_type": "markdown",
   "id": "f254f4b2",
   "metadata": {},
   "source": [
    "### Set env vars"
   ]
  },
  {
   "cell_type": "code",
   "execution_count": null,
   "id": "5e8bfc33",
   "metadata": {},
   "outputs": [],
   "source": [
    "n = 24\n",
    "\n",
    "mg = SimpleMicrogrid(steps=n)\n",
    "# base_demand, demand = mg.demand_family(min_noise=0, max_noise=0)\n",
    "base_demand, demand = mg.demand_home_business(min_noise=0, max_noise=0)\n",
    "base_pv, pv = mg.pv_generation(min_noise=0, max_noise=0)\n",
    "_, _, _, price_s, emission = mg.grid_price_and_emission()\n",
    "\n",
    "price_b = price_s / 4"
   ]
  },
  {
   "cell_type": "code",
   "execution_count": null,
   "id": "93ed3ffd",
   "metadata": {},
   "outputs": [],
   "source": [
    "battery_params = {\n",
    "    \"soc_0\": 0.1,\n",
    "    \"soc_max\":0.9,\n",
    "    \"soc_min\":0.1,\n",
    "    \"p_charge_max\":0.8,\n",
    "    \"p_discharge_max\":0.8,\n",
    "    \"efficiency\":0.9,\n",
    "    \"capacity\":1,\n",
    "    \"sell_price\":0.0,\n",
    "    \"buy_price\":0.0\n",
    "}\n",
    "\n",
    "real_battery = Battery(random_soc_0=False, params = BatteryParameters(battery_params))\n",
    "\n",
    "p_charge, p_discharge, _ = real_battery.check_battery_constraints(power_rate=0.8)\n",
    "real_battery.apply_action(p_charge=p_charge, p_discharge=p_discharge)\n",
    "\n",
    "real_battery.soc.item()\n",
    "\n",
    "# battery.reset()"
   ]
  },
  {
   "cell_type": "markdown",
   "id": "20802d69",
   "metadata": {},
   "source": [
    "### Adv battery calc (not working)"
   ]
  },
  {
   "cell_type": "code",
   "execution_count": null,
   "id": "4e3fc2c6",
   "metadata": {},
   "outputs": [],
   "source": [
    "battery = cvxpy.Variable(n+1)\n",
    "action = cvxpy.Variable(n)\n",
    "consumption = cvxpy.Variable(n)\n",
    "\n",
    "constraints = []\n",
    "# Battery\n",
    "\n",
    "constraints.append(battery[0] == battery_params[\"soc_min\"])\n",
    "\n",
    "for i in range(n+1):\n",
    "    constraints.append(battery[i] <= battery_params[\"soc_max\"])\n",
    "    constraints.append(battery[i] >= battery_params[\"soc_min\"])\n",
    "\n",
    "\n",
    "# Action / Batteryn't\n",
    "\n",
    "for i in range(n):\n",
    "    constraints.append(action[i] <= 1)\n",
    "    constraints.append(action[i] >= -1)\n",
    "\n",
    "# Transition\n",
    "\n",
    "obj = 0\n",
    "\n",
    "for i in range(n):\n",
    "\n",
    "    # Get the battery constraints\n",
    "\n",
    "    # p_charge, p_discharge, _ = real_battery.check_battery_constraints(power_rate=action[i])\n",
    "\n",
    "    # real_battery.apply_action(p_charge=p_charge, p_discharge=p_discharge)\n",
    "\n",
    "    # p_charge = p_charge.item()\n",
    "    # p_discharge = p_discharge.item()\n",
    "\n",
    "    capacity_to_charge = cvxpy.maximum(\n",
    "        (battery_params[\"soc_max\"] * battery_params[\"capacity\"] - battery[i] * battery_params[\"capacity\"]) / battery_params[\"efficiency\"],\n",
    "        0\n",
    "    )\n",
    "\n",
    "    capacity_to_discharge = cvxpy.maximum(\n",
    "        (battery[i] * battery_params[\"capacity\"] - battery_params[\"soc_min\"] * battery_params[\"capacity\"]) / battery_params[\"efficiency\"],\n",
    "        0\n",
    "    )\n",
    "\n",
    "    # p_charge = cvxpy.maximum(action[i], 0)\n",
    "    # p_discharge = cvxpy.maximum(-action[i], 0)\n",
    "    p_charge = 0\n",
    "    p_discharge = 0\n",
    "    \n",
    "    constraints.append(p_charge <= capacity_to_charge)\n",
    "    constraints.append(p_discharge <= capacity_to_discharge)\n",
    "\n",
    "    constraints.append(consumption[i] == base_demand[i]-base_pv[i] + p_charge + p_discharge)\n",
    "    obj += cvxpy.maximum(consumption[i] * (price_s[i] + emission[i]),0) \n",
    "    obj += cvxpy.maximum(-consumption[i] * price_b[i],0)  \n",
    "\n",
    "\n",
    "objective = cvxpy.Minimize(obj)\n",
    "prob = cvxpy.Problem(objective, constraints)\n",
    "res = prob.solve()\n",
    "\n",
    "res, battery.value, action.value"
   ]
  },
  {
   "cell_type": "markdown",
   "id": "369f149f",
   "metadata": {},
   "source": [
    "### Real dataset"
   ]
  },
  {
   "cell_type": "code",
   "execution_count": null,
   "id": "a53982ed",
   "metadata": {},
   "outputs": [],
   "source": [
    "battery = cvxpy.Variable(n+1)\n",
    "action = cvxpy.Variable(n)\n",
    "consumption = cvxpy.Variable(n)\n",
    "\n",
    "constraints = []\n",
    "# Battery\n",
    "\n",
    "constraints.append(battery[0] == battery_params[\"soc_min\"])\n",
    "\n",
    "for i in range(n+1):\n",
    "    constraints.append(battery[i] <= battery_params[\"soc_max\"])\n",
    "    constraints.append(battery[i] >= battery_params[\"soc_min\"])\n",
    "\n",
    "\n",
    "# Action / Batteryn't\n",
    "\n",
    "for i in range(n):\n",
    "    constraints.append(action[i] <= 1)\n",
    "    constraints.append(action[i] >= -1)\n",
    "\n",
    "\n",
    "# Transition\n",
    "\n",
    "obj = 0\n",
    "\n",
    "for i in range(n):\n",
    "    \n",
    "    constraints.append(action[i] <= battery_params[\"p_charge_max\"])\n",
    "    constraints.append(action[i] <= battery_params[\"p_discharge_max\"])\n",
    "    constraints.append(battery[i+1] == battery[i] + action[i])\n",
    "\n",
    "    constraints.append(consumption[i] == demand[i]-pv[i] + action[i])\n",
    "\n",
    "\n",
    "    obj += cvxpy.maximum(consumption[i] * (price_s[i] + emission[i]),0) \n",
    "    obj += cvxpy.maximum(-consumption[i] * price_b[i],0)  \n",
    "\n",
    "\n",
    "objective = cvxpy.Minimize(obj)\n",
    "prob = cvxpy.Problem(objective, constraints)\n",
    "res = prob.solve()\n",
    "\n",
    "res, battery.value, action.value"
   ]
  },
  {
   "cell_type": "markdown",
   "id": "fe4d27c5",
   "metadata": {},
   "source": [
    "### Test Dataset"
   ]
  },
  {
   "cell_type": "code",
   "execution_count": null,
   "id": "deb67b33",
   "metadata": {},
   "outputs": [],
   "source": [
    "n = 4\n",
    "d = np.random.rand(n)\n",
    "g = np.random.rand(n)*0.5\n",
    "pb = np.random.rand(n)\n",
    "ps = pb/4"
   ]
  },
  {
   "cell_type": "code",
   "execution_count": null,
   "id": "aa6c6dd9",
   "metadata": {},
   "outputs": [],
   "source": [
    "\n",
    "battery = cvxpy.Variable(n+1)\n",
    "action = cvxpy.Variable(n)\n",
    "consumption = cvxpy.Variable(n)\n",
    "\n",
    "\n",
    "constraints = []\n",
    "for i in range(n+1):\n",
    "    constraints.append(battery[i] <= 1)\n",
    "    constraints.append(battery[i] >= 0)\n",
    "constraints.append(battery[0] == 0)\n",
    "\n",
    "for i in range(n):\n",
    "    constraints.append(action[i] <= .3)\n",
    "    constraints.append(action[i] >= -1)\n",
    "    \n",
    "\n",
    "obj = 0\n",
    "for i in range(n):\n",
    "    constraints.append(battery[i+1] == battery[i] + action[i]  )\n",
    "\n",
    "    constraints.append(consumption[i] == d[i]-g[i] + action[i] )\n",
    "\n",
    "\n",
    "    obj += cvxpy.maximum(consumption[i]* pb[i],0) \n",
    "    obj += cvxpy.maximum(-consumption[i]*ps[i],0)  \n",
    "\n",
    "\n",
    "objective = cvxpy.Minimize(obj)\n",
    "prob = cvxpy.Problem(objective, constraints)\n",
    "res = prob.solve()\n",
    "\n",
    "res, battery.value, action.value"
   ]
  },
  {
   "cell_type": "code",
   "execution_count": null,
   "id": "86c45c89",
   "metadata": {},
   "outputs": [],
   "source": [
    "\n",
    "\n",
    "x_hat = cvxpy.Variable(A.shape[1])\n",
    "objective = cvxpy.Minimize(cvxpy.norm(x_hat, 1))\n",
    "    constraints = [A * x_hat == y]\n",
    "    prob = cvxpy.Problem(objective, constraints)\n",
    "    prob.solve()\n",
    "    return np.squeeze(np.array(x_hat.value)), (prob.value, prob.status)"
   ]
  },
  {
   "cell_type": "code",
   "execution_count": null,
   "id": "6e236ff1",
   "metadata": {},
   "outputs": [],
   "source": []
  }
 ],
 "metadata": {
  "kernelspec": {
   "display_name": "Python 3.8.13",
   "language": "python",
   "name": "python3"
  },
  "language_info": {
   "codemirror_mode": {
    "name": "ipython",
    "version": 3
   },
   "file_extension": ".py",
   "mimetype": "text/x-python",
   "name": "python",
   "nbconvert_exporter": "python",
   "pygments_lexer": "ipython3",
   "version": "3.8.13"
  },
  "vscode": {
   "interpreter": {
    "hash": "1827cf66144a2c1f348066c2a856561a82b18ee5003c9c48b938b073ad04e659"
   }
  }
 },
 "nbformat": 4,
 "nbformat_minor": 5
}
