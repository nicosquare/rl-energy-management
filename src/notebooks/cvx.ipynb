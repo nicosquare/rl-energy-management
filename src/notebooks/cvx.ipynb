{
 "cells": [
  {
   "cell_type": "code",
   "execution_count": 13,
   "id": "8566b5e9",
   "metadata": {},
   "outputs": [],
   "source": [
    "import cvxpy\n",
    "from matplotlib import pyplot as plt\n",
    "import numpy as np\n",
    "from src.components.synthetic_house import SyntheticHouse\n",
    "from src.components.synthetic_microgrid import SyntheticMicrogrid\n",
    "from src.environments.simple_microgrid import SimpleMicrogrid\n",
    "from src.rl.a2c.d_simple_microgrid import Agent\n",
    "from src.components.battery import Battery, BatteryParameters\n",
    "from src.utils.tools import set_all_seeds, load_config"
   ]
  },
  {
   "cell_type": "markdown",
   "id": "7c4c9877",
   "metadata": {},
   "source": [
    "# Microgrid"
   ]
  },
  {
   "cell_type": "markdown",
   "id": "db71568f",
   "metadata": {},
   "source": [
    "## Functions"
   ]
  },
  {
   "cell_type": "code",
   "execution_count": 14,
   "id": "947dff61",
   "metadata": {},
   "outputs": [],
   "source": [
    "def solver(house: SyntheticHouse, n: int = 24):\n",
    "\n",
    "    battery = cvxpy.Variable(n+1)\n",
    "    action = cvxpy.Variable(n)\n",
    "    consumption = cvxpy.Variable(n)\n",
    "\n",
    "    constraints = []\n",
    "\n",
    "    # Battery\n",
    "        # Starts in 0.1\n",
    "    constraints.append(battery[0] == house.battery.soc_min)\n",
    "        # Max and min batteries\n",
    "    for i in range(n+1):\n",
    "        constraints.append(battery[i] <= house.battery.soc_max)\n",
    "        constraints.append(battery[i] >= house.battery.soc_min)\n",
    "\n",
    "\n",
    "    # Action / Batteryn't\n",
    "\n",
    "    for i in range(n):\n",
    "        constraints.append(action[i] <= 1)\n",
    "        constraints.append(action[i] >= -1)\n",
    "\n",
    "\n",
    "    # Transition\n",
    "    obj = 0\n",
    "\n",
    "    for i in range(n):\n",
    "        \n",
    "        constraints.append(action[i] <= house.battery.p_charge_max)\n",
    "        constraints.append(action[i] <= house.battery.p_discharge_max)\n",
    "        # Update battery\n",
    "        constraints.append(battery[i+1] == battery[i] + action[i] * house.battery.efficiency)\n",
    "        # Update net \n",
    "        constraints.append(consumption[i] == house.demand[i]-house.pv_gen[i] + action[i] * house.battery.efficiency)\n",
    "\n",
    "\n",
    "        obj += cvxpy.maximum(consumption[i] * (house.price[i] + house.emission[i]),0) \n",
    "        obj += cvxpy.maximum(-consumption[i] * house.price[i] * house.grid_sell_rate,0)  \n",
    "\n",
    "\n",
    "    objective = cvxpy.Minimize(obj)\n",
    "    prob = cvxpy.Problem(objective, constraints)\n",
    "    res = prob.solve()\n",
    "\n",
    "    return res, battery.value, action.value"
   ]
  },
  {
   "cell_type": "code",
   "execution_count": 15,
   "id": "44da1023",
   "metadata": {},
   "outputs": [],
   "source": [
    "def get_all_actions(env: SimpleMicrogrid, mode : str = 'train') -> np.ndarray:\n",
    "    # Set mode, train, eval, test\n",
    "    env.mg.change_mode(mode)\n",
    "\n",
    "    # Create arrays to hold score, battery SOC and Action for all houses\n",
    "    rewards, battery_values, action_values = [],[],[]\n",
    "    \n",
    "    # Same for all houses\n",
    "    for house in env.mg.houses:\n",
    "        reward, batt, action = solver(house)\n",
    "        \n",
    "        rewards.append(reward)\n",
    "        battery_values.append(batt)\n",
    "        action_values.append(action)\n",
    "    battery_values = np.array(battery_values)\n",
    "    action_values = np.array(action_values)\n",
    "    rewards = np.array(rewards)\n",
    "\n",
    "    return rewards, battery_values, action_values\n",
    "    # print(\"Mean\", scores.mean(), \"\\n Scores\",rewards)    "
   ]
  },
  {
   "cell_type": "code",
   "execution_count": 16,
   "id": "ee440819",
   "metadata": {},
   "outputs": [],
   "source": [
    "def loop_env(env: SimpleMicrogrid, action_values: np.ndarray, mode : str = 'train') -> np.ndarray:\n",
    "    done = 0\n",
    "    env.mg.change_mode(mode)\n",
    "\n",
    "    env.reset()\n",
    "\n",
    "    # Cycle the entire episode with already computed actions by solver\n",
    "    while not done:\n",
    "        time_step = env.mg.current_step\n",
    "        _,_,done,_ = env.step(action_values[:,time_step])\n",
    "        time_step += 1\n",
    "\n",
    "    # Calculate Score with actions\n",
    "    return env.mg.get_houses_metrics() # output price, emissions "
   ]
  },
  {
   "cell_type": "markdown",
   "id": "915fcdeb",
   "metadata": {},
   "source": [
    "## Run this"
   ]
  },
  {
   "cell_type": "code",
   "execution_count": 17,
   "id": "58e7d8a0",
   "metadata": {},
   "outputs": [
    {
     "name": "stdout",
     "output_type": "stream",
     "text": [
      "1.0029444192063173\n",
      "train  (array([-0.09929886, -0.16271739, -0.04808466, -0.15198558,  0.03388161,\n",
      "        0.03724827]), array([-0.23935303, -0.31534628, -0.13570712, -0.28165016, -0.0298125 ,\n",
      "        0.00033534]))\n",
      "1.2039406659431469\n",
      "2.5285933769868048\n"
     ]
    }
   ],
   "source": [
    "set_all_seeds(0)\n",
    "# create environment,m save array of houses\n",
    "config = load_config(\"zero_mg\")\n",
    "env = SimpleMicrogrid(config=config['env'])\n",
    "\n",
    "# Train\n",
    "mode = 'train'\n",
    "rewards, battery_values, action_values = get_all_actions(env, mode)\n",
    "train_metrics = loop_env(env, action_values, mode)\n",
    "print(rewards[0].mean())\n",
    "print('train ', train_metrics)\n",
    "\n",
    "# Eval\n",
    "mode = 'eval'\n",
    "rewards, battery_values, action_values = get_all_actions(env, mode)\n",
    "print(rewards[0].mean())\n",
    "eval_metrics = loop_env(env, action_values, mode)\n",
    "\n",
    "# Test\n",
    "mode = 'test'\n",
    "rewards, battery_values, action_values = get_all_actions(env, mode)\n",
    "print(rewards[0].mean())\n",
    "test_metrics = loop_env(env, action_values, mode)\n"
   ]
  },
  {
   "cell_type": "code",
   "execution_count": 18,
   "id": "d12b3b54",
   "metadata": {},
   "outputs": [
    {
     "data": {
      "text/plain": [
       "array([-0.06515943, -0.16692229])"
      ]
     },
     "execution_count": 18,
     "metadata": {},
     "output_type": "execute_result"
    }
   ],
   "source": [
    "np.array(train_metrics).mean(axis=1)"
   ]
  },
  {
   "cell_type": "code",
   "execution_count": 19,
   "id": "32ea61c1",
   "metadata": {},
   "outputs": [
    {
     "data": {
      "text/plain": [
       "((array([-0.09929886, -0.16271739, -0.04808466, -0.15198558,  0.03388161,\n",
       "          0.03724827]),\n",
       "  array([-0.23935303, -0.31534628, -0.13570712, -0.28165016, -0.0298125 ,\n",
       "          0.00033534])),\n",
       " (array([-0.18073769, -0.13861451, -0.13705395,  0.01801452, -0.08770782,\n",
       "          0.02134148]),\n",
       "  array([-0.35173296, -0.27818922, -0.25554218, -0.02177083, -0.17006995,\n",
       "         -0.02798345])),\n",
       " (array([-0.17577385, -0.25198997, -0.18895732,  0.04679109, -0.04659103,\n",
       "          0.03022902,  0.00812369, -0.0376431 ,  0.06172703, -0.03975418]),\n",
       "  array([-3.22765870e-01, -4.61615321e-01, -3.43667000e-01, -2.69293021e-04,\n",
       "         -1.39544784e-01, -6.55449237e-03, -6.60324787e-02, -7.36377648e-02,\n",
       "          8.35868715e-03, -7.45623736e-02])))"
      ]
     },
     "execution_count": 19,
     "metadata": {},
     "output_type": "execute_result"
    }
   ],
   "source": [
    "train_metrics, eval_metrics, test_metrics"
   ]
  },
  {
   "cell_type": "code",
   "execution_count": 21,
   "id": "4860e912",
   "metadata": {},
   "outputs": [
    {
     "name": "stdout",
     "output_type": "stream",
     "text": [
      "Running on GPU\n"
     ]
    },
    {
     "name": "stderr",
     "output_type": "stream",
     "text": [
      "  0%|          | 0/2000 [00:00<?, ?it/s]"
     ]
    },
    {
     "name": "stdout",
     "output_type": "stream",
     "text": [
      "rollout_avg_reward: -1.624745704484815 \n",
      "actor_loss: -70.49291229248047 \n",
      "critic_loss: 1.0898540019989014 \n",
      "avg_action: 0.0038962339743590013 \n"
     ]
    },
    {
     "name": "stderr",
     "output_type": "stream",
     "text": [
      "  0%|          | 1/2000 [00:13<7:28:20, 13.46s/it]"
     ]
    },
    {
     "name": "stdout",
     "output_type": "stream",
     "text": [
      "Saving model on step: 0\n"
     ]
    },
    {
     "name": "stderr",
     "output_type": "stream",
     "text": [
      "  2%|▎         | 50/2000 [01:15<35:52,  1.10s/it] "
     ]
    },
    {
     "name": "stdout",
     "output_type": "stream",
     "text": [
      "rollout_avg_reward: -1.5532283402107208 \n",
      "actor_loss: 3.397155284881592 \n",
      "critic_loss: 0.3137674033641815 \n",
      "avg_action: -0.005068108974358944 \n"
     ]
    },
    {
     "name": "stderr",
     "output_type": "stream",
     "text": [
      "  5%|▌         | 100/2000 [02:24<48:53,  1.54s/it]"
     ]
    },
    {
     "name": "stdout",
     "output_type": "stream",
     "text": [
      "rollout_avg_reward: -1.4260773960447182 \n",
      "actor_loss: 1.6605123281478882 \n",
      "critic_loss: 0.20972318947315216 \n",
      "avg_action: -0.08238181089743588 \n"
     ]
    },
    {
     "name": "stderr",
     "output_type": "stream",
     "text": [
      "  8%|▊         | 150/2000 [03:28<46:48,  1.52s/it]"
     ]
    },
    {
     "name": "stdout",
     "output_type": "stream",
     "text": [
      "rollout_avg_reward: -1.2496904645828117 \n",
      "actor_loss: 0.8407720327377319 \n",
      "critic_loss: 0.18547984957695007 \n",
      "avg_action: -0.1583934294871795 \n"
     ]
    },
    {
     "name": "stderr",
     "output_type": "stream",
     "text": [
      " 10%|█         | 200/2000 [04:28<20:25,  1.47it/s]"
     ]
    },
    {
     "name": "stdout",
     "output_type": "stream",
     "text": [
      "rollout_avg_reward: -1.2379203368694796 \n",
      "actor_loss: 0.3684002757072449 \n",
      "critic_loss: 0.18030185997486115 \n",
      "avg_action: -0.20706129807692303 \n"
     ]
    },
    {
     "name": "stderr",
     "output_type": "stream",
     "text": [
      " 12%|█▎        | 250/2000 [05:34<44:44,  1.53s/it]"
     ]
    },
    {
     "name": "stdout",
     "output_type": "stream",
     "text": [
      "rollout_avg_reward: -1.24209425880464 \n",
      "actor_loss: 0.047536373138427734 \n",
      "critic_loss: 0.18447108566761017 \n",
      "avg_action: -0.24201722756410257 \n"
     ]
    },
    {
     "name": "stderr",
     "output_type": "stream",
     "text": [
      " 13%|█▎        | 251/2000 [05:36<46:00,  1.58s/it]"
     ]
    },
    {
     "name": "stdout",
     "output_type": "stream",
     "text": [
      "Saving model on step: 250\n"
     ]
    },
    {
     "name": "stderr",
     "output_type": "stream",
     "text": [
      " 15%|█▌        | 300/2000 [06:37<35:23,  1.25s/it]"
     ]
    },
    {
     "name": "stdout",
     "output_type": "stream",
     "text": [
      "rollout_avg_reward: -1.2394334850886484 \n",
      "actor_loss: -0.3622734546661377 \n",
      "critic_loss: 0.18374039232730865 \n",
      "avg_action: -0.24490184294871792 \n"
     ]
    },
    {
     "name": "stderr",
     "output_type": "stream",
     "text": [
      " 18%|█▊        | 350/2000 [07:45<40:09,  1.46s/it]"
     ]
    },
    {
     "name": "stdout",
     "output_type": "stream",
     "text": [
      "rollout_avg_reward: -1.2375378491461315 \n",
      "actor_loss: -0.044324081391096115 \n",
      "critic_loss: 0.18275056779384613 \n",
      "avg_action: -0.24604366987179482 \n"
     ]
    },
    {
     "name": "stderr",
     "output_type": "stream",
     "text": [
      " 20%|██        | 400/2000 [08:49<40:36,  1.52s/it]"
     ]
    },
    {
     "name": "stdout",
     "output_type": "stream",
     "text": [
      "rollout_avg_reward: -1.2316793145691836 \n",
      "actor_loss: 0.11012029647827148 \n",
      "critic_loss: 0.18317486345767975 \n",
      "avg_action: -0.24718549679487178 \n"
     ]
    },
    {
     "name": "stderr",
     "output_type": "stream",
     "text": [
      " 22%|██▎       | 450/2000 [09:53<27:48,  1.08s/it]"
     ]
    },
    {
     "name": "stdout",
     "output_type": "stream",
     "text": [
      "rollout_avg_reward: -1.2327308014499174 \n",
      "actor_loss: 0.07841388881206512 \n",
      "critic_loss: 0.1814463585615158 \n",
      "avg_action: -0.25026041666666665 \n"
     ]
    },
    {
     "name": "stderr",
     "output_type": "stream",
     "text": [
      " 25%|██▌       | 500/2000 [11:02<39:28,  1.58s/it]"
     ]
    },
    {
     "name": "stdout",
     "output_type": "stream",
     "text": [
      "rollout_avg_reward: -1.2367186024546564 \n",
      "actor_loss: 0.2383328378200531 \n",
      "critic_loss: 0.18390949070453644 \n",
      "avg_action: -0.25089142628205124 \n"
     ]
    },
    {
     "name": "stderr",
     "output_type": "stream",
     "text": [
      " 25%|██▌       | 501/2000 [11:02<30:31,  1.22s/it]"
     ]
    },
    {
     "name": "stdout",
     "output_type": "stream",
     "text": [
      "Saving model on step: 500\n"
     ]
    },
    {
     "name": "stderr",
     "output_type": "stream",
     "text": [
      " 28%|██▊       | 550/2000 [12:04<35:45,  1.48s/it]"
     ]
    },
    {
     "name": "stdout",
     "output_type": "stream",
     "text": [
      "rollout_avg_reward: -1.2288207683512902 \n",
      "actor_loss: -0.03653176873922348 \n",
      "critic_loss: 0.17840643227100372 \n",
      "avg_action: -0.2455528846153846 \n"
     ]
    },
    {
     "name": "stderr",
     "output_type": "stream",
     "text": [
      " 30%|███       | 600/2000 [13:07<15:50,  1.47it/s]"
     ]
    },
    {
     "name": "stdout",
     "output_type": "stream",
     "text": [
      "rollout_avg_reward: -1.2189109345487037 \n",
      "actor_loss: 0.1566474437713623 \n",
      "critic_loss: 0.17799891531467438 \n",
      "avg_action: -0.23858173076923073 \n"
     ]
    },
    {
     "name": "stderr",
     "output_type": "stream",
     "text": [
      " 32%|███▎      | 650/2000 [14:17<35:02,  1.56s/it]"
     ]
    },
    {
     "name": "stdout",
     "output_type": "stream",
     "text": [
      "rollout_avg_reward: -1.200436893693592 \n",
      "actor_loss: -0.006015460006892681 \n",
      "critic_loss: 0.1741563230752945 \n",
      "avg_action: -0.21232972756410254 \n"
     ]
    },
    {
     "name": "stderr",
     "output_type": "stream",
     "text": [
      " 35%|███▌      | 700/2000 [15:23<33:42,  1.56s/it]"
     ]
    },
    {
     "name": "stdout",
     "output_type": "stream",
     "text": [
      "rollout_avg_reward: -1.167828086481874 \n",
      "actor_loss: 0.050843238830566406 \n",
      "critic_loss: 0.1663559079170227 \n",
      "avg_action: -0.1838842147435897 \n"
     ]
    },
    {
     "name": "stderr",
     "output_type": "stream",
     "text": [
      " 38%|███▊      | 750/2000 [16:29<26:41,  1.28s/it]"
     ]
    },
    {
     "name": "stdout",
     "output_type": "stream",
     "text": [
      "rollout_avg_reward: -1.1340446416889665 \n",
      "actor_loss: -0.14431476593017578 \n",
      "critic_loss: 0.16194774210453033 \n",
      "avg_action: -0.1581630608974359 \n"
     ]
    },
    {
     "name": "stderr",
     "output_type": "stream",
     "text": [
      " 38%|███▊      | 751/2000 [16:31<28:57,  1.39s/it]"
     ]
    },
    {
     "name": "stdout",
     "output_type": "stream",
     "text": [
      "Saving model on step: 750\n"
     ]
    },
    {
     "name": "stderr",
     "output_type": "stream",
     "text": [
      " 40%|████      | 800/2000 [17:37<30:38,  1.53s/it]"
     ]
    },
    {
     "name": "stdout",
     "output_type": "stream",
     "text": [
      "rollout_avg_reward: -1.1047244304092223 \n",
      "actor_loss: 0.2175191342830658 \n",
      "critic_loss: 0.1434435099363327 \n",
      "avg_action: -0.1113782051282051 \n"
     ]
    },
    {
     "name": "stderr",
     "output_type": "stream",
     "text": [
      " 42%|████▎     | 850/2000 [18:43<29:16,  1.53s/it]"
     ]
    },
    {
     "name": "stdout",
     "output_type": "stream",
     "text": [
      "rollout_avg_reward: -1.0771175052413158 \n",
      "actor_loss: -0.13802513480186462 \n",
      "critic_loss: 0.12832482159137726 \n",
      "avg_action: -0.07295673076923076 \n"
     ]
    },
    {
     "name": "stderr",
     "output_type": "stream",
     "text": [
      " 45%|████▌     | 900/2000 [19:44<16:52,  1.09it/s]"
     ]
    },
    {
     "name": "stdout",
     "output_type": "stream",
     "text": [
      "rollout_avg_reward: -1.068829676208544 \n",
      "actor_loss: -0.07835801690816879 \n",
      "critic_loss: 0.12083522230386734 \n",
      "avg_action: -0.05322516025641022 \n"
     ]
    },
    {
     "name": "stderr",
     "output_type": "stream",
     "text": [
      " 48%|████▊     | 950/2000 [20:54<27:51,  1.59s/it]"
     ]
    },
    {
     "name": "stdout",
     "output_type": "stream",
     "text": [
      "rollout_avg_reward: -1.0693956147798092 \n",
      "actor_loss: -0.21780380606651306 \n",
      "critic_loss: 0.12319767475128174 \n",
      "avg_action: -0.03231169871794868 \n"
     ]
    },
    {
     "name": "stderr",
     "output_type": "stream",
     "text": [
      " 50%|█████     | 1000/2000 [22:00<26:10,  1.57s/it]"
     ]
    },
    {
     "name": "stdout",
     "output_type": "stream",
     "text": [
      "rollout_avg_reward: -1.0562847045228936 \n",
      "actor_loss: -0.10657215118408203 \n",
      "critic_loss: 0.12012384086847305 \n",
      "avg_action: -0.029226762820512793 \n"
     ]
    },
    {
     "name": "stderr",
     "output_type": "stream",
     "text": [
      " 50%|█████     | 1001/2000 [22:02<26:24,  1.59s/it]"
     ]
    },
    {
     "name": "stdout",
     "output_type": "stream",
     "text": [
      "Saving model on step: 1000\n"
     ]
    },
    {
     "name": "stderr",
     "output_type": "stream",
     "text": [
      " 52%|█████▎    | 1050/2000 [23:07<22:31,  1.42s/it]"
     ]
    },
    {
     "name": "stdout",
     "output_type": "stream",
     "text": [
      "rollout_avg_reward: -1.0480665945063896 \n",
      "actor_loss: -0.15339970588684082 \n",
      "critic_loss: 0.11602097004652023 \n",
      "avg_action: -0.021524439102564057 \n"
     ]
    },
    {
     "name": "stderr",
     "output_type": "stream",
     "text": [
      " 55%|█████▌    | 1100/2000 [24:13<10:50,  1.38it/s]"
     ]
    },
    {
     "name": "stdout",
     "output_type": "stream",
     "text": [
      "rollout_avg_reward: -1.055013767851665 \n",
      "actor_loss: -0.1118261069059372 \n",
      "critic_loss: 0.12011851370334625 \n",
      "avg_action: -0.04081530448717948 \n"
     ]
    },
    {
     "name": "stderr",
     "output_type": "stream",
     "text": [
      " 57%|█████▊    | 1150/2000 [25:21<21:46,  1.54s/it]"
     ]
    },
    {
     "name": "stdout",
     "output_type": "stream",
     "text": [
      "rollout_avg_reward: -1.0425444750360093 \n",
      "actor_loss: 0.10492189973592758 \n",
      "critic_loss: 0.11870673298835754 \n",
      "avg_action: -0.05197315705128204 \n"
     ]
    },
    {
     "name": "stderr",
     "output_type": "stream",
     "text": [
      " 60%|██████    | 1200/2000 [26:24<18:39,  1.40s/it]"
     ]
    },
    {
     "name": "stdout",
     "output_type": "stream",
     "text": [
      "rollout_avg_reward: -1.0448066093496642 \n",
      "actor_loss: -0.191390722990036 \n",
      "critic_loss: 0.11882983148097992 \n",
      "avg_action: -0.04299879807692306 \n"
     ]
    },
    {
     "name": "stderr",
     "output_type": "stream",
     "text": [
      " 62%|██████▎   | 1250/2000 [27:30<07:54,  1.58it/s]"
     ]
    },
    {
     "name": "stdout",
     "output_type": "stream",
     "text": [
      "rollout_avg_reward: -1.0504180952677709 \n",
      "actor_loss: 0.004160960670560598 \n",
      "critic_loss: 0.11975815892219543 \n",
      "avg_action: -0.04725560897435896 \n"
     ]
    },
    {
     "name": "stderr",
     "output_type": "stream",
     "text": [
      " 63%|██████▎   | 1251/2000 [27:31<07:21,  1.69it/s]"
     ]
    },
    {
     "name": "stdout",
     "output_type": "stream",
     "text": [
      "Saving model on step: 1250\n"
     ]
    },
    {
     "name": "stderr",
     "output_type": "stream",
     "text": [
      " 65%|██████▌   | 1300/2000 [28:06<09:31,  1.23it/s]"
     ]
    },
    {
     "name": "stdout",
     "output_type": "stream",
     "text": [
      "rollout_avg_reward: -1.0461851393166066 \n",
      "actor_loss: 0.009436528198421001 \n",
      "critic_loss: 0.11490220576524734 \n",
      "avg_action: -0.0016025641025640784 \n"
     ]
    },
    {
     "name": "stderr",
     "output_type": "stream",
     "text": [
      " 68%|██████▊   | 1350/2000 [29:23<12:12,  1.13s/it]"
     ]
    },
    {
     "name": "stdout",
     "output_type": "stream",
     "text": [
      "rollout_avg_reward: -1.0468539040710363 \n",
      "actor_loss: -0.06203901767730713 \n",
      "critic_loss: 0.12170282751321793 \n",
      "avg_action: -0.06256009615384613 \n"
     ]
    },
    {
     "name": "stderr",
     "output_type": "stream",
     "text": [
      " 70%|███████   | 1400/2000 [30:33<15:34,  1.56s/it]"
     ]
    },
    {
     "name": "stdout",
     "output_type": "stream",
     "text": [
      "rollout_avg_reward: -1.045444766884058 \n",
      "actor_loss: -0.18992218375205994 \n",
      "critic_loss: 0.11984584480524063 \n",
      "avg_action: -0.05132211538461537 \n"
     ]
    },
    {
     "name": "stderr",
     "output_type": "stream",
     "text": [
      " 72%|███████▎  | 1450/2000 [31:35<13:38,  1.49s/it]"
     ]
    },
    {
     "name": "stdout",
     "output_type": "stream",
     "text": [
      "rollout_avg_reward: -1.0426815369001239 \n",
      "actor_loss: -0.19644109904766083 \n",
      "critic_loss: 0.11704018712043762 \n",
      "avg_action: -0.040114182692307675 \n"
     ]
    },
    {
     "name": "stderr",
     "output_type": "stream",
     "text": [
      " 75%|███████▌  | 1500/2000 [32:39<07:17,  1.14it/s]"
     ]
    },
    {
     "name": "stdout",
     "output_type": "stream",
     "text": [
      "rollout_avg_reward: -1.0457299431664686 \n",
      "actor_loss: 0.05046912282705307 \n",
      "critic_loss: 0.11812761425971985 \n",
      "avg_action: -0.060386618589743576 \n"
     ]
    },
    {
     "name": "stderr",
     "output_type": "stream",
     "text": [
      " 75%|███████▌  | 1501/2000 [32:41<08:58,  1.08s/it]"
     ]
    },
    {
     "name": "stdout",
     "output_type": "stream",
     "text": [
      "Saving model on step: 1500\n"
     ]
    },
    {
     "name": "stderr",
     "output_type": "stream",
     "text": [
      " 78%|███████▊  | 1550/2000 [33:46<10:50,  1.45s/it]"
     ]
    },
    {
     "name": "stdout",
     "output_type": "stream",
     "text": [
      "rollout_avg_reward: -1.040044533450617 \n",
      "actor_loss: -0.10384460538625717 \n",
      "critic_loss: 0.11651379615068436 \n",
      "avg_action: -0.054266826923076904 \n"
     ]
    },
    {
     "name": "stderr",
     "output_type": "stream",
     "text": [
      " 80%|████████  | 1600/2000 [34:51<10:12,  1.53s/it]"
     ]
    },
    {
     "name": "stdout",
     "output_type": "stream",
     "text": [
      "rollout_avg_reward: -1.0415271362285743 \n",
      "actor_loss: -0.03689539432525635 \n",
      "critic_loss: 0.11617105454206467 \n",
      "avg_action: -0.02927684294871794 \n"
     ]
    },
    {
     "name": "stderr",
     "output_type": "stream",
     "text": [
      " 82%|████████▎ | 1650/2000 [35:55<04:58,  1.17it/s]"
     ]
    },
    {
     "name": "stdout",
     "output_type": "stream",
     "text": [
      "rollout_avg_reward: -1.0425746815325534 \n",
      "actor_loss: 0.1707237958908081 \n",
      "critic_loss: 0.11619456857442856 \n",
      "avg_action: -0.04266826923076923 \n"
     ]
    },
    {
     "name": "stderr",
     "output_type": "stream",
     "text": [
      " 85%|████████▌ | 1700/2000 [37:02<07:52,  1.57s/it]"
     ]
    },
    {
     "name": "stdout",
     "output_type": "stream",
     "text": [
      "rollout_avg_reward: -1.042318727325167 \n",
      "actor_loss: -0.04353861138224602 \n",
      "critic_loss: 0.11736660450696945 \n",
      "avg_action: -0.05578926282051281 \n"
     ]
    },
    {
     "name": "stderr",
     "output_type": "stream",
     "text": [
      " 88%|████████▊ | 1750/2000 [38:06<05:45,  1.38s/it]"
     ]
    },
    {
     "name": "stdout",
     "output_type": "stream",
     "text": [
      "rollout_avg_reward: -1.041681400730242 \n",
      "actor_loss: 0.0341775044798851 \n",
      "critic_loss: 0.1159469410777092 \n",
      "avg_action: -0.04683493589743589 \n"
     ]
    },
    {
     "name": "stderr",
     "output_type": "stream",
     "text": [
      " 88%|████████▊ | 1751/2000 [38:08<05:57,  1.44s/it]"
     ]
    },
    {
     "name": "stdout",
     "output_type": "stream",
     "text": [
      "Saving model on step: 1750\n"
     ]
    },
    {
     "name": "stderr",
     "output_type": "stream",
     "text": [
      " 90%|█████████ | 1800/2000 [39:12<02:29,  1.34it/s]"
     ]
    },
    {
     "name": "stdout",
     "output_type": "stream",
     "text": [
      "rollout_avg_reward: -1.0426161918475347 \n",
      "actor_loss: 0.19836434721946716 \n",
      "critic_loss: 0.11662819981575012 \n",
      "avg_action: -0.057291666666666664 \n"
     ]
    },
    {
     "name": "stderr",
     "output_type": "stream",
     "text": [
      " 92%|█████████▎| 1850/2000 [40:20<03:59,  1.60s/it]"
     ]
    },
    {
     "name": "stdout",
     "output_type": "stream",
     "text": [
      "rollout_avg_reward: -1.0396302791555938 \n",
      "actor_loss: 0.08351850509643555 \n",
      "critic_loss: 0.11544070392847061 \n",
      "avg_action: -0.03260216346153845 \n"
     ]
    },
    {
     "name": "stderr",
     "output_type": "stream",
     "text": [
      " 95%|█████████▌| 1900/2000 [41:24<02:23,  1.43s/it]"
     ]
    },
    {
     "name": "stdout",
     "output_type": "stream",
     "text": [
      "rollout_avg_reward: -1.0384493449349834 \n",
      "actor_loss: 0.04444877430796623 \n",
      "critic_loss: 0.11411681771278381 \n",
      "avg_action: -0.021965144230769215 \n"
     ]
    },
    {
     "name": "stderr",
     "output_type": "stream",
     "text": [
      " 98%|█████████▊| 1950/2000 [42:29<00:44,  1.12it/s]"
     ]
    },
    {
     "name": "stdout",
     "output_type": "stream",
     "text": [
      "rollout_avg_reward: -1.0382919570008882 \n",
      "actor_loss: 0.21426928043365479 \n",
      "critic_loss: 0.11401542276144028 \n",
      "avg_action: -0.056500400641025635 \n"
     ]
    },
    {
     "name": "stderr",
     "output_type": "stream",
     "text": [
      "100%|██████████| 2000/2000 [43:38<00:00,  1.31s/it]\n",
      "100%|██████████| 2000/2000 [11:27<00:00,  2.91it/s]\n"
     ]
    }
   ],
   "source": [
    "set_all_seeds(0)\n",
    "\n",
    "model = \"d_a2c_mg\"\n",
    "config = load_config(model)\n",
    "config = config['train']\n",
    "my_env = SimpleMicrogrid(config=config['env'])\n",
    "\n",
    "agent = Agent(env=my_env, config = config)\n",
    "results_ag = agent.train()\n",
    "results_ag['test'] = agent.test()\n",
    "agent.wdb_logger.finish()"
   ]
  },
  {
   "cell_type": "markdown",
   "id": "0b6c8079",
   "metadata": {},
   "source": [
    "# House"
   ]
  },
  {
   "cell_type": "markdown",
   "id": "f254f4b2",
   "metadata": {},
   "source": [
    "### Set env vars"
   ]
  },
  {
   "cell_type": "code",
   "execution_count": 47,
   "id": "5e8bfc33",
   "metadata": {},
   "outputs": [],
   "source": [
    "set_all_seeds(0)\n",
    "\n",
    "# Same env obs as test simple env\n",
    "\n",
    "config = load_config(\"c_a2c\")\n",
    "config = config['train']\n",
    "\n",
    "mg = SyntheticHouse(config=config['env'])\n",
    "demand = mg.demand\n",
    "pv = mg.pv_gen\n",
    "price_s = mg.price\n",
    "emission = mg.emission\n",
    "price_b = price_s / 4"
   ]
  },
  {
   "cell_type": "code",
   "execution_count": 48,
   "id": "93ed3ffd",
   "metadata": {},
   "outputs": [
    {
     "data": {
      "text/plain": [
       "0.8200000000000001"
      ]
     },
     "execution_count": 48,
     "metadata": {},
     "output_type": "execute_result"
    }
   ],
   "source": [
    "battery_params = {\n",
    "    \"soc_0\": 0.1,\n",
    "    \"soc_max\":0.9,\n",
    "    \"soc_min\":0.1,\n",
    "    \"p_charge_max\":0.8,\n",
    "    \"p_discharge_max\":0.8,\n",
    "    \"efficiency\":0.9,\n",
    "    \"capacity\":1,\n",
    "    \"sell_price\":0.0,\n",
    "    \"buy_price\":0.0\n",
    "    \n",
    "}\n",
    "\n",
    "real_battery = Battery(random_soc_0=False, params = BatteryParameters(battery_params))\n",
    "\n",
    "p_charge, p_discharge, _ = real_battery.check_battery_constraints(power_rate=0.8)\n",
    "real_battery.apply_action(p_charge=p_charge, p_discharge=p_discharge)\n",
    "\n",
    "real_battery.soc.item()\n",
    "\n",
    "# battery.reset()"
   ]
  },
  {
   "cell_type": "markdown",
   "id": "20802d69",
   "metadata": {},
   "source": [
    "### Adv battery calc (not working)"
   ]
  },
  {
   "cell_type": "code",
   "execution_count": 49,
   "id": "3f080ddb",
   "metadata": {},
   "outputs": [
    {
     "ename": "NameError",
     "evalue": "name 'n' is not defined",
     "output_type": "error",
     "traceback": [
      "\u001b[0;31m---------------------------------------------------------------------------\u001b[0m",
      "\u001b[0;31mNameError\u001b[0m                                 Traceback (most recent call last)",
      "Cell \u001b[0;32mIn [49], line 2\u001b[0m\n\u001b[1;32m      1\u001b[0m set_all_seeds(\u001b[39m0\u001b[39m)\n\u001b[0;32m----> 2\u001b[0m battery \u001b[39m=\u001b[39m cvxpy\u001b[39m.\u001b[39mVariable(n\u001b[39m+\u001b[39m\u001b[39m1\u001b[39m)\n\u001b[1;32m      3\u001b[0m action \u001b[39m=\u001b[39m cvxpy\u001b[39m.\u001b[39mVariable(n)\n\u001b[1;32m      4\u001b[0m consumption \u001b[39m=\u001b[39m cvxpy\u001b[39m.\u001b[39mVariable(n)\n",
      "\u001b[0;31mNameError\u001b[0m: name 'n' is not defined"
     ]
    }
   ],
   "source": [
    "set_all_seeds(0)\n",
    "battery = cvxpy.Variable(n+1)\n",
    "action = cvxpy.Variable(n)\n",
    "consumption = cvxpy.Variable(n)\n",
    "\n",
    "constraints = []\n",
    "# Battery\n",
    "    # Starts in 0.1\n",
    "constraints.append(battery[0] == battery_params[\"soc_min\"])\n",
    "    # Max and min batteries\n",
    "for i in range(n+1):\n",
    "    constraints.append(battery[i] <= battery_params[\"soc_max\"])\n",
    "    constraints.append(battery[i] >= battery_params[\"soc_min\"])\n",
    "\n",
    "\n",
    "# Action / Batteryn't\n",
    "# for i in range(n):\n",
    "#     constraints.append(action[i] <= 0.9)\n",
    "#     constraints.append(action[i] >= -0.9)\n",
    "\n",
    "# Transition\n",
    "obj = 0\n",
    "\n",
    "for i in range(n):\n",
    "    # Max and min battery charge \n",
    "    constraints.append(action[i] <= battery_params[\"p_charge_max\"])\n",
    "    constraints.append(action[i] <= battery_params[\"p_discharge_max\"])\n",
    "    # Update battery SOC\n",
    "    # self.soc = self.soc + (p_charge * self.efficiency - p_discharge / self.efficiency) / self.capacity\n",
    "\n",
    "    constraints.append(battery[i+1] == battery[i] + ((action[i] * battery_params[\"efficiency\"])/battery_params[\"efficiency\"])/battery_params[\"capacity\"] )\n",
    "    # Update net \n",
    "    constraints.append(consumption[i] == demand[i]-pv[i] + action[i] * battery_params[\"efficiency\"])\n",
    "\n",
    "\n",
    "    obj += cvxpy.maximum(consumption[i] * (price_s[i] + emission[i]),0) \n",
    "    obj += cvxpy.maximum(-consumption[i] * price_b[i],0)  \n",
    "\n",
    "\n",
    "objective = cvxpy.Minimize(obj)\n",
    "prob = cvxpy.Problem(objective, constraints)\n",
    "res = prob.solve()\n",
    "\n",
    "res, battery.value, action.value, consumption.value, price_s"
   ]
  },
  {
   "cell_type": "markdown",
   "id": "369f149f",
   "metadata": {},
   "source": [
    "### Real dataset"
   ]
  },
  {
   "cell_type": "code",
   "execution_count": null,
   "id": "a53982ed",
   "metadata": {},
   "outputs": [],
   "source": [
    "n = 24\n",
    "\n",
    "battery = cvxpy.Variable(n+1)\n",
    "action = cvxpy.Variable(n)\n",
    "consumption = cvxpy.Variable(n)\n",
    "\n",
    "constraints = []\n",
    "# Battery\n",
    "    # Starts in 0.1\n",
    "constraints.append(battery[0] == battery_params[\"soc_min\"])\n",
    "    # Max and min batteries\n",
    "for i in range(n+1):\n",
    "    constraints.append(battery[i] <= battery_params[\"soc_max\"])\n",
    "    constraints.append(battery[i] >= battery_params[\"soc_min\"])\n",
    "\n",
    "\n",
    "# Action / Batteryn't\n",
    "\n",
    "for i in range(n):\n",
    "    constraints.append(action[i] <= 1)\n",
    "    constraints.append(action[i] >= -1)\n",
    "\n",
    "\n",
    "# Transition\n",
    "obj = 0\n",
    "\n",
    "for i in range(n):\n",
    "    \n",
    "    constraints.append(action[i] <= battery_params[\"p_charge_max\"])\n",
    "    constraints.append(action[i] <= battery_params[\"p_discharge_max\"])\n",
    "    # Update battery\n",
    "    constraints.append(battery[i+1] == battery[i] + action[i] * battery_params[\"efficiency\"])\n",
    "    # Update net \n",
    "    constraints.append(consumption[i] == demand[i]-pv[i] + action[i] * battery_params[\"efficiency\"])\n",
    "\n",
    "\n",
    "    obj += cvxpy.maximum(consumption[i] * (price_s[i] + emission[i]),0) \n",
    "    obj += cvxpy.maximum(-consumption[i] * price_b[i],0)  \n",
    "\n",
    "\n",
    "objective = cvxpy.Minimize(obj)\n",
    "prob = cvxpy.Problem(objective, constraints)\n",
    "res = prob.solve()\n",
    "\n",
    "res, battery.value, action.value"
   ]
  },
  {
   "cell_type": "markdown",
   "id": "fe4d27c5",
   "metadata": {},
   "source": [
    "### Test Dataset"
   ]
  },
  {
   "cell_type": "code",
   "execution_count": null,
   "id": "deb67b33",
   "metadata": {},
   "outputs": [],
   "source": [
    "n = 4\n",
    "d = np.random.rand(n)\n",
    "g = np.random.rand(n)*0.5\n",
    "pb = np.random.rand(n)\n",
    "ps = pb/4"
   ]
  },
  {
   "cell_type": "code",
   "execution_count": null,
   "id": "aa6c6dd9",
   "metadata": {},
   "outputs": [],
   "source": [
    "\n",
    "battery = cvxpy.Variable(n+1)\n",
    "action = cvxpy.Variable(n)\n",
    "consumption = cvxpy.Variable(n)\n",
    "\n",
    "\n",
    "constraints = []\n",
    "for i in range(n+1):\n",
    "    constraints.append(battery[i] <= 1)\n",
    "    constraints.append(battery[i] >= 0)\n",
    "constraints.append(battery[0] == 0)\n",
    "\n",
    "for i in range(n):\n",
    "    constraints.append(action[i] <= .3)\n",
    "    constraints.append(action[i] >= -1)\n",
    "    \n",
    "\n",
    "obj = 0\n",
    "for i in range(n):\n",
    "    constraints.append(battery[i+1] == battery[i] + action[i]  )\n",
    "\n",
    "    constraints.append(consumption[i] == d[i]-g[i] + action[i] )\n",
    "\n",
    "\n",
    "    obj += cvxpy.maximum(consumption[i]* pb[i],0) \n",
    "    obj += cvxpy.maximum(-consumption[i]*ps[i],0)  \n",
    "\n",
    "\n",
    "objective = cvxpy.Minimize(obj)\n",
    "prob = cvxpy.Problem(objective, constraints)\n",
    "res = prob.solve()\n",
    "\n",
    "res, battery.value, action.value"
   ]
  }
 ],
 "metadata": {
  "kernelspec": {
   "display_name": "Python 3.8.13 ('bcte')",
   "language": "python",
   "name": "python3"
  },
  "language_info": {
   "codemirror_mode": {
    "name": "ipython",
    "version": 3
   },
   "file_extension": ".py",
   "mimetype": "text/x-python",
   "name": "python",
   "nbconvert_exporter": "python",
   "pygments_lexer": "ipython3",
   "version": "3.8.13"
  },
  "vscode": {
   "interpreter": {
    "hash": "4360e16d43ac692103fa28bcc8d0bd7c33534b35175524cb6d3ea499dda18b7b"
   }
  }
 },
 "nbformat": 4,
 "nbformat_minor": 5
}
