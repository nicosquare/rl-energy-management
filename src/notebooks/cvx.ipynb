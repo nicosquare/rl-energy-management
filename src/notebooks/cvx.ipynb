{
 "cells": [
  {
   "cell_type": "code",
   "execution_count": 1,
   "id": "8566b5e9",
   "metadata": {},
   "outputs": [
    {
     "name": "stderr",
     "output_type": "stream",
     "text": [
      "/home/roberto.guillen/.conda/envs/bcte/lib/python3.8/site-packages/tqdm/auto.py:22: TqdmWarning: IProgress not found. Please update jupyter and ipywidgets. See https://ipywidgets.readthedocs.io/en/stable/user_install.html\n",
      "  from .autonotebook import tqdm as notebook_tqdm\n"
     ]
    }
   ],
   "source": [
    "import cvxpy\n",
    "from matplotlib import pyplot as plt\n",
    "import numpy as np\n",
    "from src.components.microgrid_simple import SimpleMicrogrid\n",
    "from src.components.battery import Battery, BatteryParameters\n",
    "from src.rl.a2c.c_mg_simple import set_all_seeds"
   ]
  },
  {
   "cell_type": "markdown",
   "id": "f254f4b2",
   "metadata": {},
   "source": [
    "### Set env vars"
   ]
  },
  {
   "cell_type": "code",
   "execution_count": 2,
   "id": "5e8bfc33",
   "metadata": {},
   "outputs": [],
   "source": [
    "set_all_seeds(0)\n",
    "n = 24\n",
    "\n",
    "# Same env obs as test simple env\n",
    "mg = SimpleMicrogrid(steps=n, min_temp=29, max_temp=31, peak_pv_gen=1, peak_grid_gen=1, peak_load=1, disable_noise=True)\n",
    "demand = mg.demand\n",
    "pv = mg.pv_gen\n",
    "price_s = mg.price\n",
    "emission = mg.emission\n",
    "price_b = price_s / 4"
   ]
  },
  {
   "cell_type": "code",
   "execution_count": 3,
   "id": "93ed3ffd",
   "metadata": {},
   "outputs": [
    {
     "data": {
      "text/plain": [
       "0.8200000000000001"
      ]
     },
     "execution_count": 3,
     "metadata": {},
     "output_type": "execute_result"
    }
   ],
   "source": [
    "battery_params = {\n",
    "    \"soc_0\": 0.1,\n",
    "    \"soc_max\":0.9,\n",
    "    \"soc_min\":0.1,\n",
    "    \"p_charge_max\":0.8,\n",
    "    \"p_discharge_max\":0.8,\n",
    "    \"efficiency\":0.9,\n",
    "    \"capacity\":1,\n",
    "    \"sell_price\":0.0,\n",
    "    \"buy_price\":0.0\n",
    "    \n",
    "}\n",
    "\n",
    "real_battery = Battery(random_soc_0=False, params = BatteryParameters(battery_params))\n",
    "\n",
    "p_charge, p_discharge, _ = real_battery.check_battery_constraints(power_rate=0.8)\n",
    "real_battery.apply_action(p_charge=p_charge, p_discharge=p_discharge)\n",
    "\n",
    "real_battery.soc.item()\n",
    "\n",
    "# battery.reset()"
   ]
  },
  {
   "cell_type": "markdown",
   "id": "20802d69",
   "metadata": {},
   "source": [
    "### Adv battery calc (not working)"
   ]
  },
  {
   "cell_type": "code",
   "execution_count": 10,
   "id": "3f080ddb",
   "metadata": {},
   "outputs": [
    {
     "data": {
      "text/plain": [
       "(1.031089160990395,\n",
       " array([0.1       , 0.35510302, 0.45092906, 0.50774134, 0.56838129,\n",
       "        0.67959444, 0.9       , 0.8086571 , 0.1       , 0.28634816,\n",
       "        0.89236155, 0.58138849, 0.50825121, 0.44613645, 0.21550249,\n",
       "        0.80113181, 0.9       , 0.69301569, 0.20327912, 0.40546626,\n",
       "        0.42948302, 0.3730126 , 0.32421838, 0.24404732, 0.1       ]),\n",
       " array([ 0.25510302,  0.09582604,  0.05681228,  0.06063995,  0.11121315,\n",
       "         0.22040556, -0.0913429 , -0.7086571 ,  0.18634816,  0.60601339,\n",
       "        -0.31097305, -0.07313728, -0.06211477, -0.23063396,  0.58562932,\n",
       "         0.09886819, -0.20698431, -0.48973657,  0.20218715,  0.02401675,\n",
       "        -0.05647042, -0.04879422, -0.08017106, -0.14404732]),\n",
       " array([ 5.10568989e-01,  3.70547220e-01,  3.33186321e-01,  3.35473622e-01,\n",
       "         3.78564927e-01,  6.81282887e-01,  6.45423142e-01,  1.15869241e-12,\n",
       "        -1.13460414e-11, -3.27555693e-11, -9.32041223e-01, -7.79844435e-01,\n",
       "        -7.63900645e-01, -8.41662837e-01, -4.64221443e-11, -1.27288051e-11,\n",
       "        -1.20005076e-12, -5.33433384e-14,  9.95531567e-01,  9.73015321e-01,\n",
       "         7.66748988e-01,  4.42068378e-01,  2.71075632e-01,  1.55967995e-01]),\n",
       " array([0.06, 0.06, 0.06, 0.06, 0.06, 0.06, 0.12, 0.18, 0.26, 0.18, 0.12,\n",
       "        0.12, 0.12, 0.12, 0.18, 0.26, 0.18, 0.12, 0.06, 0.06, 0.06, 0.06,\n",
       "        0.06, 0.06]))"
      ]
     },
     "execution_count": 10,
     "metadata": {},
     "output_type": "execute_result"
    }
   ],
   "source": [
    "set_all_seeds(0)\n",
    "battery = cvxpy.Variable(n+1)\n",
    "action = cvxpy.Variable(n)\n",
    "consumption = cvxpy.Variable(n)\n",
    "\n",
    "constraints = []\n",
    "# Battery\n",
    "    # Starts in 0.1\n",
    "constraints.append(battery[0] == battery_params[\"soc_min\"])\n",
    "    # Max and min batteries\n",
    "for i in range(n+1):\n",
    "    constraints.append(battery[i] <= battery_params[\"soc_max\"])\n",
    "    constraints.append(battery[i] >= battery_params[\"soc_min\"])\n",
    "\n",
    "\n",
    "# Action / Batteryn't\n",
    "# for i in range(n):\n",
    "#     constraints.append(action[i] <= 0.9)\n",
    "#     constraints.append(action[i] >= -0.9)\n",
    "\n",
    "# Transition\n",
    "obj = 0\n",
    "\n",
    "for i in range(n):\n",
    "    # Max and min battery charge \n",
    "    constraints.append(action[i] <= battery_params[\"p_charge_max\"])\n",
    "    constraints.append(action[i] <= battery_params[\"p_discharge_max\"])\n",
    "    # Update battery SOC\n",
    "    # self.soc = self.soc + (p_charge * self.efficiency - p_discharge / self.efficiency) / self.capacity\n",
    "\n",
    "    constraints.append(battery[i+1] == battery[i] + ((action[i] * battery_params[\"efficiency\"])/battery_params[\"efficiency\"])/battery_params[\"capacity\"] )\n",
    "    # Update net \n",
    "    constraints.append(consumption[i] == demand[i]-pv[i] + action[i] * battery_params[\"efficiency\"])\n",
    "\n",
    "\n",
    "    obj += cvxpy.maximum(consumption[i] * (price_s[i] + emission[i]),0) \n",
    "    obj += cvxpy.maximum(-consumption[i] * price_b[i],0)  \n",
    "\n",
    "\n",
    "objective = cvxpy.Minimize(obj)\n",
    "prob = cvxpy.Problem(objective, constraints)\n",
    "res = prob.solve()\n",
    "\n",
    "res, battery.value, action.value, consumption.value, price_s"
   ]
  },
  {
   "cell_type": "markdown",
   "id": "369f149f",
   "metadata": {},
   "source": [
    "### Real dataset"
   ]
  },
  {
   "cell_type": "code",
   "execution_count": 11,
   "id": "a53982ed",
   "metadata": {},
   "outputs": [
    {
     "data": {
      "text/plain": [
       "(1.5289098310943403,\n",
       " array([0.1, 0.1, 0.1, 0.1, 0.1, 0.1, 0.1, 0.1, 0.1, 0.1, 0.1, 0.1, 0.1,\n",
       "        0.1, 0.1, 0.1, 0.1, 0.1, 0.1, 0.1, 0.1, 0.1, 0.1, 0.1, 0.1]),\n",
       " array([ 4.34418145e-12,  4.34754569e-12,  3.15528729e-12,  2.16153858e-12,\n",
       "         1.95456966e-12,  2.39877078e-12,  3.02787391e-12,  3.94100745e-12,\n",
       "         3.60826551e-12,  2.87791336e-12,  2.76885584e-12,  2.41457816e-12,\n",
       "         2.05170996e-12,  1.68823588e-12,  1.24054002e-12,  1.47353772e-12,\n",
       "        -4.36544664e-12, -2.50470417e-12, -1.50923010e-12, -2.27653773e-12,\n",
       "        -3.36145908e-12, -5.44275885e-12, -8.90133694e-12, -1.58494219e-11]))"
      ]
     },
     "execution_count": 11,
     "metadata": {},
     "output_type": "execute_result"
    }
   ],
   "source": [
    "battery = cvxpy.Variable(n+1)\n",
    "action = cvxpy.Variable(n)\n",
    "consumption = cvxpy.Variable(n)\n",
    "\n",
    "constraints = []\n",
    "# Battery\n",
    "    # Starts in 0.1\n",
    "constraints.append(battery[0] == battery_params[\"soc_min\"])\n",
    "    # Max and min batteries\n",
    "for i in range(n+1):\n",
    "    constraints.append(battery[i] <= battery_params[\"soc_max\"])\n",
    "    constraints.append(battery[i] >= battery_params[\"soc_min\"])\n",
    "\n",
    "\n",
    "# Action / Batteryn't\n",
    "\n",
    "for i in range(n):\n",
    "    constraints.append(action[i] <= 1)\n",
    "    constraints.append(action[i] >= -1)\n",
    "\n",
    "\n",
    "# Transition\n",
    "obj = 0\n",
    "\n",
    "for i in range(n):\n",
    "    \n",
    "    constraints.append(action[i] <= battery_params[\"p_charge_max\"])\n",
    "    constraints.append(action[i] <= battery_params[\"p_discharge_max\"])\n",
    "    # Update battery\n",
    "    constraints.append(battery[i+1] == battery[i] + action[i] * battery_params[\"efficiency\"])\n",
    "    # Update net \n",
    "    constraints.append(consumption[i] == demand[i]-pv[i] + action[i] * battery_params[\"efficiency\"])\n",
    "\n",
    "\n",
    "    obj += cvxpy.maximum(consumption[i] * (price_s[i] + emission[i]),0) \n",
    "    obj += cvxpy.maximum(-consumption[i] * price_b[i],0)  \n",
    "\n",
    "\n",
    "objective = cvxpy.Minimize(obj)\n",
    "prob = cvxpy.Problem(objective, constraints)\n",
    "res = prob.solve()\n",
    "\n",
    "res, battery.value, action.value"
   ]
  },
  {
   "cell_type": "markdown",
   "id": "fe4d27c5",
   "metadata": {},
   "source": [
    "### Test Dataset"
   ]
  },
  {
   "cell_type": "code",
   "execution_count": 7,
   "id": "deb67b33",
   "metadata": {},
   "outputs": [],
   "source": [
    "n = 4\n",
    "d = np.random.rand(n)\n",
    "g = np.random.rand(n)*0.5\n",
    "pb = np.random.rand(n)\n",
    "ps = pb/4"
   ]
  },
  {
   "cell_type": "code",
   "execution_count": 8,
   "id": "aa6c6dd9",
   "metadata": {},
   "outputs": [
    {
     "data": {
      "text/plain": [
       "(0.7090152143676689,\n",
       " array([9.62456752e-15, 2.15284679e-11, 3.00000000e-01, 7.52271014e-12,\n",
       "        2.45946399e-13]),\n",
       " array([ 2.15199519e-11,  3.00000000e-01, -3.00000000e-01, -7.27672641e-12]))"
      ]
     },
     "execution_count": 8,
     "metadata": {},
     "output_type": "execute_result"
    }
   ],
   "source": [
    "\n",
    "battery = cvxpy.Variable(n+1)\n",
    "action = cvxpy.Variable(n)\n",
    "consumption = cvxpy.Variable(n)\n",
    "\n",
    "\n",
    "constraints = []\n",
    "for i in range(n+1):\n",
    "    constraints.append(battery[i] <= 1)\n",
    "    constraints.append(battery[i] >= 0)\n",
    "constraints.append(battery[0] == 0)\n",
    "\n",
    "for i in range(n):\n",
    "    constraints.append(action[i] <= .3)\n",
    "    constraints.append(action[i] >= -1)\n",
    "    \n",
    "\n",
    "obj = 0\n",
    "for i in range(n):\n",
    "    constraints.append(battery[i+1] == battery[i] + action[i]  )\n",
    "\n",
    "    constraints.append(consumption[i] == d[i]-g[i] + action[i] )\n",
    "\n",
    "\n",
    "    obj += cvxpy.maximum(consumption[i]* pb[i],0) \n",
    "    obj += cvxpy.maximum(-consumption[i]*ps[i],0)  \n",
    "\n",
    "\n",
    "objective = cvxpy.Minimize(obj)\n",
    "prob = cvxpy.Problem(objective, constraints)\n",
    "res = prob.solve()\n",
    "\n",
    "res, battery.value, action.value"
   ]
  },
  {
   "cell_type": "code",
   "execution_count": 9,
   "id": "86c45c89",
   "metadata": {},
   "outputs": [
    {
     "ename": "IndentationError",
     "evalue": "unexpected indent (812586873.py, line 3)",
     "output_type": "error",
     "traceback": [
      "\u001b[0;36m  Cell \u001b[0;32mIn [9], line 3\u001b[0;36m\u001b[0m\n\u001b[0;31m    constraints = [A * x_hat == y]\u001b[0m\n\u001b[0m    ^\u001b[0m\n\u001b[0;31mIndentationError\u001b[0m\u001b[0;31m:\u001b[0m unexpected indent\n"
     ]
    }
   ],
   "source": [
    "\n",
    "\n",
    "x_hat = cvxpy.Variable(A.shape[1])\n",
    "objective = cvxpy.Minimize(cvxpy.norm(x_hat, 1))\n",
    "    constraints = [A * x_hat == y]\n",
    "    prob = cvxpy.Problem(objective, constraints)\n",
    "    prob.solve()\n",
    "    return np.squeeze(np.array(x_hat.value)), (prob.value, prob.status)"
   ]
  },
  {
   "cell_type": "code",
   "execution_count": null,
   "id": "6e236ff1",
   "metadata": {},
   "outputs": [],
   "source": []
  }
 ],
 "metadata": {
  "kernelspec": {
   "display_name": "Python 3.8.13 ('bcte')",
   "language": "python",
   "name": "python3"
  },
  "language_info": {
   "codemirror_mode": {
    "name": "ipython",
    "version": 3
   },
   "file_extension": ".py",
   "mimetype": "text/x-python",
   "name": "python",
   "nbconvert_exporter": "python",
   "pygments_lexer": "ipython3",
   "version": "3.8.13"
  },
  "vscode": {
   "interpreter": {
    "hash": "4360e16d43ac692103fa28bcc8d0bd7c33534b35175524cb6d3ea499dda18b7b"
   }
  }
 },
 "nbformat": 4,
 "nbformat_minor": 5
}
