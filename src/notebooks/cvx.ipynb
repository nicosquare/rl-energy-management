{
 "cells": [
  {
   "cell_type": "code",
   "execution_count": null,
   "id": "8566b5e9",
   "metadata": {},
   "outputs": [],
   "source": [
    "%load_ext autoreload\n",
    "%autoreload 2\n",
    "import cvxpy\n",
    "from matplotlib import pyplot as plt\n",
    "import numpy as np\n",
    "from src.components.synthetic_house import SyntheticHouse\n",
    "from src.components.synthetic_microgrid import SyntheticMicrogrid\n",
    "from src.environments.simple_microgrid import SimpleMicrogrid\n",
    "from src.rl.a2c.d_simple_microgrid import Agent\n",
    "from src.components.battery import Battery, BatteryParameters\n",
    "from src.utils.tools import set_all_seeds, load_config, plot_metrics"
   ]
  },
  {
   "cell_type": "markdown",
   "id": "7c4c9877",
   "metadata": {},
   "source": [
    "# Microgrid"
   ]
  },
  {
   "cell_type": "markdown",
   "id": "db71568f",
   "metadata": {},
   "source": [
    "## Functions"
   ]
  },
  {
   "cell_type": "code",
   "execution_count": null,
   "id": "947dff61",
   "metadata": {},
   "outputs": [],
   "source": [
    "def solver(house: SyntheticHouse, n: int = 24):\n",
    "\n",
    "    battery = cvxpy.Variable(n+1)\n",
    "    action = cvxpy.Variable(n)\n",
    "    consumption = cvxpy.Variable(n)\n",
    "\n",
    "    constraints = []\n",
    "\n",
    "    # Battery\n",
    "        # Starts in 0.1\n",
    "    constraints.append(battery[0] == house.battery.soc_min)\n",
    "        # Max and min batteries\n",
    "    for i in range(n+1):\n",
    "        constraints.append(battery[i] <= house.battery.soc_max)\n",
    "        constraints.append(battery[i] >= house.battery.soc_min)\n",
    "\n",
    "\n",
    "    # Action / Batteryn't\n",
    "\n",
    "    for i in range(n):\n",
    "        constraints.append(action[i] <= 1)\n",
    "        constraints.append(action[i] >= -1)\n",
    "\n",
    "\n",
    "    # Transition\n",
    "    obj = 0\n",
    "\n",
    "    for i in range(n):\n",
    "        \n",
    "        constraints.append(action[i] <= house.battery.p_charge_max)\n",
    "        constraints.append(action[i] <= house.battery.p_discharge_max)\n",
    "        # Update battery\n",
    "        constraints.append(battery[i+1] == battery[i] + action[i] * house.battery.efficiency)\n",
    "        # Update net \n",
    "        constraints.append(consumption[i] == house.demand[i]-house.pv_gen[i] + action[i] * house.battery.efficiency)\n",
    "\n",
    "\n",
    "        obj += cvxpy.maximum(consumption[i] * (house.price[i] + house.emission[i]),0) \n",
    "        obj += cvxpy.maximum(-consumption[i] * house.price[i] * house.grid_sell_rate,0)  \n",
    "\n",
    "\n",
    "    objective = cvxpy.Minimize(obj)\n",
    "    prob = cvxpy.Problem(objective, constraints)\n",
    "    res = prob.solve()\n",
    "\n",
    "    return res, battery.value, action.value"
   ]
  },
  {
   "cell_type": "code",
   "execution_count": null,
   "id": "44da1023",
   "metadata": {},
   "outputs": [],
   "source": [
    "def get_all_actions(env: SimpleMicrogrid, mode : str = 'train') -> np.ndarray:\n",
    "    # Set mode, train, eval, test\n",
    "    env.mg.change_mode(mode)\n",
    "    state, reward, _, _ = env.reset()\n",
    "\n",
    "    # Create arrays to hold score, battery SOC and Action for all houses\n",
    "    rewards, battery_values, action_values = [],[],[]\n",
    "    \n",
    "    # Same for all houses\n",
    "    for house in env.mg.houses:\n",
    "        reward, batt, action = solver(house)\n",
    "        \n",
    "        rewards.append(reward)\n",
    "        battery_values.append(batt)\n",
    "        action_values.append(action)\n",
    "    rewards = np.array(rewards)\n",
    "    battery_values = np.array(battery_values)\n",
    "    action_values = np.array(action_values)\n",
    "\n",
    "    return rewards, battery_values, action_values"
   ]
  },
  {
   "cell_type": "code",
   "execution_count": null,
   "id": "ee440819",
   "metadata": {},
   "outputs": [],
   "source": [
    "def loop_env(env: SimpleMicrogrid, action_values: np.ndarray, mode : str = 'train') -> np.ndarray:\n",
    "    env.mg.change_mode(mode)\n",
    "\n",
    "    state, reward, done, _ = env.reset()\n",
    "    rewards = []\n",
    "    time_step = 0\n",
    "\n",
    "    # Cycle the entire episode with already computed actions by solver\n",
    "    while not done:\n",
    "        time_step = env.mg.current_step\n",
    "        state,reward,done,_ = env.step(action_values[:,time_step])\n",
    "        time_step += 1\n",
    "        # Save rewards, mean over all batches\n",
    "        rewards.append(reward.mean(axis=1))\n",
    "    # Get the sum over steps and mean from 6 houses\n",
    "    rewards = np.array(rewards).sum(axis=0).mean()\n",
    "    # Calculate Score with actions\n",
    "    return rewards, env.mg.get_houses_metrics() # output price, emissions ]"
   ]
  },
  {
   "cell_type": "markdown",
   "id": "915fcdeb",
   "metadata": {},
   "source": [
    "## Run this"
   ]
  },
  {
   "cell_type": "code",
   "execution_count": null,
   "id": "25dfd6c6",
   "metadata": {},
   "outputs": [],
   "source": [
    "set_all_seeds(0)\n",
    "# create environment,m save array of houses\n",
    "config = load_config(\"d_a2c_mgE1\")\n",
    "config = config['train']\n",
    "env = SimpleMicrogrid(config=config['env'])"
   ]
  },
  {
   "cell_type": "code",
   "execution_count": null,
   "id": "58e7d8a0",
   "metadata": {},
   "outputs": [],
   "source": [
    "set_all_seeds(0)\n",
    "# Train\n",
    "mode = 'train'\n",
    "rewards_t, battery_values, action_values = get_all_actions(env, mode)\n",
    "rewards_t_env, train_metrics = loop_env(env, action_values, mode)\n",
    "print(\"Mean rewards\",rewards_t.mean(), rewards_t_env)\n",
    "print('train ', train_metrics)\n",
    "\n",
    "# Eval\n",
    "mode = 'eval'\n",
    "rewards_e, battery_values, action_values = get_all_actions(env, mode)\n",
    "print(rewards_e.mean())\n",
    "eval_metrics = loop_env(env, action_values, mode)\n",
    "print('eval= ', eval_metrics)\n",
    "\n",
    "# Test\n",
    "mode = 'test'\n",
    "rewards_s, battery_values, action_values = get_all_actions(env, mode)\n",
    "print(rewards_s.mean())\n",
    "test_metrics = loop_env(env, action_values, mode)\n",
    "print('test= ', test_metrics)"
   ]
  },
  {
   "cell_type": "code",
   "execution_count": null,
   "id": "d12b3b54",
   "metadata": {},
   "outputs": [],
   "source": [
    "np.array(train_metrics).mean(axis=1), np.array(eval_metrics).mean(axis=1), np.array(test_metrics).mean(axis=1)"
   ]
  },
  {
   "cell_type": "code",
   "execution_count": null,
   "id": "4860e912",
   "metadata": {},
   "outputs": [],
   "source": [
    "set_all_seeds(0)\n",
    "\n",
    "model = \"d_a2c_mgE1\"\n",
    "config = load_config(model)\n",
    "config = config['train']\n",
    "my_env = SimpleMicrogrid(config=config['env'])\n",
    "\n",
    "agent = Agent(env=my_env, config = config)\n",
    "results_ag = agent.train()\n",
    "results_ag['test'] = agent.test()\n",
    "agent.wdb_logger.finish()"
   ]
  },
  {
   "cell_type": "code",
   "execution_count": null,
   "id": "145e8b80",
   "metadata": {},
   "outputs": [],
   "source": [
    "plot_metrics(metrics=results_ag)"
   ]
  },
  {
   "cell_type": "markdown",
   "id": "0b6c8079",
   "metadata": {},
   "source": [
    "# House"
   ]
  },
  {
   "cell_type": "markdown",
   "id": "f254f4b2",
   "metadata": {},
   "source": [
    "### Set env vars"
   ]
  },
  {
   "cell_type": "code",
   "execution_count": null,
   "id": "5e8bfc33",
   "metadata": {},
   "outputs": [],
   "source": [
    "set_all_seeds(0)\n",
    "\n",
    "# Same env obs as test simple env\n",
    "\n",
    "config = load_config(\"c_a2c\")\n",
    "config = config['train']\n",
    "\n",
    "mg = SyntheticHouse(config=config['env'])\n",
    "demand = mg.demand\n",
    "pv = mg.pv_gen\n",
    "price_s = mg.price\n",
    "emission = mg.emission\n",
    "price_b = price_s / 4"
   ]
  },
  {
   "cell_type": "code",
   "execution_count": null,
   "id": "93ed3ffd",
   "metadata": {},
   "outputs": [],
   "source": [
    "battery_params = {\n",
    "    \"soc_0\": 0.1,\n",
    "    \"soc_max\":0.9,\n",
    "    \"soc_min\":0.1,\n",
    "    \"p_charge_max\":0.8,\n",
    "    \"p_discharge_max\":0.8,\n",
    "    \"efficiency\":0.9,\n",
    "    \"capacity\":1,\n",
    "    \"sell_price\":0.0,\n",
    "    \"buy_price\":0.0\n",
    "    \n",
    "}\n",
    "\n",
    "real_battery = Battery(random_soc_0=False, params = BatteryParameters(battery_params))\n",
    "\n",
    "p_charge, p_discharge, _ = real_battery.check_battery_constraints(power_rate=0.8)\n",
    "real_battery.apply_action(p_charge=p_charge, p_discharge=p_discharge)\n",
    "\n",
    "real_battery.soc.item()\n",
    "\n",
    "# battery.reset()"
   ]
  },
  {
   "cell_type": "markdown",
   "id": "20802d69",
   "metadata": {},
   "source": [
    "### Adv battery calc (not working)"
   ]
  },
  {
   "cell_type": "code",
   "execution_count": null,
   "id": "3f080ddb",
   "metadata": {},
   "outputs": [],
   "source": [
    "set_all_seeds(0)\n",
    "battery = cvxpy.Variable(n+1)\n",
    "action = cvxpy.Variable(n)\n",
    "consumption = cvxpy.Variable(n)\n",
    "\n",
    "constraints = []\n",
    "# Battery\n",
    "    # Starts in 0.1\n",
    "constraints.append(battery[0] == battery_params[\"soc_min\"])\n",
    "    # Max and min batteries\n",
    "for i in range(n+1):\n",
    "    constraints.append(battery[i] <= battery_params[\"soc_max\"])\n",
    "    constraints.append(battery[i] >= battery_params[\"soc_min\"])\n",
    "\n",
    "\n",
    "# Action / Batteryn't\n",
    "# for i in range(n):\n",
    "#     constraints.append(action[i] <= 0.9)\n",
    "#     constraints.append(action[i] >= -0.9)\n",
    "\n",
    "# Transition\n",
    "obj = 0\n",
    "\n",
    "for i in range(n):\n",
    "    # Max and min battery charge \n",
    "    constraints.append(action[i] <= battery_params[\"p_charge_max\"])\n",
    "    constraints.append(action[i] <= battery_params[\"p_discharge_max\"])\n",
    "    # Update battery SOC\n",
    "    # self.soc = self.soc + (p_charge * self.efficiency - p_discharge / self.efficiency) / self.capacity\n",
    "\n",
    "    constraints.append(battery[i+1] == battery[i] + ((action[i] * battery_params[\"efficiency\"])/battery_params[\"efficiency\"])/battery_params[\"capacity\"] )\n",
    "    # Update net \n",
    "    constraints.append(consumption[i] == demand[i]-pv[i] + action[i] * battery_params[\"efficiency\"])\n",
    "\n",
    "\n",
    "    obj += cvxpy.maximum(consumption[i] * (price_s[i] + emission[i]),0) \n",
    "    obj += cvxpy.maximum(-consumption[i] * price_b[i],0)  \n",
    "\n",
    "\n",
    "objective = cvxpy.Minimize(obj)\n",
    "prob = cvxpy.Problem(objective, constraints)\n",
    "res = prob.solve()\n",
    "\n",
    "res, battery.value, action.value, consumption.value, price_s"
   ]
  },
  {
   "cell_type": "markdown",
   "id": "369f149f",
   "metadata": {},
   "source": [
    "### Real dataset"
   ]
  },
  {
   "cell_type": "code",
   "execution_count": null,
   "id": "a53982ed",
   "metadata": {},
   "outputs": [],
   "source": [
    "n = 24\n",
    "\n",
    "battery = cvxpy.Variable(n+1)\n",
    "action = cvxpy.Variable(n)\n",
    "consumption = cvxpy.Variable(n)\n",
    "\n",
    "constraints = []\n",
    "# Battery\n",
    "    # Starts in 0.1\n",
    "constraints.append(battery[0] == battery_params[\"soc_min\"])\n",
    "    # Max and min batteries\n",
    "for i in range(n+1):\n",
    "    constraints.append(battery[i] <= battery_params[\"soc_max\"])\n",
    "    constraints.append(battery[i] >= battery_params[\"soc_min\"])\n",
    "\n",
    "\n",
    "# Action / Batteryn't\n",
    "\n",
    "for i in range(n):\n",
    "    constraints.append(action[i] <= 1)\n",
    "    constraints.append(action[i] >= -1)\n",
    "\n",
    "\n",
    "# Transition\n",
    "obj = 0\n",
    "\n",
    "for i in range(n):\n",
    "    \n",
    "    constraints.append(action[i] <= battery_params[\"p_charge_max\"])\n",
    "    constraints.append(action[i] <= battery_params[\"p_discharge_max\"])\n",
    "    # Update battery\n",
    "    constraints.append(battery[i+1] == battery[i] + action[i] * battery_params[\"efficiency\"])\n",
    "    # Update net \n",
    "    constraints.append(consumption[i] == demand[i]-pv[i] + action[i] * battery_params[\"efficiency\"])\n",
    "\n",
    "\n",
    "    obj += cvxpy.maximum(consumption[i] * (price_s[i] + emission[i]),0) \n",
    "    obj += cvxpy.maximum(-consumption[i] * price_b[i],0)  \n",
    "\n",
    "\n",
    "objective = cvxpy.Minimize(obj)\n",
    "prob = cvxpy.Problem(objective, constraints)\n",
    "res = prob.solve()\n",
    "\n",
    "res, battery.value, action.value"
   ]
  },
  {
   "cell_type": "markdown",
   "id": "fe4d27c5",
   "metadata": {},
   "source": [
    "### Test Dataset"
   ]
  },
  {
   "cell_type": "code",
   "execution_count": null,
   "id": "deb67b33",
   "metadata": {},
   "outputs": [],
   "source": [
    "n = 4\n",
    "d = np.random.rand(n)\n",
    "g = np.random.rand(n)*0.5\n",
    "pb = np.random.rand(n)\n",
    "ps = pb/4"
   ]
  },
  {
   "cell_type": "code",
   "execution_count": null,
   "id": "aa6c6dd9",
   "metadata": {},
   "outputs": [],
   "source": [
    "\n",
    "battery = cvxpy.Variable(n+1)\n",
    "action = cvxpy.Variable(n)\n",
    "consumption = cvxpy.Variable(n)\n",
    "\n",
    "\n",
    "constraints = []\n",
    "for i in range(n+1):\n",
    "    constraints.append(battery[i] <= 1)\n",
    "    constraints.append(battery[i] >= 0)\n",
    "constraints.append(battery[0] == 0)\n",
    "\n",
    "for i in range(n):\n",
    "    constraints.append(action[i] <= .3)\n",
    "    constraints.append(action[i] >= -1)\n",
    "    \n",
    "\n",
    "obj = 0\n",
    "for i in range(n):\n",
    "    constraints.append(battery[i+1] == battery[i] + action[i]  )\n",
    "\n",
    "    constraints.append(consumption[i] == d[i]-g[i] + action[i] )\n",
    "\n",
    "\n",
    "    obj += cvxpy.maximum(consumption[i]* pb[i],0) \n",
    "    obj += cvxpy.maximum(-consumption[i]*ps[i],0)  \n",
    "\n",
    "\n",
    "objective = cvxpy.Minimize(obj)\n",
    "prob = cvxpy.Problem(objective, constraints)\n",
    "res = prob.solve()\n",
    "\n",
    "res, battery.value, action.value"
   ]
  }
 ],
 "metadata": {
  "kernelspec": {
   "display_name": "bcte",
   "language": "python",
   "name": "python3"
  },
  "language_info": {
   "codemirror_mode": {
    "name": "ipython",
    "version": 3
   },
   "file_extension": ".py",
   "mimetype": "text/x-python",
   "name": "python",
   "nbconvert_exporter": "python",
   "pygments_lexer": "ipython3",
   "version": "3.8.16"
  },
  "vscode": {
   "interpreter": {
    "hash": "1827cf66144a2c1f348066c2a856561a82b18ee5003c9c48b938b073ad04e659"
   }
  }
 },
 "nbformat": 4,
 "nbformat_minor": 5
}
