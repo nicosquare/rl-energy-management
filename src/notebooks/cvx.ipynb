{
 "cells": [
  {
   "cell_type": "code",
   "execution_count": 34,
   "id": "8566b5e9",
   "metadata": {},
   "outputs": [],
   "source": [
    "import cvxpy\n",
    "from matplotlib import pyplot as plt\n",
    "import numpy as np\n",
    "from src.components.microgrid_simple import SimpleMicrogrid\n",
    "from src.components.battery import Battery, BatteryParameters\n",
    "from src.rl.a2c.c_mg_simple import set_all_seeds"
   ]
  },
  {
   "cell_type": "code",
   "execution_count": 35,
   "id": "f6f98a49",
   "metadata": {},
   "outputs": [],
   "source": [
    "set_all_seeds(0)"
   ]
  },
  {
   "cell_type": "markdown",
   "id": "f254f4b2",
   "metadata": {},
   "source": [
    "### Set env vars"
   ]
  },
  {
   "cell_type": "code",
   "execution_count": 41,
   "id": "5e8bfc33",
   "metadata": {},
   "outputs": [],
   "source": [
    "n = 24\n",
    "\n",
    "mg = SimpleMicrogrid(steps=n)\n",
    "# base_demand, demand = mg.demand_family(min_noise=0, max_noise=0)\n",
    "base_demand, demand = mg.demand_home_business(min_noise=0, max_noise=0)\n",
    "base_pv, pv = mg.pv_generation(min_noise=0, max_noise=0)\n",
    "_, _, _, price_s, emission = mg.grid_price_and_emission()\n",
    "\n",
    "price_b = price_s / 4"
   ]
  },
  {
   "cell_type": "code",
   "execution_count": 42,
   "id": "93ed3ffd",
   "metadata": {},
   "outputs": [
    {
     "data": {
      "text/plain": [
       "0.7200000000000001"
      ]
     },
     "execution_count": 42,
     "metadata": {},
     "output_type": "execute_result"
    }
   ],
   "source": [
    "battery_params = {\n",
    "    \"soc_0\": 0.1,\n",
    "    \"soc_max\":0.9,\n",
    "    \"soc_min\":0.1,\n",
    "    \"p_charge_max\":0.8,\n",
    "    \"p_discharge_max\":0.8,\n",
    "    \"efficiency\":0.9,\n",
    "    \"capacity\":1,\n",
    "    \"sell_price\":0.0,\n",
    "    \"buy_price\":0.0\n",
    "}\n",
    "\n",
    "real_battery = Battery(random_soc_0=False, params = BatteryParameters(battery_params))\n",
    "\n",
    "p_charge, p_discharge, _ = real_battery.check_battery_constraints(power_rate=0.8)\n",
    "real_battery.apply_action(p_charge=p_charge, p_discharge=p_discharge)\n",
    "\n",
    "real_battery.soc.item()\n",
    "\n",
    "# battery.reset()"
   ]
  },
  {
   "cell_type": "markdown",
   "id": "20802d69",
   "metadata": {},
   "source": [
    "### Adv battery calc (not working)"
   ]
  },
  {
   "cell_type": "code",
   "execution_count": 57,
   "id": "4e3fc2c6",
   "metadata": {},
   "outputs": [
    {
     "ename": "DCPError",
     "evalue": "Problem does not follow DCP rules. Specifically:\nThe following constraints are not DCP:\n0.0 <= maximum((0.9 + -var62552[0] @ 1.0) / 0.9, 0.0) , because the following subexpressions are not:\n|--  0.0 <= maximum((0.9 + -var62552[0] @ 1.0) / 0.9, 0.0)\n0.0 <= maximum((var62552[0] @ 1.0 + -0.1) / 0.9, 0.0) , because the following subexpressions are not:\n|--  0.0 <= maximum((var62552[0] @ 1.0 + -0.1) / 0.9, 0.0)\n0.0 <= maximum((0.9 + -var62552[1] @ 1.0) / 0.9, 0.0) , because the following subexpressions are not:\n|--  0.0 <= maximum((0.9 + -var62552[1] @ 1.0) / 0.9, 0.0)\n0.0 <= maximum((var62552[1] @ 1.0 + -0.1) / 0.9, 0.0) , because the following subexpressions are not:\n|--  0.0 <= maximum((var62552[1] @ 1.0 + -0.1) / 0.9, 0.0)\n0.0 <= maximum((0.9 + -var62552[2] @ 1.0) / 0.9, 0.0) , because the following subexpressions are not:\n|--  0.0 <= maximum((0.9 + -var62552[2] @ 1.0) / 0.9, 0.0)\n0.0 <= maximum((var62552[2] @ 1.0 + -0.1) / 0.9, 0.0) , because the following subexpressions are not:\n|--  0.0 <= maximum((var62552[2] @ 1.0 + -0.1) / 0.9, 0.0)\n0.0 <= maximum((0.9 + -var62552[3] @ 1.0) / 0.9, 0.0) , because the following subexpressions are not:\n|--  0.0 <= maximum((0.9 + -var62552[3] @ 1.0) / 0.9, 0.0)\n0.0 <= maximum((var62552[3] @ 1.0 + -0.1) / 0.9, 0.0) , because the following subexpressions are not:\n|--  0.0 <= maximum((var62552[3] @ 1.0 + -0.1) / 0.9, 0.0)\n0.0 <= maximum((0.9 + -var62552[4] @ 1.0) / 0.9, 0.0) , because the following subexpressions are not:\n|--  0.0 <= maximum((0.9 + -var62552[4] @ 1.0) / 0.9, 0.0)\n0.0 <= maximum((var62552[4] @ 1.0 + -0.1) / 0.9, 0.0) , because the following subexpressions are not:\n|--  0.0 <= maximum((var62552[4] @ 1.0 + -0.1) / 0.9, 0.0)\n0.0 <= maximum((0.9 + -var62552[5] @ 1.0) / 0.9, 0.0) , because the following subexpressions are not:\n|--  0.0 <= maximum((0.9 + -var62552[5] @ 1.0) / 0.9, 0.0)\n0.0 <= maximum((var62552[5] @ 1.0 + -0.1) / 0.9, 0.0) , because the following subexpressions are not:\n|--  0.0 <= maximum((var62552[5] @ 1.0 + -0.1) / 0.9, 0.0)\n0.0 <= maximum((0.9 + -var62552[6] @ 1.0) / 0.9, 0.0) , because the following subexpressions are not:\n|--  0.0 <= maximum((0.9 + -var62552[6] @ 1.0) / 0.9, 0.0)\n0.0 <= maximum((var62552[6] @ 1.0 + -0.1) / 0.9, 0.0) , because the following subexpressions are not:\n|--  0.0 <= maximum((var62552[6] @ 1.0 + -0.1) / 0.9, 0.0)\n0.0 <= maximum((0.9 + -var62552[7] @ 1.0) / 0.9, 0.0) , because the following subexpressions are not:\n|--  0.0 <= maximum((0.9 + -var62552[7] @ 1.0) / 0.9, 0.0)\n0.0 <= maximum((var62552[7] @ 1.0 + -0.1) / 0.9, 0.0) , because the following subexpressions are not:\n|--  0.0 <= maximum((var62552[7] @ 1.0 + -0.1) / 0.9, 0.0)\n0.0 <= maximum((0.9 + -var62552[8] @ 1.0) / 0.9, 0.0) , because the following subexpressions are not:\n|--  0.0 <= maximum((0.9 + -var62552[8] @ 1.0) / 0.9, 0.0)\n0.0 <= maximum((var62552[8] @ 1.0 + -0.1) / 0.9, 0.0) , because the following subexpressions are not:\n|--  0.0 <= maximum((var62552[8] @ 1.0 + -0.1) / 0.9, 0.0)\n0.0 <= maximum((0.9 + -var62552[9] @ 1.0) / 0.9, 0.0) , because the following subexpressions are not:\n|--  0.0 <= maximum((0.9 + -var62552[9] @ 1.0) / 0.9, 0.0)\n0.0 <= maximum((var62552[9] @ 1.0 + -0.1) / 0.9, 0.0) , because the following subexpressions are not:\n|--  0.0 <= maximum((var62552[9] @ 1.0 + -0.1) / 0.9, 0.0)\n0.0 <= maximum((0.9 + -var62552[10] @ 1.0) / 0.9, 0.0) , because the following subexpressions are not:\n|--  0.0 <= maximum((0.9 + -var62552[10] @ 1.0) / 0.9, 0.0)\n0.0 <= maximum((var62552[10] @ 1.0 + -0.1) / 0.9, 0.0) , because the following subexpressions are not:\n|--  0.0 <= maximum((var62552[10] @ 1.0 + -0.1) / 0.9, 0.0)\n0.0 <= maximum((0.9 + -var62552[11] @ 1.0) / 0.9, 0.0) , because the following subexpressions are not:\n|--  0.0 <= maximum((0.9 + -var62552[11] @ 1.0) / 0.9, 0.0)\n0.0 <= maximum((var62552[11] @ 1.0 + -0.1) / 0.9, 0.0) , because the following subexpressions are not:\n|--  0.0 <= maximum((var62552[11] @ 1.0 + -0.1) / 0.9, 0.0)\n0.0 <= maximum((0.9 + -var62552[12] @ 1.0) / 0.9, 0.0) , because the following subexpressions are not:\n|--  0.0 <= maximum((0.9 + -var62552[12] @ 1.0) / 0.9, 0.0)\n0.0 <= maximum((var62552[12] @ 1.0 + -0.1) / 0.9, 0.0) , because the following subexpressions are not:\n|--  0.0 <= maximum((var62552[12] @ 1.0 + -0.1) / 0.9, 0.0)\n0.0 <= maximum((0.9 + -var62552[13] @ 1.0) / 0.9, 0.0) , because the following subexpressions are not:\n|--  0.0 <= maximum((0.9 + -var62552[13] @ 1.0) / 0.9, 0.0)\n0.0 <= maximum((var62552[13] @ 1.0 + -0.1) / 0.9, 0.0) , because the following subexpressions are not:\n|--  0.0 <= maximum((var62552[13] @ 1.0 + -0.1) / 0.9, 0.0)\n0.0 <= maximum((0.9 + -var62552[14] @ 1.0) / 0.9, 0.0) , because the following subexpressions are not:\n|--  0.0 <= maximum((0.9 + -var62552[14] @ 1.0) / 0.9, 0.0)\n0.0 <= maximum((var62552[14] @ 1.0 + -0.1) / 0.9, 0.0) , because the following subexpressions are not:\n|--  0.0 <= maximum((var62552[14] @ 1.0 + -0.1) / 0.9, 0.0)\n0.0 <= maximum((0.9 + -var62552[15] @ 1.0) / 0.9, 0.0) , because the following subexpressions are not:\n|--  0.0 <= maximum((0.9 + -var62552[15] @ 1.0) / 0.9, 0.0)\n0.0 <= maximum((var62552[15] @ 1.0 + -0.1) / 0.9, 0.0) , because the following subexpressions are not:\n|--  0.0 <= maximum((var62552[15] @ 1.0 + -0.1) / 0.9, 0.0)\n0.0 <= maximum((0.9 + -var62552[16] @ 1.0) / 0.9, 0.0) , because the following subexpressions are not:\n|--  0.0 <= maximum((0.9 + -var62552[16] @ 1.0) / 0.9, 0.0)\n0.0 <= maximum((var62552[16] @ 1.0 + -0.1) / 0.9, 0.0) , because the following subexpressions are not:\n|--  0.0 <= maximum((var62552[16] @ 1.0 + -0.1) / 0.9, 0.0)\n0.0 <= maximum((0.9 + -var62552[17] @ 1.0) / 0.9, 0.0) , because the following subexpressions are not:\n|--  0.0 <= maximum((0.9 + -var62552[17] @ 1.0) / 0.9, 0.0)\n0.0 <= maximum((var62552[17] @ 1.0 + -0.1) / 0.9, 0.0) , because the following subexpressions are not:\n|--  0.0 <= maximum((var62552[17] @ 1.0 + -0.1) / 0.9, 0.0)\n0.0 <= maximum((0.9 + -var62552[18] @ 1.0) / 0.9, 0.0) , because the following subexpressions are not:\n|--  0.0 <= maximum((0.9 + -var62552[18] @ 1.0) / 0.9, 0.0)\n0.0 <= maximum((var62552[18] @ 1.0 + -0.1) / 0.9, 0.0) , because the following subexpressions are not:\n|--  0.0 <= maximum((var62552[18] @ 1.0 + -0.1) / 0.9, 0.0)\n0.0 <= maximum((0.9 + -var62552[19] @ 1.0) / 0.9, 0.0) , because the following subexpressions are not:\n|--  0.0 <= maximum((0.9 + -var62552[19] @ 1.0) / 0.9, 0.0)\n0.0 <= maximum((var62552[19] @ 1.0 + -0.1) / 0.9, 0.0) , because the following subexpressions are not:\n|--  0.0 <= maximum((var62552[19] @ 1.0 + -0.1) / 0.9, 0.0)\n0.0 <= maximum((0.9 + -var62552[20] @ 1.0) / 0.9, 0.0) , because the following subexpressions are not:\n|--  0.0 <= maximum((0.9 + -var62552[20] @ 1.0) / 0.9, 0.0)\n0.0 <= maximum((var62552[20] @ 1.0 + -0.1) / 0.9, 0.0) , because the following subexpressions are not:\n|--  0.0 <= maximum((var62552[20] @ 1.0 + -0.1) / 0.9, 0.0)\n0.0 <= maximum((0.9 + -var62552[21] @ 1.0) / 0.9, 0.0) , because the following subexpressions are not:\n|--  0.0 <= maximum((0.9 + -var62552[21] @ 1.0) / 0.9, 0.0)\n0.0 <= maximum((var62552[21] @ 1.0 + -0.1) / 0.9, 0.0) , because the following subexpressions are not:\n|--  0.0 <= maximum((var62552[21] @ 1.0 + -0.1) / 0.9, 0.0)\n0.0 <= maximum((0.9 + -var62552[22] @ 1.0) / 0.9, 0.0) , because the following subexpressions are not:\n|--  0.0 <= maximum((0.9 + -var62552[22] @ 1.0) / 0.9, 0.0)\n0.0 <= maximum((var62552[22] @ 1.0 + -0.1) / 0.9, 0.0) , because the following subexpressions are not:\n|--  0.0 <= maximum((var62552[22] @ 1.0 + -0.1) / 0.9, 0.0)\n0.0 <= maximum((0.9 + -var62552[23] @ 1.0) / 0.9, 0.0) , because the following subexpressions are not:\n|--  0.0 <= maximum((0.9 + -var62552[23] @ 1.0) / 0.9, 0.0)\n0.0 <= maximum((var62552[23] @ 1.0 + -0.1) / 0.9, 0.0) , because the following subexpressions are not:\n|--  0.0 <= maximum((var62552[23] @ 1.0 + -0.1) / 0.9, 0.0)\nHowever, the problem does follow DQCP rules. Consider calling solve() with `qcp=True`.",
     "output_type": "error",
     "traceback": [
      "\u001b[0;31m---------------------------------------------------------------------------\u001b[0m",
      "\u001b[0;31mDCPError\u001b[0m                                  Traceback (most recent call last)",
      "Cell \u001b[0;32mIn [57], line 61\u001b[0m\n\u001b[1;32m     59\u001b[0m objective \u001b[39m=\u001b[39m cvxpy\u001b[39m.\u001b[39mMinimize(obj)\n\u001b[1;32m     60\u001b[0m prob \u001b[39m=\u001b[39m cvxpy\u001b[39m.\u001b[39mProblem(objective, constraints)\n\u001b[0;32m---> 61\u001b[0m res \u001b[39m=\u001b[39m prob\u001b[39m.\u001b[39;49msolve()\n\u001b[1;32m     63\u001b[0m res, battery\u001b[39m.\u001b[39mvalue, action\u001b[39m.\u001b[39mvalue\n",
      "File \u001b[0;32m~/miniforge3/envs/bcte/lib/python3.8/site-packages/cvxpy/problems/problem.py:481\u001b[0m, in \u001b[0;36mProblem.solve\u001b[0;34m(self, *args, **kwargs)\u001b[0m\n\u001b[1;32m    479\u001b[0m \u001b[39melse\u001b[39;00m:\n\u001b[1;32m    480\u001b[0m     solve_func \u001b[39m=\u001b[39m Problem\u001b[39m.\u001b[39m_solve\n\u001b[0;32m--> 481\u001b[0m \u001b[39mreturn\u001b[39;00m solve_func(\u001b[39mself\u001b[39;49m, \u001b[39m*\u001b[39;49margs, \u001b[39m*\u001b[39;49m\u001b[39m*\u001b[39;49mkwargs)\n",
      "File \u001b[0;32m~/miniforge3/envs/bcte/lib/python3.8/site-packages/cvxpy/problems/problem.py:1007\u001b[0m, in \u001b[0;36mProblem._solve\u001b[0;34m(self, solver, warm_start, verbose, gp, qcp, requires_grad, enforce_dpp, ignore_dpp, **kwargs)\u001b[0m\n\u001b[1;32m   1004\u001b[0m         \u001b[39mself\u001b[39m\u001b[39m.\u001b[39munpack(chain\u001b[39m.\u001b[39mretrieve(soln))\n\u001b[1;32m   1005\u001b[0m         \u001b[39mreturn\u001b[39;00m \u001b[39mself\u001b[39m\u001b[39m.\u001b[39mvalue\n\u001b[0;32m-> 1007\u001b[0m data, solving_chain, inverse_data \u001b[39m=\u001b[39m \u001b[39mself\u001b[39;49m\u001b[39m.\u001b[39;49mget_problem_data(\n\u001b[1;32m   1008\u001b[0m     solver, gp, enforce_dpp, ignore_dpp, verbose)\n\u001b[1;32m   1010\u001b[0m \u001b[39mif\u001b[39;00m verbose:\n\u001b[1;32m   1011\u001b[0m     \u001b[39mprint\u001b[39m(_NUM_SOLVER_STR)\n",
      "File \u001b[0;32m~/miniforge3/envs/bcte/lib/python3.8/site-packages/cvxpy/problems/problem.py:607\u001b[0m, in \u001b[0;36mProblem.get_problem_data\u001b[0;34m(self, solver, gp, enforce_dpp, ignore_dpp, verbose)\u001b[0m\n\u001b[1;32m    605\u001b[0m \u001b[39mif\u001b[39;00m key \u001b[39m!=\u001b[39m \u001b[39mself\u001b[39m\u001b[39m.\u001b[39m_cache\u001b[39m.\u001b[39mkey:\n\u001b[1;32m    606\u001b[0m     \u001b[39mself\u001b[39m\u001b[39m.\u001b[39m_cache\u001b[39m.\u001b[39minvalidate()\n\u001b[0;32m--> 607\u001b[0m     solving_chain \u001b[39m=\u001b[39m \u001b[39mself\u001b[39;49m\u001b[39m.\u001b[39;49m_construct_chain(\n\u001b[1;32m    608\u001b[0m         solver\u001b[39m=\u001b[39;49msolver, gp\u001b[39m=\u001b[39;49mgp,\n\u001b[1;32m    609\u001b[0m         enforce_dpp\u001b[39m=\u001b[39;49menforce_dpp,\n\u001b[1;32m    610\u001b[0m         ignore_dpp\u001b[39m=\u001b[39;49mignore_dpp)\n\u001b[1;32m    611\u001b[0m     \u001b[39mself\u001b[39m\u001b[39m.\u001b[39m_cache\u001b[39m.\u001b[39mkey \u001b[39m=\u001b[39m key\n\u001b[1;32m    612\u001b[0m     \u001b[39mself\u001b[39m\u001b[39m.\u001b[39m_cache\u001b[39m.\u001b[39msolving_chain \u001b[39m=\u001b[39m solving_chain\n",
      "File \u001b[0;32m~/miniforge3/envs/bcte/lib/python3.8/site-packages/cvxpy/problems/problem.py:845\u001b[0m, in \u001b[0;36mProblem._construct_chain\u001b[0;34m(self, solver, gp, enforce_dpp, ignore_dpp)\u001b[0m\n\u001b[1;32m    843\u001b[0m candidate_solvers \u001b[39m=\u001b[39m \u001b[39mself\u001b[39m\u001b[39m.\u001b[39m_find_candidate_solvers(solver\u001b[39m=\u001b[39msolver, gp\u001b[39m=\u001b[39mgp)\n\u001b[1;32m    844\u001b[0m \u001b[39mself\u001b[39m\u001b[39m.\u001b[39m_sort_candidate_solvers(candidate_solvers)\n\u001b[0;32m--> 845\u001b[0m \u001b[39mreturn\u001b[39;00m construct_solving_chain(\u001b[39mself\u001b[39;49m, candidate_solvers, gp\u001b[39m=\u001b[39;49mgp,\n\u001b[1;32m    846\u001b[0m                                enforce_dpp\u001b[39m=\u001b[39;49menforce_dpp,\n\u001b[1;32m    847\u001b[0m                                ignore_dpp\u001b[39m=\u001b[39;49mignore_dpp)\n",
      "File \u001b[0;32m~/miniforge3/envs/bcte/lib/python3.8/site-packages/cvxpy/reductions/solvers/solving_chain.py:162\u001b[0m, in \u001b[0;36mconstruct_solving_chain\u001b[0;34m(problem, candidates, gp, enforce_dpp, ignore_dpp)\u001b[0m\n\u001b[1;32m    160\u001b[0m \u001b[39mif\u001b[39;00m \u001b[39mlen\u001b[39m(problem\u001b[39m.\u001b[39mvariables()) \u001b[39m==\u001b[39m \u001b[39m0\u001b[39m:\n\u001b[1;32m    161\u001b[0m     \u001b[39mreturn\u001b[39;00m SolvingChain(reductions\u001b[39m=\u001b[39m[ConstantSolver()])\n\u001b[0;32m--> 162\u001b[0m reductions \u001b[39m=\u001b[39m _reductions_for_problem_class(problem, candidates, gp)\n\u001b[1;32m    164\u001b[0m \u001b[39m# Process DPP status of the problem.\u001b[39;00m\n\u001b[1;32m    165\u001b[0m dpp_context \u001b[39m=\u001b[39m \u001b[39m'\u001b[39m\u001b[39mdcp\u001b[39m\u001b[39m'\u001b[39m \u001b[39mif\u001b[39;00m \u001b[39mnot\u001b[39;00m gp \u001b[39melse\u001b[39;00m \u001b[39m'\u001b[39m\u001b[39mdgp\u001b[39m\u001b[39m'\u001b[39m\n",
      "File \u001b[0;32m~/miniforge3/envs/bcte/lib/python3.8/site-packages/cvxpy/reductions/solvers/solving_chain.py:94\u001b[0m, in \u001b[0;36m_reductions_for_problem_class\u001b[0;34m(problem, candidates, gp)\u001b[0m\n\u001b[1;32m     91\u001b[0m     \u001b[39melif\u001b[39;00m problem\u001b[39m.\u001b[39mis_dqcp():\n\u001b[1;32m     92\u001b[0m         append \u001b[39m+\u001b[39m\u001b[39m=\u001b[39m (\u001b[39m\"\u001b[39m\u001b[39m\\n\u001b[39;00m\u001b[39mHowever, the problem does follow DQCP rules. \u001b[39m\u001b[39m\"\u001b[39m\n\u001b[1;32m     93\u001b[0m                    \u001b[39m\"\u001b[39m\u001b[39mConsider calling solve() with `qcp=True`.\u001b[39m\u001b[39m\"\u001b[39m)\n\u001b[0;32m---> 94\u001b[0m     \u001b[39mraise\u001b[39;00m DCPError(\n\u001b[1;32m     95\u001b[0m         \u001b[39m\"\u001b[39m\u001b[39mProblem does not follow DCP rules. Specifically:\u001b[39m\u001b[39m\\n\u001b[39;00m\u001b[39m\"\u001b[39m \u001b[39m+\u001b[39m append)\n\u001b[1;32m     96\u001b[0m \u001b[39melif\u001b[39;00m gp \u001b[39mand\u001b[39;00m \u001b[39mnot\u001b[39;00m problem\u001b[39m.\u001b[39mis_dgp():\n\u001b[1;32m     97\u001b[0m     append \u001b[39m=\u001b[39m build_non_disciplined_error_msg(problem, \u001b[39m'\u001b[39m\u001b[39mDGP\u001b[39m\u001b[39m'\u001b[39m)\n",
      "\u001b[0;31mDCPError\u001b[0m: Problem does not follow DCP rules. Specifically:\nThe following constraints are not DCP:\n0.0 <= maximum((0.9 + -var62552[0] @ 1.0) / 0.9, 0.0) , because the following subexpressions are not:\n|--  0.0 <= maximum((0.9 + -var62552[0] @ 1.0) / 0.9, 0.0)\n0.0 <= maximum((var62552[0] @ 1.0 + -0.1) / 0.9, 0.0) , because the following subexpressions are not:\n|--  0.0 <= maximum((var62552[0] @ 1.0 + -0.1) / 0.9, 0.0)\n0.0 <= maximum((0.9 + -var62552[1] @ 1.0) / 0.9, 0.0) , because the following subexpressions are not:\n|--  0.0 <= maximum((0.9 + -var62552[1] @ 1.0) / 0.9, 0.0)\n0.0 <= maximum((var62552[1] @ 1.0 + -0.1) / 0.9, 0.0) , because the following subexpressions are not:\n|--  0.0 <= maximum((var62552[1] @ 1.0 + -0.1) / 0.9, 0.0)\n0.0 <= maximum((0.9 + -var62552[2] @ 1.0) / 0.9, 0.0) , because the following subexpressions are not:\n|--  0.0 <= maximum((0.9 + -var62552[2] @ 1.0) / 0.9, 0.0)\n0.0 <= maximum((var62552[2] @ 1.0 + -0.1) / 0.9, 0.0) , because the following subexpressions are not:\n|--  0.0 <= maximum((var62552[2] @ 1.0 + -0.1) / 0.9, 0.0)\n0.0 <= maximum((0.9 + -var62552[3] @ 1.0) / 0.9, 0.0) , because the following subexpressions are not:\n|--  0.0 <= maximum((0.9 + -var62552[3] @ 1.0) / 0.9, 0.0)\n0.0 <= maximum((var62552[3] @ 1.0 + -0.1) / 0.9, 0.0) , because the following subexpressions are not:\n|--  0.0 <= maximum((var62552[3] @ 1.0 + -0.1) / 0.9, 0.0)\n0.0 <= maximum((0.9 + -var62552[4] @ 1.0) / 0.9, 0.0) , because the following subexpressions are not:\n|--  0.0 <= maximum((0.9 + -var62552[4] @ 1.0) / 0.9, 0.0)\n0.0 <= maximum((var62552[4] @ 1.0 + -0.1) / 0.9, 0.0) , because the following subexpressions are not:\n|--  0.0 <= maximum((var62552[4] @ 1.0 + -0.1) / 0.9, 0.0)\n0.0 <= maximum((0.9 + -var62552[5] @ 1.0) / 0.9, 0.0) , because the following subexpressions are not:\n|--  0.0 <= maximum((0.9 + -var62552[5] @ 1.0) / 0.9, 0.0)\n0.0 <= maximum((var62552[5] @ 1.0 + -0.1) / 0.9, 0.0) , because the following subexpressions are not:\n|--  0.0 <= maximum((var62552[5] @ 1.0 + -0.1) / 0.9, 0.0)\n0.0 <= maximum((0.9 + -var62552[6] @ 1.0) / 0.9, 0.0) , because the following subexpressions are not:\n|--  0.0 <= maximum((0.9 + -var62552[6] @ 1.0) / 0.9, 0.0)\n0.0 <= maximum((var62552[6] @ 1.0 + -0.1) / 0.9, 0.0) , because the following subexpressions are not:\n|--  0.0 <= maximum((var62552[6] @ 1.0 + -0.1) / 0.9, 0.0)\n0.0 <= maximum((0.9 + -var62552[7] @ 1.0) / 0.9, 0.0) , because the following subexpressions are not:\n|--  0.0 <= maximum((0.9 + -var62552[7] @ 1.0) / 0.9, 0.0)\n0.0 <= maximum((var62552[7] @ 1.0 + -0.1) / 0.9, 0.0) , because the following subexpressions are not:\n|--  0.0 <= maximum((var62552[7] @ 1.0 + -0.1) / 0.9, 0.0)\n0.0 <= maximum((0.9 + -var62552[8] @ 1.0) / 0.9, 0.0) , because the following subexpressions are not:\n|--  0.0 <= maximum((0.9 + -var62552[8] @ 1.0) / 0.9, 0.0)\n0.0 <= maximum((var62552[8] @ 1.0 + -0.1) / 0.9, 0.0) , because the following subexpressions are not:\n|--  0.0 <= maximum((var62552[8] @ 1.0 + -0.1) / 0.9, 0.0)\n0.0 <= maximum((0.9 + -var62552[9] @ 1.0) / 0.9, 0.0) , because the following subexpressions are not:\n|--  0.0 <= maximum((0.9 + -var62552[9] @ 1.0) / 0.9, 0.0)\n0.0 <= maximum((var62552[9] @ 1.0 + -0.1) / 0.9, 0.0) , because the following subexpressions are not:\n|--  0.0 <= maximum((var62552[9] @ 1.0 + -0.1) / 0.9, 0.0)\n0.0 <= maximum((0.9 + -var62552[10] @ 1.0) / 0.9, 0.0) , because the following subexpressions are not:\n|--  0.0 <= maximum((0.9 + -var62552[10] @ 1.0) / 0.9, 0.0)\n0.0 <= maximum((var62552[10] @ 1.0 + -0.1) / 0.9, 0.0) , because the following subexpressions are not:\n|--  0.0 <= maximum((var62552[10] @ 1.0 + -0.1) / 0.9, 0.0)\n0.0 <= maximum((0.9 + -var62552[11] @ 1.0) / 0.9, 0.0) , because the following subexpressions are not:\n|--  0.0 <= maximum((0.9 + -var62552[11] @ 1.0) / 0.9, 0.0)\n0.0 <= maximum((var62552[11] @ 1.0 + -0.1) / 0.9, 0.0) , because the following subexpressions are not:\n|--  0.0 <= maximum((var62552[11] @ 1.0 + -0.1) / 0.9, 0.0)\n0.0 <= maximum((0.9 + -var62552[12] @ 1.0) / 0.9, 0.0) , because the following subexpressions are not:\n|--  0.0 <= maximum((0.9 + -var62552[12] @ 1.0) / 0.9, 0.0)\n0.0 <= maximum((var62552[12] @ 1.0 + -0.1) / 0.9, 0.0) , because the following subexpressions are not:\n|--  0.0 <= maximum((var62552[12] @ 1.0 + -0.1) / 0.9, 0.0)\n0.0 <= maximum((0.9 + -var62552[13] @ 1.0) / 0.9, 0.0) , because the following subexpressions are not:\n|--  0.0 <= maximum((0.9 + -var62552[13] @ 1.0) / 0.9, 0.0)\n0.0 <= maximum((var62552[13] @ 1.0 + -0.1) / 0.9, 0.0) , because the following subexpressions are not:\n|--  0.0 <= maximum((var62552[13] @ 1.0 + -0.1) / 0.9, 0.0)\n0.0 <= maximum((0.9 + -var62552[14] @ 1.0) / 0.9, 0.0) , because the following subexpressions are not:\n|--  0.0 <= maximum((0.9 + -var62552[14] @ 1.0) / 0.9, 0.0)\n0.0 <= maximum((var62552[14] @ 1.0 + -0.1) / 0.9, 0.0) , because the following subexpressions are not:\n|--  0.0 <= maximum((var62552[14] @ 1.0 + -0.1) / 0.9, 0.0)\n0.0 <= maximum((0.9 + -var62552[15] @ 1.0) / 0.9, 0.0) , because the following subexpressions are not:\n|--  0.0 <= maximum((0.9 + -var62552[15] @ 1.0) / 0.9, 0.0)\n0.0 <= maximum((var62552[15] @ 1.0 + -0.1) / 0.9, 0.0) , because the following subexpressions are not:\n|--  0.0 <= maximum((var62552[15] @ 1.0 + -0.1) / 0.9, 0.0)\n0.0 <= maximum((0.9 + -var62552[16] @ 1.0) / 0.9, 0.0) , because the following subexpressions are not:\n|--  0.0 <= maximum((0.9 + -var62552[16] @ 1.0) / 0.9, 0.0)\n0.0 <= maximum((var62552[16] @ 1.0 + -0.1) / 0.9, 0.0) , because the following subexpressions are not:\n|--  0.0 <= maximum((var62552[16] @ 1.0 + -0.1) / 0.9, 0.0)\n0.0 <= maximum((0.9 + -var62552[17] @ 1.0) / 0.9, 0.0) , because the following subexpressions are not:\n|--  0.0 <= maximum((0.9 + -var62552[17] @ 1.0) / 0.9, 0.0)\n0.0 <= maximum((var62552[17] @ 1.0 + -0.1) / 0.9, 0.0) , because the following subexpressions are not:\n|--  0.0 <= maximum((var62552[17] @ 1.0 + -0.1) / 0.9, 0.0)\n0.0 <= maximum((0.9 + -var62552[18] @ 1.0) / 0.9, 0.0) , because the following subexpressions are not:\n|--  0.0 <= maximum((0.9 + -var62552[18] @ 1.0) / 0.9, 0.0)\n0.0 <= maximum((var62552[18] @ 1.0 + -0.1) / 0.9, 0.0) , because the following subexpressions are not:\n|--  0.0 <= maximum((var62552[18] @ 1.0 + -0.1) / 0.9, 0.0)\n0.0 <= maximum((0.9 + -var62552[19] @ 1.0) / 0.9, 0.0) , because the following subexpressions are not:\n|--  0.0 <= maximum((0.9 + -var62552[19] @ 1.0) / 0.9, 0.0)\n0.0 <= maximum((var62552[19] @ 1.0 + -0.1) / 0.9, 0.0) , because the following subexpressions are not:\n|--  0.0 <= maximum((var62552[19] @ 1.0 + -0.1) / 0.9, 0.0)\n0.0 <= maximum((0.9 + -var62552[20] @ 1.0) / 0.9, 0.0) , because the following subexpressions are not:\n|--  0.0 <= maximum((0.9 + -var62552[20] @ 1.0) / 0.9, 0.0)\n0.0 <= maximum((var62552[20] @ 1.0 + -0.1) / 0.9, 0.0) , because the following subexpressions are not:\n|--  0.0 <= maximum((var62552[20] @ 1.0 + -0.1) / 0.9, 0.0)\n0.0 <= maximum((0.9 + -var62552[21] @ 1.0) / 0.9, 0.0) , because the following subexpressions are not:\n|--  0.0 <= maximum((0.9 + -var62552[21] @ 1.0) / 0.9, 0.0)\n0.0 <= maximum((var62552[21] @ 1.0 + -0.1) / 0.9, 0.0) , because the following subexpressions are not:\n|--  0.0 <= maximum((var62552[21] @ 1.0 + -0.1) / 0.9, 0.0)\n0.0 <= maximum((0.9 + -var62552[22] @ 1.0) / 0.9, 0.0) , because the following subexpressions are not:\n|--  0.0 <= maximum((0.9 + -var62552[22] @ 1.0) / 0.9, 0.0)\n0.0 <= maximum((var62552[22] @ 1.0 + -0.1) / 0.9, 0.0) , because the following subexpressions are not:\n|--  0.0 <= maximum((var62552[22] @ 1.0 + -0.1) / 0.9, 0.0)\n0.0 <= maximum((0.9 + -var62552[23] @ 1.0) / 0.9, 0.0) , because the following subexpressions are not:\n|--  0.0 <= maximum((0.9 + -var62552[23] @ 1.0) / 0.9, 0.0)\n0.0 <= maximum((var62552[23] @ 1.0 + -0.1) / 0.9, 0.0) , because the following subexpressions are not:\n|--  0.0 <= maximum((var62552[23] @ 1.0 + -0.1) / 0.9, 0.0)\nHowever, the problem does follow DQCP rules. Consider calling solve() with `qcp=True`."
     ]
    }
   ],
   "source": [
    "battery = cvxpy.Variable(n+1)\n",
    "action = cvxpy.Variable(n)\n",
    "consumption = cvxpy.Variable(n)\n",
    "\n",
    "constraints = []\n",
    "# Battery\n",
    "\n",
    "constraints.append(battery[0] == battery_params[\"soc_min\"])\n",
    "\n",
    "for i in range(n+1):\n",
    "    constraints.append(battery[i] <= battery_params[\"soc_max\"])\n",
    "    constraints.append(battery[i] >= battery_params[\"soc_min\"])\n",
    "\n",
    "\n",
    "# Action / Batteryn't\n",
    "\n",
    "for i in range(n):\n",
    "    constraints.append(action[i] <= 1)\n",
    "    constraints.append(action[i] >= -1)\n",
    "\n",
    "# Transition\n",
    "\n",
    "obj = 0\n",
    "\n",
    "for i in range(n):\n",
    "\n",
    "    # Get the battery constraints\n",
    "\n",
    "    # p_charge, p_discharge, _ = real_battery.check_battery_constraints(power_rate=action[i])\n",
    "\n",
    "    # real_battery.apply_action(p_charge=p_charge, p_discharge=p_discharge)\n",
    "\n",
    "    # p_charge = p_charge.item()\n",
    "    # p_discharge = p_discharge.item()\n",
    "\n",
    "    capacity_to_charge = cvxpy.maximum(\n",
    "        (battery_params[\"soc_max\"] * battery_params[\"capacity\"] - battery[i] * battery_params[\"capacity\"]) / battery_params[\"efficiency\"],\n",
    "        0\n",
    "    )\n",
    "\n",
    "    capacity_to_discharge = cvxpy.maximum(\n",
    "        (battery[i] * battery_params[\"capacity\"] - battery_params[\"soc_min\"] * battery_params[\"capacity\"]) / battery_params[\"efficiency\"],\n",
    "        0\n",
    "    )\n",
    "\n",
    "    # p_charge = cvxpy.maximum(action[i], 0)\n",
    "    # p_discharge = cvxpy.maximum(-action[i], 0)\n",
    "    p_charge = 0\n",
    "    p_discharge = 0\n",
    "    \n",
    "    constraints.append(p_charge <= capacity_to_charge)\n",
    "    constraints.append(p_discharge <= capacity_to_discharge)\n",
    "\n",
    "    constraints.append(consumption[i] == base_demand[i]-base_pv[i] + p_charge + p_discharge)\n",
    "    obj += cvxpy.maximum(consumption[i] * (price_s[i] + emission[i]),0) \n",
    "    obj += cvxpy.maximum(-consumption[i] * price_b[i],0)  \n",
    "\n",
    "\n",
    "objective = cvxpy.Minimize(obj)\n",
    "prob = cvxpy.Problem(objective, constraints)\n",
    "res = prob.solve()\n",
    "\n",
    "res, battery.value, action.value"
   ]
  },
  {
   "cell_type": "markdown",
   "id": "369f149f",
   "metadata": {},
   "source": [
    "### Real dataset"
   ]
  },
  {
   "cell_type": "code",
   "execution_count": 47,
   "id": "a53982ed",
   "metadata": {},
   "outputs": [
    {
     "data": {
      "text/plain": [
       "(0.855431155773072,\n",
       " array([0.1       , 0.40852198, 0.47973789, 0.50411047, 0.53223491,\n",
       "        0.61301837, 0.9       , 0.8582515 , 0.22036464, 0.1       ,\n",
       "        0.24436358, 0.36342561, 0.51372866, 0.66327171, 0.78990254,\n",
       "        0.9       , 0.70843913, 0.26658067, 0.1       , 0.40107527,\n",
       "        0.46417861, 0.46771514, 0.47094213, 0.332708  , 0.1       ]),\n",
       " array([ 0.30852198,  0.0712159 ,  0.02437259,  0.02812444,  0.08078347,\n",
       "         0.28698163, -0.0417485 , -0.63788686, -0.12036464,  0.14436358,\n",
       "         0.11906203,  0.15030305,  0.14954305,  0.12663083,  0.11009746,\n",
       "        -0.19156087, -0.44185845, -0.16658067,  0.30107527,  0.06310335,\n",
       "         0.00353652,  0.00322699, -0.13823413, -0.232708  ]))"
      ]
     },
     "execution_count": 47,
     "metadata": {},
     "output_type": "execute_result"
    }
   ],
   "source": [
    "battery = cvxpy.Variable(n+1)\n",
    "action = cvxpy.Variable(n)\n",
    "consumption = cvxpy.Variable(n)\n",
    "\n",
    "constraints = []\n",
    "# Battery\n",
    "\n",
    "constraints.append(battery[0] == battery_params[\"soc_min\"])\n",
    "\n",
    "for i in range(n+1):\n",
    "    constraints.append(battery[i] <= battery_params[\"soc_max\"])\n",
    "    constraints.append(battery[i] >= battery_params[\"soc_min\"])\n",
    "\n",
    "\n",
    "# Action / Batteryn't\n",
    "\n",
    "for i in range(n):\n",
    "    constraints.append(action[i] <= 1)\n",
    "    constraints.append(action[i] >= -1)\n",
    "\n",
    "\n",
    "# Transition\n",
    "\n",
    "obj = 0\n",
    "\n",
    "for i in range(n):\n",
    "    \n",
    "    constraints.append(action[i] <= battery_params[\"p_charge_max\"])\n",
    "    constraints.append(action[i] <= battery_params[\"p_discharge_max\"])\n",
    "    constraints.append(battery[i+1] == battery[i] + action[i])\n",
    "\n",
    "    constraints.append(consumption[i] == demand[i]-pv[i] + action[i])\n",
    "\n",
    "\n",
    "    obj += cvxpy.maximum(consumption[i] * (price_s[i] + emission[i]),0) \n",
    "    obj += cvxpy.maximum(-consumption[i] * price_b[i],0)  \n",
    "\n",
    "\n",
    "objective = cvxpy.Minimize(obj)\n",
    "prob = cvxpy.Problem(objective, constraints)\n",
    "res = prob.solve()\n",
    "\n",
    "res, battery.value, action.value"
   ]
  },
  {
   "cell_type": "markdown",
   "id": "fe4d27c5",
   "metadata": {},
   "source": [
    "### Test Dataset"
   ]
  },
  {
   "cell_type": "code",
   "execution_count": null,
   "id": "deb67b33",
   "metadata": {},
   "outputs": [],
   "source": [
    "n = 4\n",
    "d = np.random.rand(n)\n",
    "g = np.random.rand(n)*0.5\n",
    "pb = np.random.rand(n)\n",
    "ps = pb/4"
   ]
  },
  {
   "cell_type": "code",
   "execution_count": null,
   "id": "aa6c6dd9",
   "metadata": {},
   "outputs": [
    {
     "data": {
      "text/plain": [
       "(0.769357835608137,\n",
       " array([1.13622974e-14, 3.00000000e-01, 6.00000000e-01, 1.14580415e-01,\n",
       "        1.65161251e-12]),\n",
       " array([ 0.3       ,  0.3       , -0.48541958, -0.11458041]))"
      ]
     },
     "execution_count": 30,
     "metadata": {},
     "output_type": "execute_result"
    }
   ],
   "source": [
    "\n",
    "battery = cvxpy.Variable(n+1)\n",
    "action = cvxpy.Variable(n)\n",
    "consumption = cvxpy.Variable(n)\n",
    "\n",
    "\n",
    "constraints = []\n",
    "for i in range(n+1):\n",
    "    constraints.append(battery[i] <= 1)\n",
    "    constraints.append(battery[i] >= 0)\n",
    "constraints.append(battery[0] == 0)\n",
    "\n",
    "for i in range(n):\n",
    "    constraints.append(action[i] <= .3)\n",
    "    constraints.append(action[i] >= -1)\n",
    "    \n",
    "\n",
    "obj = 0\n",
    "for i in range(n):\n",
    "    constraints.append(battery[i+1] == battery[i] + action[i]  )\n",
    "\n",
    "    constraints.append(consumption[i] == d[i]-g[i] + action[i] )\n",
    "\n",
    "\n",
    "    obj += cvxpy.maximum(consumption[i]* pb[i],0) \n",
    "    obj += cvxpy.maximum(-consumption[i]*ps[i],0)  \n",
    "\n",
    "\n",
    "objective = cvxpy.Minimize(obj)\n",
    "prob = cvxpy.Problem(objective, constraints)\n",
    "res = prob.solve()\n",
    "\n",
    "res, battery.value, action.value"
   ]
  },
  {
   "cell_type": "code",
   "execution_count": null,
   "id": "86c45c89",
   "metadata": {},
   "outputs": [],
   "source": [
    "\n",
    "\n",
    "x_hat = cvxpy.Variable(A.shape[1])\n",
    "objective = cvxpy.Minimize(cvxpy.norm(x_hat, 1))\n",
    "    constraints = [A * x_hat == y]\n",
    "    prob = cvxpy.Problem(objective, constraints)\n",
    "    prob.solve()\n",
    "    return np.squeeze(np.array(x_hat.value)), (prob.value, prob.status)"
   ]
  },
  {
   "cell_type": "code",
   "execution_count": null,
   "id": "6e236ff1",
   "metadata": {},
   "outputs": [],
   "source": []
  }
 ],
 "metadata": {
  "kernelspec": {
   "display_name": "Python 3.8.13",
   "language": "python",
   "name": "python3"
  },
  "language_info": {
   "codemirror_mode": {
    "name": "ipython",
    "version": 3
   },
   "file_extension": ".py",
   "mimetype": "text/x-python",
   "name": "python",
   "nbconvert_exporter": "python",
   "pygments_lexer": "ipython3",
   "version": "3.8.13"
  },
  "vscode": {
   "interpreter": {
    "hash": "1827cf66144a2c1f348066c2a856561a82b18ee5003c9c48b938b073ad04e659"
   }
  }
 },
 "nbformat": 4,
 "nbformat_minor": 5
}
