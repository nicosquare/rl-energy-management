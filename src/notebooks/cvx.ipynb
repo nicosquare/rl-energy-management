{
 "cells": [
  {
   "cell_type": "code",
   "execution_count": 1,
   "id": "8566b5e9",
   "metadata": {},
   "outputs": [
    {
     "name": "stderr",
     "output_type": "stream",
     "text": [
      "/home/roberto.guillen/.conda/envs/bcte/lib/python3.8/site-packages/tqdm/auto.py:22: TqdmWarning: IProgress not found. Please update jupyter and ipywidgets. See https://ipywidgets.readthedocs.io/en/stable/user_install.html\n",
      "  from .autonotebook import tqdm as notebook_tqdm\n"
     ]
    }
   ],
   "source": [
    "import cvxpy\n",
    "from matplotlib import pyplot as plt\n",
    "import numpy as np\n",
    "from src.components.synthetic_house import SyntheticHouse\n",
    "from src.components.synthetic_microgrid import SyntheticMicrogrid\n",
    "from src.environments.simple_microgrid import SimpleMicrogrid\n",
    "\n",
    "from src.components.battery import Battery, BatteryParameters\n",
    "from src.utils.tools import set_all_seeds, load_config"
   ]
  },
  {
   "cell_type": "markdown",
   "id": "7c4c9877",
   "metadata": {},
   "source": [
    "# Microgrid"
   ]
  },
  {
   "cell_type": "markdown",
   "id": "db71568f",
   "metadata": {},
   "source": [
    "## Functions"
   ]
  },
  {
   "cell_type": "code",
   "execution_count": 2,
   "id": "947dff61",
   "metadata": {},
   "outputs": [],
   "source": [
    "def solver(house: SyntheticHouse, n: int = 24):\n",
    "\n",
    "    battery = cvxpy.Variable(n+1)\n",
    "    action = cvxpy.Variable(n)\n",
    "    consumption = cvxpy.Variable(n)\n",
    "\n",
    "    constraints = []\n",
    "\n",
    "    # Battery\n",
    "        # Starts in 0.1\n",
    "    constraints.append(battery[0] == house.battery.soc_min)\n",
    "        # Max and min batteries\n",
    "    for i in range(n+1):\n",
    "        constraints.append(battery[i] <= house.battery.soc_max)\n",
    "        constraints.append(battery[i] >= house.battery.soc_min)\n",
    "\n",
    "\n",
    "    # Action / Batteryn't\n",
    "\n",
    "    for i in range(n):\n",
    "        constraints.append(action[i] <= 1)\n",
    "        constraints.append(action[i] >= -1)\n",
    "\n",
    "\n",
    "    # Transition\n",
    "    obj = 0\n",
    "\n",
    "    for i in range(n):\n",
    "        \n",
    "        constraints.append(action[i] <= house.battery.p_charge_max)\n",
    "        constraints.append(action[i] <= house.battery.p_discharge_max)\n",
    "        # Update battery\n",
    "        constraints.append(battery[i+1] == battery[i] + action[i] * house.battery.efficiency)\n",
    "        # Update net \n",
    "        constraints.append(consumption[i] == house.demand[i]-house.pv_gen[i] + action[i] * house.battery.efficiency)\n",
    "\n",
    "\n",
    "        obj += cvxpy.maximum(consumption[i] * (house.price[i] + house.emission[i]),0) \n",
    "        obj += cvxpy.maximum(-consumption[i] * house.price[i] * house.grid_sell_rate,0)  \n",
    "\n",
    "\n",
    "    objective = cvxpy.Minimize(obj)\n",
    "    prob = cvxpy.Problem(objective, constraints)\n",
    "    res = prob.solve()\n",
    "\n",
    "    return res, battery.value, action.value"
   ]
  },
  {
   "cell_type": "code",
   "execution_count": 22,
   "id": "44da1023",
   "metadata": {},
   "outputs": [],
   "source": [
    "def get_all_actions(env: SimpleMicrogrid, mode : str = 'train') -> np.ndarray:\n",
    "    # Set mode, train, eval, test\n",
    "    env.mg.change_mode(mode)\n",
    "\n",
    "    # Create arrays to hold score, battery SOC and Action for all houses\n",
    "    rewards, battery_values, action_values = [],[],[]\n",
    "    \n",
    "    # Same for all houses\n",
    "    for house in env.mg.houses:\n",
    "        reward, batt, action = solver(house)\n",
    "        \n",
    "        rewards.append(reward)\n",
    "        battery_values.append(batt)\n",
    "        action_values.append(action)\n",
    "    battery_values = np.array(battery_values)\n",
    "    action_values = np.array(action_values)\n",
    "    rewards = np.array(rewards)\n",
    "\n",
    "    return rewards, battery_values, action_values\n",
    "    # print(\"Mean\", scores.mean(), \"\\n Scores\",rewards)    "
   ]
  },
  {
   "cell_type": "code",
   "execution_count": 23,
   "id": "ee440819",
   "metadata": {},
   "outputs": [],
   "source": [
    "def loop_env(env: SimpleMicrogrid, action_values: np.ndarray, mode : str = 'train') -> np.ndarray:\n",
    "    done = 0\n",
    "    env.mg.change_mode(mode)\n",
    "\n",
    "    env.reset()\n",
    "\n",
    "    # Cycle the entire episode with already computed actions by solver\n",
    "    while not done:\n",
    "        time_step = env.mg.current_step\n",
    "        _,_,done,_ = env.step(action_values[:,time_step])\n",
    "        time_step += 1\n",
    "\n",
    "    # Calculate Score with actions\n",
    "    return env.mg.get_houses_metrics() # output price, emissions "
   ]
  },
  {
   "cell_type": "markdown",
   "id": "915fcdeb",
   "metadata": {},
   "source": [
    "## Run this"
   ]
  },
  {
   "cell_type": "code",
   "execution_count": 24,
   "id": "58e7d8a0",
   "metadata": {},
   "outputs": [],
   "source": [
    "set_all_seeds(0)\n",
    "# create environment,m save array of houses\n",
    "config = load_config(\"zero_mg\")\n",
    "env = SimpleMicrogrid(config=config['env'])\n",
    "\n",
    "# Train\n",
    "mode = 'train'\n",
    "rewards, battery_values, action_values = get_all_actions(env, mode)\n",
    "train_metrics = loop_env(env, action_values, mode)\n",
    "\n",
    "# Eval\n",
    "mode = 'eval'\n",
    "rewards, battery_values, action_values = get_all_actions(env, mode)\n",
    "eval_metrics = loop_env(env, action_values, mode)\n",
    "\n",
    "# Test\n",
    "mode = 'test'\n",
    "rewards, battery_values, action_values = get_all_actions(env, mode)\n",
    "test_metrics = loop_env(env, action_values, mode)\n"
   ]
  },
  {
   "cell_type": "code",
   "execution_count": 26,
   "id": "32ea61c1",
   "metadata": {},
   "outputs": [
    {
     "data": {
      "text/plain": [
       "((array([-0.09929886, -0.16271739, -0.04808466, -0.15198558,  0.03388161,\n",
       "          0.03724827]),\n",
       "  array([-0.23935303, -0.31534628, -0.13570712, -0.28165016, -0.0298125 ,\n",
       "          0.00033534])),\n",
       " (array([-0.18073769, -0.13861451, -0.13705395,  0.01801452, -0.08770782,\n",
       "          0.02134148]),\n",
       "  array([-0.35173296, -0.27818922, -0.25554218, -0.02177083, -0.17006995,\n",
       "         -0.02798345])),\n",
       " (array([-0.17577385, -0.25198997, -0.18895732,  0.04679109, -0.04659103,\n",
       "          0.03022902,  0.00812369, -0.0376431 ,  0.06172703, -0.03975418]),\n",
       "  array([-3.22765870e-01, -4.61615321e-01, -3.43667000e-01, -2.69293021e-04,\n",
       "         -1.39544784e-01, -6.55449237e-03, -6.60324787e-02, -7.36377648e-02,\n",
       "          8.35868715e-03, -7.45623736e-02])))"
      ]
     },
     "execution_count": 26,
     "metadata": {},
     "output_type": "execute_result"
    }
   ],
   "source": [
    "train_metrics, eval_metrics, test_metrics"
   ]
  },
  {
   "cell_type": "markdown",
   "id": "a74027c9",
   "metadata": {},
   "source": [
    "## Train"
   ]
  },
  {
   "cell_type": "code",
   "execution_count": 16,
   "id": "7a2cb8dd",
   "metadata": {},
   "outputs": [
    {
     "name": "stdout",
     "output_type": "stream",
     "text": [
      "Mean 1.0271841323703481 \n",
      " Scores [0.99668626 1.62052129 1.42979519 1.29279424 0.48693118 0.33637664]\n"
     ]
    },
    {
     "data": {
      "text/plain": [
       "-0.06636514094694872"
      ]
     },
     "execution_count": 16,
     "metadata": {},
     "output_type": "execute_result"
    }
   ],
   "source": [
    "# Create arrays to hold score, battery SOC and Action for all houses\n",
    "scores, battery_values, action_values = [],[],[]\n",
    " \n",
    "# Same for all houses\n",
    "for house in env.mg.houses:\n",
    "    score, batt, action = solver(house)\n",
    "    scores.append(score)\n",
    "    battery_values.append(batt)\n",
    "    action_values.append(action)\n",
    "battery_values = np.array(battery_values)\n",
    "action_values = np.array(action_values)\n",
    "scores = np.array(scores)\n",
    "print(\"Mean\", scores.mean(), \"\\n Scores\",scores)\n",
    "\n",
    "metrics = loop_env(env, action_values)\n",
    "metrics[0].mean()"
   ]
  },
  {
   "cell_type": "markdown",
   "id": "01f5a540",
   "metadata": {},
   "source": [
    "## Eval"
   ]
  },
  {
   "cell_type": "code",
   "execution_count": 19,
   "id": "8de012b2",
   "metadata": {},
   "outputs": [
    {
     "name": "stdout",
     "output_type": "stream",
     "text": [
      "Mean 0.8785728684997188 \n",
      " Scores [1.21527128 1.15445464 1.63444597 0.31410258 0.60907768 0.34408506]\n"
     ]
    },
    {
     "data": {
      "text/plain": [
       "-0.08411612353662445"
      ]
     },
     "execution_count": 19,
     "metadata": {},
     "output_type": "execute_result"
    }
   ],
   "source": [
    "set_all_seeds(0)\n",
    "env.mg.change_mode('eval')\n",
    "\n",
    "# Create arrays to hold score, battery SOC and Action for all houses\n",
    "scores, battery_values, action_values = [],[],[]\n",
    " \n",
    "\n",
    "# Same for all houses\n",
    "for house in env.mg.houses:\n",
    "    score, batt, action = solver(house)\n",
    "    scores.append(score)\n",
    "    battery_values.append(batt)\n",
    "    action_values.append(action)\n",
    "battery_values = np.array(battery_values)\n",
    "action_values = np.array(action_values)\n",
    "scores = np.array(scores)\n",
    "print(\"Mean\", scores.mean(), \"\\n Scores\",scores)\n",
    "\n",
    "metrics = loop_env(env, action_values)\n",
    "metrics[0].mean()"
   ]
  },
  {
   "cell_type": "markdown",
   "id": "4a57b29e",
   "metadata": {},
   "source": [
    "## Test"
   ]
  },
  {
   "cell_type": "code",
   "execution_count": 20,
   "id": "dafa8783",
   "metadata": {},
   "outputs": [
    {
     "name": "stdout",
     "output_type": "stream",
     "text": [
      "Mean 1.655768645368282 \n",
      " Scores [2.52973792 4.27896408 3.16027049 0.24285223 0.84557628 0.60987541\n",
      " 0.42697884 1.61554766 0.33510372 2.51277981]\n"
     ]
    },
    {
     "data": {
      "text/plain": [
       "-0.06044315681587431"
      ]
     },
     "execution_count": 20,
     "metadata": {},
     "output_type": "execute_result"
    }
   ],
   "source": [
    "set_all_seeds(0)\n",
    "env.mg.change_mode('test')\n",
    "\n",
    "# Create arrays to hold score, battery SOC and Action for all houses\n",
    "scores, battery_values, action_values = [],[],[]\n",
    " \n",
    "\n",
    "# Same for all houses\n",
    "for house in env.mg.houses:\n",
    "    score, batt, action = solver(house)\n",
    "    scores.append(score)\n",
    "    battery_values.append(batt)\n",
    "    action_values.append(action)\n",
    "battery_values = np.array(battery_values)\n",
    "action_values = np.array(action_values)\n",
    "scores = np.array(scores)\n",
    "print(\"Mean\", scores.mean(), \"\\n Scores\",scores)\n",
    "\n",
    "metrics = loop_env(env, action_values)\n",
    "metrics[0].mean()"
   ]
  },
  {
   "cell_type": "markdown",
   "id": "0b6c8079",
   "metadata": {},
   "source": [
    "# House"
   ]
  },
  {
   "cell_type": "markdown",
   "id": "9964ec6b",
   "metadata": {},
   "source": []
  },
  {
   "cell_type": "markdown",
   "id": "f254f4b2",
   "metadata": {},
   "source": [
    "### Set env vars"
   ]
  },
  {
   "cell_type": "code",
   "execution_count": 47,
   "id": "5e8bfc33",
   "metadata": {},
   "outputs": [],
   "source": [
    "set_all_seeds(0)\n",
    "\n",
    "# Same env obs as test simple env\n",
    "\n",
    "config = load_config(\"c_a2c\")\n",
    "config = config['train']\n",
    "\n",
    "mg = SyntheticHouse(config=config['env'])\n",
    "demand = mg.demand\n",
    "pv = mg.pv_gen\n",
    "price_s = mg.price\n",
    "emission = mg.emission\n",
    "price_b = price_s / 4"
   ]
  },
  {
   "cell_type": "code",
   "execution_count": 48,
   "id": "93ed3ffd",
   "metadata": {},
   "outputs": [
    {
     "data": {
      "text/plain": [
       "0.8200000000000001"
      ]
     },
     "execution_count": 48,
     "metadata": {},
     "output_type": "execute_result"
    }
   ],
   "source": [
    "battery_params = {\n",
    "    \"soc_0\": 0.1,\n",
    "    \"soc_max\":0.9,\n",
    "    \"soc_min\":0.1,\n",
    "    \"p_charge_max\":0.8,\n",
    "    \"p_discharge_max\":0.8,\n",
    "    \"efficiency\":0.9,\n",
    "    \"capacity\":1,\n",
    "    \"sell_price\":0.0,\n",
    "    \"buy_price\":0.0\n",
    "    \n",
    "}\n",
    "\n",
    "real_battery = Battery(random_soc_0=False, params = BatteryParameters(battery_params))\n",
    "\n",
    "p_charge, p_discharge, _ = real_battery.check_battery_constraints(power_rate=0.8)\n",
    "real_battery.apply_action(p_charge=p_charge, p_discharge=p_discharge)\n",
    "\n",
    "real_battery.soc.item()\n",
    "\n",
    "# battery.reset()"
   ]
  },
  {
   "cell_type": "markdown",
   "id": "20802d69",
   "metadata": {},
   "source": [
    "### Adv battery calc (not working)"
   ]
  },
  {
   "cell_type": "code",
   "execution_count": 49,
   "id": "3f080ddb",
   "metadata": {},
   "outputs": [
    {
     "ename": "NameError",
     "evalue": "name 'n' is not defined",
     "output_type": "error",
     "traceback": [
      "\u001b[0;31m---------------------------------------------------------------------------\u001b[0m",
      "\u001b[0;31mNameError\u001b[0m                                 Traceback (most recent call last)",
      "Cell \u001b[0;32mIn [49], line 2\u001b[0m\n\u001b[1;32m      1\u001b[0m set_all_seeds(\u001b[39m0\u001b[39m)\n\u001b[0;32m----> 2\u001b[0m battery \u001b[39m=\u001b[39m cvxpy\u001b[39m.\u001b[39mVariable(n\u001b[39m+\u001b[39m\u001b[39m1\u001b[39m)\n\u001b[1;32m      3\u001b[0m action \u001b[39m=\u001b[39m cvxpy\u001b[39m.\u001b[39mVariable(n)\n\u001b[1;32m      4\u001b[0m consumption \u001b[39m=\u001b[39m cvxpy\u001b[39m.\u001b[39mVariable(n)\n",
      "\u001b[0;31mNameError\u001b[0m: name 'n' is not defined"
     ]
    }
   ],
   "source": [
    "set_all_seeds(0)\n",
    "battery = cvxpy.Variable(n+1)\n",
    "action = cvxpy.Variable(n)\n",
    "consumption = cvxpy.Variable(n)\n",
    "\n",
    "constraints = []\n",
    "# Battery\n",
    "    # Starts in 0.1\n",
    "constraints.append(battery[0] == battery_params[\"soc_min\"])\n",
    "    # Max and min batteries\n",
    "for i in range(n+1):\n",
    "    constraints.append(battery[i] <= battery_params[\"soc_max\"])\n",
    "    constraints.append(battery[i] >= battery_params[\"soc_min\"])\n",
    "\n",
    "\n",
    "# Action / Batteryn't\n",
    "# for i in range(n):\n",
    "#     constraints.append(action[i] <= 0.9)\n",
    "#     constraints.append(action[i] >= -0.9)\n",
    "\n",
    "# Transition\n",
    "obj = 0\n",
    "\n",
    "for i in range(n):\n",
    "    # Max and min battery charge \n",
    "    constraints.append(action[i] <= battery_params[\"p_charge_max\"])\n",
    "    constraints.append(action[i] <= battery_params[\"p_discharge_max\"])\n",
    "    # Update battery SOC\n",
    "    # self.soc = self.soc + (p_charge * self.efficiency - p_discharge / self.efficiency) / self.capacity\n",
    "\n",
    "    constraints.append(battery[i+1] == battery[i] + ((action[i] * battery_params[\"efficiency\"])/battery_params[\"efficiency\"])/battery_params[\"capacity\"] )\n",
    "    # Update net \n",
    "    constraints.append(consumption[i] == demand[i]-pv[i] + action[i] * battery_params[\"efficiency\"])\n",
    "\n",
    "\n",
    "    obj += cvxpy.maximum(consumption[i] * (price_s[i] + emission[i]),0) \n",
    "    obj += cvxpy.maximum(-consumption[i] * price_b[i],0)  \n",
    "\n",
    "\n",
    "objective = cvxpy.Minimize(obj)\n",
    "prob = cvxpy.Problem(objective, constraints)\n",
    "res = prob.solve()\n",
    "\n",
    "res, battery.value, action.value, consumption.value, price_s"
   ]
  },
  {
   "cell_type": "markdown",
   "id": "369f149f",
   "metadata": {},
   "source": [
    "### Real dataset"
   ]
  },
  {
   "cell_type": "code",
   "execution_count": null,
   "id": "a53982ed",
   "metadata": {},
   "outputs": [],
   "source": [
    "n = 24\n",
    "\n",
    "battery = cvxpy.Variable(n+1)\n",
    "action = cvxpy.Variable(n)\n",
    "consumption = cvxpy.Variable(n)\n",
    "\n",
    "constraints = []\n",
    "# Battery\n",
    "    # Starts in 0.1\n",
    "constraints.append(battery[0] == battery_params[\"soc_min\"])\n",
    "    # Max and min batteries\n",
    "for i in range(n+1):\n",
    "    constraints.append(battery[i] <= battery_params[\"soc_max\"])\n",
    "    constraints.append(battery[i] >= battery_params[\"soc_min\"])\n",
    "\n",
    "\n",
    "# Action / Batteryn't\n",
    "\n",
    "for i in range(n):\n",
    "    constraints.append(action[i] <= 1)\n",
    "    constraints.append(action[i] >= -1)\n",
    "\n",
    "\n",
    "# Transition\n",
    "obj = 0\n",
    "\n",
    "for i in range(n):\n",
    "    \n",
    "    constraints.append(action[i] <= battery_params[\"p_charge_max\"])\n",
    "    constraints.append(action[i] <= battery_params[\"p_discharge_max\"])\n",
    "    # Update battery\n",
    "    constraints.append(battery[i+1] == battery[i] + action[i] * battery_params[\"efficiency\"])\n",
    "    # Update net \n",
    "    constraints.append(consumption[i] == demand[i]-pv[i] + action[i] * battery_params[\"efficiency\"])\n",
    "\n",
    "\n",
    "    obj += cvxpy.maximum(consumption[i] * (price_s[i] + emission[i]),0) \n",
    "    obj += cvxpy.maximum(-consumption[i] * price_b[i],0)  \n",
    "\n",
    "\n",
    "objective = cvxpy.Minimize(obj)\n",
    "prob = cvxpy.Problem(objective, constraints)\n",
    "res = prob.solve()\n",
    "\n",
    "res, battery.value, action.value"
   ]
  },
  {
   "cell_type": "markdown",
   "id": "fe4d27c5",
   "metadata": {},
   "source": [
    "### Test Dataset"
   ]
  },
  {
   "cell_type": "code",
   "execution_count": null,
   "id": "deb67b33",
   "metadata": {},
   "outputs": [],
   "source": [
    "n = 4\n",
    "d = np.random.rand(n)\n",
    "g = np.random.rand(n)*0.5\n",
    "pb = np.random.rand(n)\n",
    "ps = pb/4"
   ]
  },
  {
   "cell_type": "code",
   "execution_count": null,
   "id": "aa6c6dd9",
   "metadata": {},
   "outputs": [],
   "source": [
    "\n",
    "battery = cvxpy.Variable(n+1)\n",
    "action = cvxpy.Variable(n)\n",
    "consumption = cvxpy.Variable(n)\n",
    "\n",
    "\n",
    "constraints = []\n",
    "for i in range(n+1):\n",
    "    constraints.append(battery[i] <= 1)\n",
    "    constraints.append(battery[i] >= 0)\n",
    "constraints.append(battery[0] == 0)\n",
    "\n",
    "for i in range(n):\n",
    "    constraints.append(action[i] <= .3)\n",
    "    constraints.append(action[i] >= -1)\n",
    "    \n",
    "\n",
    "obj = 0\n",
    "for i in range(n):\n",
    "    constraints.append(battery[i+1] == battery[i] + action[i]  )\n",
    "\n",
    "    constraints.append(consumption[i] == d[i]-g[i] + action[i] )\n",
    "\n",
    "\n",
    "    obj += cvxpy.maximum(consumption[i]* pb[i],0) \n",
    "    obj += cvxpy.maximum(-consumption[i]*ps[i],0)  \n",
    "\n",
    "\n",
    "objective = cvxpy.Minimize(obj)\n",
    "prob = cvxpy.Problem(objective, constraints)\n",
    "res = prob.solve()\n",
    "\n",
    "res, battery.value, action.value"
   ]
  }
 ],
 "metadata": {
  "kernelspec": {
   "display_name": "Python 3.8.13 ('bcte')",
   "language": "python",
   "name": "python3"
  },
  "language_info": {
   "codemirror_mode": {
    "name": "ipython",
    "version": 3
   },
   "file_extension": ".py",
   "mimetype": "text/x-python",
   "name": "python",
   "nbconvert_exporter": "python",
   "pygments_lexer": "ipython3",
   "version": "3.8.13"
  },
  "vscode": {
   "interpreter": {
    "hash": "4360e16d43ac692103fa28bcc8d0bd7c33534b35175524cb6d3ea499dda18b7b"
   }
  }
 },
 "nbformat": 4,
 "nbformat_minor": 5
}
