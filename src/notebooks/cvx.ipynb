{
 "cells": [
  {
   "cell_type": "code",
   "execution_count": 1,
   "id": "8566b5e9",
   "metadata": {},
   "outputs": [],
   "source": [
    "import cvxpy\n",
    "from matplotlib import pyplot as plt\n",
    "import numpy as np\n",
    "from src.components.synthetic_house import SyntheticHouse\n",
    "from src.components.synthetic_microgrid import SyntheticMicrogrid\n",
    "from src.environments.simple_microgrid import SimpleMicrogrid\n",
    "from src.rl.a2c.d_simple_microgrid import Agent\n",
    "from src.components.battery import Battery, BatteryParameters\n",
    "from src.utils.tools import set_all_seeds, load_config"
   ]
  },
  {
   "cell_type": "markdown",
   "id": "7c4c9877",
   "metadata": {},
   "source": [
    "# Microgrid"
   ]
  },
  {
   "cell_type": "markdown",
   "id": "db71568f",
   "metadata": {},
   "source": [
    "## Functions"
   ]
  },
  {
   "cell_type": "code",
   "execution_count": 2,
   "id": "947dff61",
   "metadata": {},
   "outputs": [],
   "source": [
    "def solver(house: SyntheticHouse, n: int = 24):\n",
    "\n",
    "    battery = cvxpy.Variable(n+1)\n",
    "    action = cvxpy.Variable(n)\n",
    "    consumption = cvxpy.Variable(n)\n",
    "\n",
    "    constraints = []\n",
    "\n",
    "    # Battery\n",
    "        # Starts in 0.1\n",
    "    constraints.append(battery[0] == house.battery.soc_min)\n",
    "        # Max and min batteries\n",
    "    for i in range(n+1):\n",
    "        constraints.append(battery[i] <= house.battery.soc_max)\n",
    "        constraints.append(battery[i] >= house.battery.soc_min)\n",
    "\n",
    "\n",
    "    # Action / Batteryn't\n",
    "\n",
    "    for i in range(n):\n",
    "        constraints.append(action[i] <= 1)\n",
    "        constraints.append(action[i] >= -1)\n",
    "\n",
    "\n",
    "    # Transition\n",
    "    obj = 0\n",
    "\n",
    "    for i in range(n):\n",
    "        \n",
    "        constraints.append(action[i] <= house.battery.p_charge_max)\n",
    "        constraints.append(action[i] <= house.battery.p_discharge_max)\n",
    "        # Update battery\n",
    "        constraints.append(battery[i+1] == battery[i] + action[i] * house.battery.efficiency)\n",
    "        # Update net \n",
    "        constraints.append(consumption[i] == house.demand[i]-house.pv_gen[i] + action[i] * house.battery.efficiency)\n",
    "\n",
    "\n",
    "        obj += cvxpy.maximum(consumption[i] * (house.price[i] + house.emission[i]),0) \n",
    "        obj += cvxpy.maximum(-consumption[i] * house.price[i] * house.grid_sell_rate,0)  \n",
    "\n",
    "\n",
    "    objective = cvxpy.Minimize(obj)\n",
    "    prob = cvxpy.Problem(objective, constraints)\n",
    "    res = prob.solve()\n",
    "\n",
    "    return res, battery.value, action.value"
   ]
  },
  {
   "cell_type": "code",
   "execution_count": 3,
   "id": "44da1023",
   "metadata": {},
   "outputs": [],
   "source": [
    "def get_all_actions(env: SimpleMicrogrid, mode : str = 'train') -> np.ndarray:\n",
    "    # Set mode, train, eval, test\n",
    "    env.mg.change_mode(mode)\n",
    "\n",
    "    # Create arrays to hold score, battery SOC and Action for all houses\n",
    "    rewards, battery_values, action_values = [],[],[]\n",
    "    \n",
    "    # Same for all houses\n",
    "    for house in env.mg.houses:\n",
    "        reward, batt, action = solver(house)\n",
    "        \n",
    "        rewards.append(reward)\n",
    "        battery_values.append(batt)\n",
    "        action_values.append(action)\n",
    "    battery_values = np.array(battery_values)\n",
    "    action_values = np.array(action_values)\n",
    "    rewards = np.array(rewards)\n",
    "\n",
    "    return rewards, battery_values, action_values\n",
    "    # print(\"Mean\", scores.mean(), \"\\n Scores\",rewards)    "
   ]
  },
  {
   "cell_type": "code",
   "execution_count": 4,
   "id": "ee440819",
   "metadata": {},
   "outputs": [],
   "source": [
    "def loop_env(env: SimpleMicrogrid, action_values: np.ndarray, mode : str = 'train') -> np.ndarray:\n",
    "    done = 0\n",
    "    env.mg.change_mode(mode)\n",
    "\n",
    "    env.reset()\n",
    "\n",
    "    # Cycle the entire episode with already computed actions by solver\n",
    "    while not done:\n",
    "        time_step = env.mg.current_step\n",
    "        _,_,done,_ = env.step(action_values[:,time_step])\n",
    "        time_step += 1\n",
    "\n",
    "    # Calculate Score with actions\n",
    "    return env.mg.get_houses_metrics() # output price, emissions "
   ]
  },
  {
   "cell_type": "markdown",
   "id": "915fcdeb",
   "metadata": {},
   "source": [
    "## Run this"
   ]
  },
  {
   "cell_type": "code",
   "execution_count": 5,
   "id": "58e7d8a0",
   "metadata": {},
   "outputs": [
    {
     "name": "stdout",
     "output_type": "stream",
     "text": [
      "1.002944419206317\n",
      "train  (array([-0.09929886, -0.16271739, -0.04808466, -0.15198558,  0.03388161,\n",
      "        0.03724827]), array([-0.23935303, -0.31534628, -0.13570712, -0.28165016, -0.0298125 ,\n",
      "        0.00033534]))\n",
      "1.2039406659431469\n",
      "2.5285933769868048\n"
     ]
    }
   ],
   "source": [
    "set_all_seeds(0)\n",
    "# create environment,m save array of houses\n",
    "config = load_config(\"zero_mg\")\n",
    "env = SimpleMicrogrid(config=config['env'])\n",
    "\n",
    "# Train\n",
    "mode = 'train'\n",
    "rewards, battery_values, action_values = get_all_actions(env, mode)\n",
    "train_metrics = loop_env(env, action_values, mode)\n",
    "print(rewards[0].mean())\n",
    "print('train ', train_metrics)\n",
    "\n",
    "# Eval\n",
    "mode = 'eval'\n",
    "rewards, battery_values, action_values = get_all_actions(env, mode)\n",
    "print(rewards[0].mean())\n",
    "eval_metrics = loop_env(env, action_values, mode)\n",
    "\n",
    "# Test\n",
    "mode = 'test'\n",
    "rewards, battery_values, action_values = get_all_actions(env, mode)\n",
    "print(rewards[0].mean())\n",
    "test_metrics = loop_env(env, action_values, mode)\n"
   ]
  },
  {
   "cell_type": "code",
   "execution_count": 6,
   "id": "d12b3b54",
   "metadata": {},
   "outputs": [
    {
     "data": {
      "text/plain": [
       "array([-0.06515943, -0.16692229])"
      ]
     },
     "execution_count": 6,
     "metadata": {},
     "output_type": "execute_result"
    }
   ],
   "source": [
    "np.array(train_metrics).mean(axis=1)"
   ]
  },
  {
   "cell_type": "code",
   "execution_count": 7,
   "id": "32ea61c1",
   "metadata": {},
   "outputs": [
    {
     "data": {
      "text/plain": [
       "((array([-0.09929886, -0.16271739, -0.04808466, -0.15198558,  0.03388161,\n",
       "          0.03724827]),\n",
       "  array([-0.23935303, -0.31534628, -0.13570712, -0.28165016, -0.0298125 ,\n",
       "          0.00033534])),\n",
       " (array([-0.18073769, -0.13861451, -0.13705395,  0.01801452, -0.08770782,\n",
       "          0.02134148]),\n",
       "  array([-0.35173296, -0.27818922, -0.25554218, -0.02177083, -0.17006995,\n",
       "         -0.02798345])),\n",
       " (array([-0.17577385, -0.25198997, -0.18895732,  0.04679109, -0.04659103,\n",
       "          0.03022902,  0.00812369, -0.0376431 ,  0.06172703, -0.03975418]),\n",
       "  array([-3.22765870e-01, -4.61615321e-01, -3.43667000e-01, -2.69293017e-04,\n",
       "         -1.39544784e-01, -6.55449237e-03, -6.60324787e-02, -7.36377648e-02,\n",
       "          8.35868715e-03, -7.45623736e-02])))"
      ]
     },
     "execution_count": 7,
     "metadata": {},
     "output_type": "execute_result"
    }
   ],
   "source": [
    "train_metrics, eval_metrics, test_metrics"
   ]
  },
  {
   "cell_type": "code",
   "execution_count": 8,
   "id": "4860e912",
   "metadata": {},
   "outputs": [
    {
     "name": "stdout",
     "output_type": "stream",
     "text": [
      "Running on CPU\n"
     ]
    },
    {
     "name": "stderr",
     "output_type": "stream",
     "text": [
      "  0%|          | 0/9000 [00:00<?, ?it/s]"
     ]
    },
    {
     "name": "stdout",
     "output_type": "stream",
     "text": [
      "rollout_avg_reward: -1.5971952405591034 \n",
      "actor_loss: -69.0007095336914 \n",
      "critic_loss: 1.0374846458435059 \n",
      "avg_action: 0.005869391025641051 \n"
     ]
    },
    {
     "name": "stderr",
     "output_type": "stream",
     "text": [
      "  0%|          | 1/9000 [00:01<2:54:43,  1.17s/it]"
     ]
    },
    {
     "name": "stdout",
     "output_type": "stream",
     "text": [
      "Saving model on step: 0\n"
     ]
    },
    {
     "name": "stderr",
     "output_type": "stream",
     "text": [
      "  0%|          | 21/9000 [00:18<2:10:35,  1.15it/s]\n"
     ]
    },
    {
     "ename": "KeyboardInterrupt",
     "evalue": "",
     "output_type": "error",
     "traceback": [
      "\u001b[0;31m---------------------------------------------------------------------------\u001b[0m",
      "\u001b[0;31mKeyboardInterrupt\u001b[0m                         Traceback (most recent call last)",
      "Cell \u001b[0;32mIn [8], line 9\u001b[0m\n\u001b[1;32m      6\u001b[0m my_env \u001b[39m=\u001b[39m SimpleMicrogrid(config\u001b[39m=\u001b[39mconfig[\u001b[39m'\u001b[39m\u001b[39menv\u001b[39m\u001b[39m'\u001b[39m])\n\u001b[1;32m      8\u001b[0m agent \u001b[39m=\u001b[39m Agent(env\u001b[39m=\u001b[39mmy_env, config \u001b[39m=\u001b[39m config)\n\u001b[0;32m----> 9\u001b[0m results_ag \u001b[39m=\u001b[39m agent\u001b[39m.\u001b[39;49mtrain()\n\u001b[1;32m     10\u001b[0m results_ag[\u001b[39m'\u001b[39m\u001b[39mtest\u001b[39m\u001b[39m'\u001b[39m] \u001b[39m=\u001b[39m agent\u001b[39m.\u001b[39mtest()\n\u001b[1;32m     11\u001b[0m agent\u001b[39m.\u001b[39mwdb_logger\u001b[39m.\u001b[39mfinish()\n",
      "File \u001b[0;32m~/Documents/BCTE/rl-energy-management/src/rl/a2c/d_simple_microgrid.py:376\u001b[0m, in \u001b[0;36mAgent.train\u001b[0;34m(self)\u001b[0m\n\u001b[1;32m    370\u001b[0m train_price_metric, train_emission_metric, eval_price_metric, eval_emission_metric \u001b[39m=\u001b[39m [], [], [], []\n\u001b[1;32m    372\u001b[0m \u001b[39mfor\u001b[39;00m step \u001b[39min\u001b[39;00m tqdm(\u001b[39mrange\u001b[39m(\u001b[39mself\u001b[39m\u001b[39m.\u001b[39mcurrent_step, \u001b[39mself\u001b[39m\u001b[39m.\u001b[39mtraining_steps)):\n\u001b[1;32m    373\u001b[0m \n\u001b[1;32m    374\u001b[0m     \u001b[39m# Perform rollouts and sample trajectories\u001b[39;00m\n\u001b[0;32m--> 376\u001b[0m     states, rewards, log_probs, actions_hist \u001b[39m=\u001b[39m \u001b[39mself\u001b[39;49m\u001b[39m.\u001b[39;49mrollout()\n\u001b[1;32m    378\u001b[0m     \u001b[39m# Append the trajectories to the arrays\u001b[39;00m\n\u001b[1;32m    380\u001b[0m     all_states\u001b[39m.\u001b[39mappend(states)\n",
      "File \u001b[0;32m~/Documents/BCTE/rl-energy-management/src/rl/a2c/d_simple_microgrid.py:321\u001b[0m, in \u001b[0;36mAgent.rollout\u001b[0;34m(self)\u001b[0m\n\u001b[1;32m    317\u001b[0m states\u001b[39m.\u001b[39mappend(state)\n\u001b[1;32m    319\u001b[0m \u001b[39m# Perform action and pass to next state\u001b[39;00m\n\u001b[0;32m--> 321\u001b[0m actions, log_prob \u001b[39m=\u001b[39m \u001b[39mself\u001b[39;49m\u001b[39m.\u001b[39;49mselect_action(tensor(state)\u001b[39m.\u001b[39;49mfloat()\u001b[39m.\u001b[39;49mto(\u001b[39mself\u001b[39;49m\u001b[39m.\u001b[39;49mdevice))\n\u001b[1;32m    323\u001b[0m state, reward, done, _ \u001b[39m=\u001b[39m \u001b[39mself\u001b[39m\u001b[39m.\u001b[39menv\u001b[39m.\u001b[39mstep(actions)\n\u001b[1;32m    325\u001b[0m \u001b[39mif\u001b[39;00m \u001b[39mself\u001b[39m\u001b[39m.\u001b[39mextended_observation:\n",
      "File \u001b[0;32m~/Documents/BCTE/rl-energy-management/src/rl/a2c/d_simple_microgrid.py:279\u001b[0m, in \u001b[0;36mAgent.select_action\u001b[0;34m(self, state)\u001b[0m\n\u001b[1;32m    277\u001b[0m \u001b[39mdef\u001b[39;00m \u001b[39mselect_action\u001b[39m(\u001b[39mself\u001b[39m, state: Tensor):\n\u001b[0;32m--> 279\u001b[0m     probs \u001b[39m=\u001b[39m \u001b[39mself\u001b[39;49m\u001b[39m.\u001b[39;49mactor(obs\u001b[39m=\u001b[39;49mstate, attr\u001b[39m=\u001b[39;49mtensor(\u001b[39mself\u001b[39;49m\u001b[39m.\u001b[39;49menv\u001b[39m.\u001b[39;49mhouses_attr, device\u001b[39m=\u001b[39;49m\u001b[39mself\u001b[39;49m\u001b[39m.\u001b[39;49mdevice)\u001b[39m.\u001b[39;49mfloat())\n\u001b[1;32m    281\u001b[0m     \u001b[39m# Define the distribution\u001b[39;00m\n\u001b[1;32m    283\u001b[0m     dist \u001b[39m=\u001b[39m Categorical(probs\u001b[39m=\u001b[39mprobs)\n",
      "File \u001b[0;32m~/.conda/envs/bcte/lib/python3.8/site-packages/torch/nn/modules/module.py:1130\u001b[0m, in \u001b[0;36mModule._call_impl\u001b[0;34m(self, *input, **kwargs)\u001b[0m\n\u001b[1;32m   1126\u001b[0m \u001b[39m# If we don't have any hooks, we want to skip the rest of the logic in\u001b[39;00m\n\u001b[1;32m   1127\u001b[0m \u001b[39m# this function, and just call forward.\u001b[39;00m\n\u001b[1;32m   1128\u001b[0m \u001b[39mif\u001b[39;00m \u001b[39mnot\u001b[39;00m (\u001b[39mself\u001b[39m\u001b[39m.\u001b[39m_backward_hooks \u001b[39mor\u001b[39;00m \u001b[39mself\u001b[39m\u001b[39m.\u001b[39m_forward_hooks \u001b[39mor\u001b[39;00m \u001b[39mself\u001b[39m\u001b[39m.\u001b[39m_forward_pre_hooks \u001b[39mor\u001b[39;00m _global_backward_hooks\n\u001b[1;32m   1129\u001b[0m         \u001b[39mor\u001b[39;00m _global_forward_hooks \u001b[39mor\u001b[39;00m _global_forward_pre_hooks):\n\u001b[0;32m-> 1130\u001b[0m     \u001b[39mreturn\u001b[39;00m forward_call(\u001b[39m*\u001b[39;49m\u001b[39minput\u001b[39;49m, \u001b[39m*\u001b[39;49m\u001b[39m*\u001b[39;49mkwargs)\n\u001b[1;32m   1131\u001b[0m \u001b[39m# Do not call functions when jit is used\u001b[39;00m\n\u001b[1;32m   1132\u001b[0m full_backward_hooks, non_full_backward_hooks \u001b[39m=\u001b[39m [], []\n",
      "File \u001b[0;32m~/Documents/BCTE/rl-energy-management/src/rl/a2c/d_simple_microgrid.py:47\u001b[0m, in \u001b[0;36mActor.forward\u001b[0;34m(self, obs, attr)\u001b[0m\n\u001b[1;32m     44\u001b[0m \u001b[39mdef\u001b[39;00m \u001b[39mforward\u001b[39m(\u001b[39mself\u001b[39m, obs, attr):\n\u001b[1;32m     46\u001b[0m     \u001b[39minput\u001b[39m \u001b[39m=\u001b[39m torch\u001b[39m.\u001b[39mcat([attr, obs], dim\u001b[39m=\u001b[39m\u001b[39m2\u001b[39m)\n\u001b[0;32m---> 47\u001b[0m     \u001b[39minput\u001b[39m \u001b[39m=\u001b[39m F\u001b[39m.\u001b[39mrelu(\u001b[39mself\u001b[39;49m\u001b[39m.\u001b[39;49minput(\u001b[39minput\u001b[39;49m))\n\u001b[1;32m     49\u001b[0m     output \u001b[39m=\u001b[39m F\u001b[39m.\u001b[39msoftmax(\u001b[39mself\u001b[39m\u001b[39m.\u001b[39moutput(\u001b[39minput\u001b[39m), dim\u001b[39m=\u001b[39m\u001b[39m2\u001b[39m)\n\u001b[1;32m     51\u001b[0m     \u001b[39mreturn\u001b[39;00m output\n",
      "File \u001b[0;32m~/.conda/envs/bcte/lib/python3.8/site-packages/torch/nn/modules/module.py:1130\u001b[0m, in \u001b[0;36mModule._call_impl\u001b[0;34m(self, *input, **kwargs)\u001b[0m\n\u001b[1;32m   1126\u001b[0m \u001b[39m# If we don't have any hooks, we want to skip the rest of the logic in\u001b[39;00m\n\u001b[1;32m   1127\u001b[0m \u001b[39m# this function, and just call forward.\u001b[39;00m\n\u001b[1;32m   1128\u001b[0m \u001b[39mif\u001b[39;00m \u001b[39mnot\u001b[39;00m (\u001b[39mself\u001b[39m\u001b[39m.\u001b[39m_backward_hooks \u001b[39mor\u001b[39;00m \u001b[39mself\u001b[39m\u001b[39m.\u001b[39m_forward_hooks \u001b[39mor\u001b[39;00m \u001b[39mself\u001b[39m\u001b[39m.\u001b[39m_forward_pre_hooks \u001b[39mor\u001b[39;00m _global_backward_hooks\n\u001b[1;32m   1129\u001b[0m         \u001b[39mor\u001b[39;00m _global_forward_hooks \u001b[39mor\u001b[39;00m _global_forward_pre_hooks):\n\u001b[0;32m-> 1130\u001b[0m     \u001b[39mreturn\u001b[39;00m forward_call(\u001b[39m*\u001b[39;49m\u001b[39minput\u001b[39;49m, \u001b[39m*\u001b[39;49m\u001b[39m*\u001b[39;49mkwargs)\n\u001b[1;32m   1131\u001b[0m \u001b[39m# Do not call functions when jit is used\u001b[39;00m\n\u001b[1;32m   1132\u001b[0m full_backward_hooks, non_full_backward_hooks \u001b[39m=\u001b[39m [], []\n",
      "File \u001b[0;32m~/.conda/envs/bcte/lib/python3.8/site-packages/torch/nn/modules/linear.py:114\u001b[0m, in \u001b[0;36mLinear.forward\u001b[0;34m(self, input)\u001b[0m\n\u001b[1;32m    113\u001b[0m \u001b[39mdef\u001b[39;00m \u001b[39mforward\u001b[39m(\u001b[39mself\u001b[39m, \u001b[39minput\u001b[39m: Tensor) \u001b[39m-\u001b[39m\u001b[39m>\u001b[39m Tensor:\n\u001b[0;32m--> 114\u001b[0m     \u001b[39mreturn\u001b[39;00m F\u001b[39m.\u001b[39;49mlinear(\u001b[39minput\u001b[39;49m, \u001b[39mself\u001b[39;49m\u001b[39m.\u001b[39;49mweight, \u001b[39mself\u001b[39;49m\u001b[39m.\u001b[39;49mbias)\n",
      "File \u001b[0;32m~/.conda/envs/bcte/lib/python3.8/traceback.py:193\u001b[0m, in \u001b[0;36mformat_stack\u001b[0;34m(f, limit)\u001b[0m\n\u001b[1;32m    189\u001b[0m         f \u001b[39m=\u001b[39m sys\u001b[39m.\u001b[39m_getframe()\u001b[39m.\u001b[39mf_back\n\u001b[1;32m    190\u001b[0m     print_list(extract_stack(f, limit\u001b[39m=\u001b[39mlimit), file\u001b[39m=\u001b[39mfile)\n\u001b[0;32m--> 193\u001b[0m \u001b[39mdef\u001b[39;00m \u001b[39mformat_stack\u001b[39m(f\u001b[39m=\u001b[39m\u001b[39mNone\u001b[39;00m, limit\u001b[39m=\u001b[39m\u001b[39mNone\u001b[39;00m):\n\u001b[1;32m    194\u001b[0m     \u001b[39m\"\"\"Shorthand for 'format_list(extract_stack(f, limit))'.\"\"\"\u001b[39;00m\n\u001b[1;32m    195\u001b[0m     \u001b[39mif\u001b[39;00m f \u001b[39mis\u001b[39;00m \u001b[39mNone\u001b[39;00m:\n",
      "\u001b[0;31mKeyboardInterrupt\u001b[0m: "
     ]
    }
   ],
   "source": [
    "set_all_seeds(0)\n",
    "\n",
    "model = \"d_a2c_mg\"\n",
    "config = load_config(model)\n",
    "config = config['train']\n",
    "my_env = SimpleMicrogrid(config=config['env'])\n",
    "\n",
    "agent = Agent(env=my_env, config = config)\n",
    "results_ag = agent.train()\n",
    "results_ag['test'] = agent.test()\n",
    "agent.wdb_logger.finish()"
   ]
  },
  {
   "cell_type": "markdown",
   "id": "0b6c8079",
   "metadata": {},
   "source": [
    "# House"
   ]
  },
  {
   "cell_type": "markdown",
   "id": "f254f4b2",
   "metadata": {},
   "source": [
    "### Set env vars"
   ]
  },
  {
   "cell_type": "code",
   "execution_count": null,
   "id": "5e8bfc33",
   "metadata": {},
   "outputs": [],
   "source": [
    "set_all_seeds(0)\n",
    "\n",
    "# Same env obs as test simple env\n",
    "\n",
    "config = load_config(\"c_a2c\")\n",
    "config = config['train']\n",
    "\n",
    "mg = SyntheticHouse(config=config['env'])\n",
    "demand = mg.demand\n",
    "pv = mg.pv_gen\n",
    "price_s = mg.price\n",
    "emission = mg.emission\n",
    "price_b = price_s / 4"
   ]
  },
  {
   "cell_type": "code",
   "execution_count": null,
   "id": "93ed3ffd",
   "metadata": {},
   "outputs": [],
   "source": [
    "battery_params = {\n",
    "    \"soc_0\": 0.1,\n",
    "    \"soc_max\":0.9,\n",
    "    \"soc_min\":0.1,\n",
    "    \"p_charge_max\":0.8,\n",
    "    \"p_discharge_max\":0.8,\n",
    "    \"efficiency\":0.9,\n",
    "    \"capacity\":1,\n",
    "    \"sell_price\":0.0,\n",
    "    \"buy_price\":0.0\n",
    "    \n",
    "}\n",
    "\n",
    "real_battery = Battery(random_soc_0=False, params = BatteryParameters(battery_params))\n",
    "\n",
    "p_charge, p_discharge, _ = real_battery.check_battery_constraints(power_rate=0.8)\n",
    "real_battery.apply_action(p_charge=p_charge, p_discharge=p_discharge)\n",
    "\n",
    "real_battery.soc.item()\n",
    "\n",
    "# battery.reset()"
   ]
  },
  {
   "cell_type": "markdown",
   "id": "20802d69",
   "metadata": {},
   "source": [
    "### Adv battery calc (not working)"
   ]
  },
  {
   "cell_type": "code",
   "execution_count": null,
   "id": "3f080ddb",
   "metadata": {},
   "outputs": [],
   "source": [
    "set_all_seeds(0)\n",
    "battery = cvxpy.Variable(n+1)\n",
    "action = cvxpy.Variable(n)\n",
    "consumption = cvxpy.Variable(n)\n",
    "\n",
    "constraints = []\n",
    "# Battery\n",
    "    # Starts in 0.1\n",
    "constraints.append(battery[0] == battery_params[\"soc_min\"])\n",
    "    # Max and min batteries\n",
    "for i in range(n+1):\n",
    "    constraints.append(battery[i] <= battery_params[\"soc_max\"])\n",
    "    constraints.append(battery[i] >= battery_params[\"soc_min\"])\n",
    "\n",
    "\n",
    "# Action / Batteryn't\n",
    "# for i in range(n):\n",
    "#     constraints.append(action[i] <= 0.9)\n",
    "#     constraints.append(action[i] >= -0.9)\n",
    "\n",
    "# Transition\n",
    "obj = 0\n",
    "\n",
    "for i in range(n):\n",
    "    # Max and min battery charge \n",
    "    constraints.append(action[i] <= battery_params[\"p_charge_max\"])\n",
    "    constraints.append(action[i] <= battery_params[\"p_discharge_max\"])\n",
    "    # Update battery SOC\n",
    "    # self.soc = self.soc + (p_charge * self.efficiency - p_discharge / self.efficiency) / self.capacity\n",
    "\n",
    "    constraints.append(battery[i+1] == battery[i] + ((action[i] * battery_params[\"efficiency\"])/battery_params[\"efficiency\"])/battery_params[\"capacity\"] )\n",
    "    # Update net \n",
    "    constraints.append(consumption[i] == demand[i]-pv[i] + action[i] * battery_params[\"efficiency\"])\n",
    "\n",
    "\n",
    "    obj += cvxpy.maximum(consumption[i] * (price_s[i] + emission[i]),0) \n",
    "    obj += cvxpy.maximum(-consumption[i] * price_b[i],0)  \n",
    "\n",
    "\n",
    "objective = cvxpy.Minimize(obj)\n",
    "prob = cvxpy.Problem(objective, constraints)\n",
    "res = prob.solve()\n",
    "\n",
    "res, battery.value, action.value, consumption.value, price_s"
   ]
  },
  {
   "cell_type": "markdown",
   "id": "369f149f",
   "metadata": {},
   "source": [
    "### Real dataset"
   ]
  },
  {
   "cell_type": "code",
   "execution_count": null,
   "id": "a53982ed",
   "metadata": {},
   "outputs": [],
   "source": [
    "n = 24\n",
    "\n",
    "battery = cvxpy.Variable(n+1)\n",
    "action = cvxpy.Variable(n)\n",
    "consumption = cvxpy.Variable(n)\n",
    "\n",
    "constraints = []\n",
    "# Battery\n",
    "    # Starts in 0.1\n",
    "constraints.append(battery[0] == battery_params[\"soc_min\"])\n",
    "    # Max and min batteries\n",
    "for i in range(n+1):\n",
    "    constraints.append(battery[i] <= battery_params[\"soc_max\"])\n",
    "    constraints.append(battery[i] >= battery_params[\"soc_min\"])\n",
    "\n",
    "\n",
    "# Action / Batteryn't\n",
    "\n",
    "for i in range(n):\n",
    "    constraints.append(action[i] <= 1)\n",
    "    constraints.append(action[i] >= -1)\n",
    "\n",
    "\n",
    "# Transition\n",
    "obj = 0\n",
    "\n",
    "for i in range(n):\n",
    "    \n",
    "    constraints.append(action[i] <= battery_params[\"p_charge_max\"])\n",
    "    constraints.append(action[i] <= battery_params[\"p_discharge_max\"])\n",
    "    # Update battery\n",
    "    constraints.append(battery[i+1] == battery[i] + action[i] * battery_params[\"efficiency\"])\n",
    "    # Update net \n",
    "    constraints.append(consumption[i] == demand[i]-pv[i] + action[i] * battery_params[\"efficiency\"])\n",
    "\n",
    "\n",
    "    obj += cvxpy.maximum(consumption[i] * (price_s[i] + emission[i]),0) \n",
    "    obj += cvxpy.maximum(-consumption[i] * price_b[i],0)  \n",
    "\n",
    "\n",
    "objective = cvxpy.Minimize(obj)\n",
    "prob = cvxpy.Problem(objective, constraints)\n",
    "res = prob.solve()\n",
    "\n",
    "res, battery.value, action.value"
   ]
  },
  {
   "cell_type": "markdown",
   "id": "fe4d27c5",
   "metadata": {},
   "source": [
    "### Test Dataset"
   ]
  },
  {
   "cell_type": "code",
   "execution_count": null,
   "id": "deb67b33",
   "metadata": {},
   "outputs": [],
   "source": [
    "n = 4\n",
    "d = np.random.rand(n)\n",
    "g = np.random.rand(n)*0.5\n",
    "pb = np.random.rand(n)\n",
    "ps = pb/4"
   ]
  },
  {
   "cell_type": "code",
   "execution_count": null,
   "id": "aa6c6dd9",
   "metadata": {},
   "outputs": [],
   "source": [
    "\n",
    "battery = cvxpy.Variable(n+1)\n",
    "action = cvxpy.Variable(n)\n",
    "consumption = cvxpy.Variable(n)\n",
    "\n",
    "\n",
    "constraints = []\n",
    "for i in range(n+1):\n",
    "    constraints.append(battery[i] <= 1)\n",
    "    constraints.append(battery[i] >= 0)\n",
    "constraints.append(battery[0] == 0)\n",
    "\n",
    "for i in range(n):\n",
    "    constraints.append(action[i] <= .3)\n",
    "    constraints.append(action[i] >= -1)\n",
    "    \n",
    "\n",
    "obj = 0\n",
    "for i in range(n):\n",
    "    constraints.append(battery[i+1] == battery[i] + action[i]  )\n",
    "\n",
    "    constraints.append(consumption[i] == d[i]-g[i] + action[i] )\n",
    "\n",
    "\n",
    "    obj += cvxpy.maximum(consumption[i]* pb[i],0) \n",
    "    obj += cvxpy.maximum(-consumption[i]*ps[i],0)  \n",
    "\n",
    "\n",
    "objective = cvxpy.Minimize(obj)\n",
    "prob = cvxpy.Problem(objective, constraints)\n",
    "res = prob.solve()\n",
    "\n",
    "res, battery.value, action.value"
   ]
  }
 ],
 "metadata": {
  "kernelspec": {
   "display_name": "Python 3.8.13 ('bcte')",
   "language": "python",
   "name": "python3"
  },
  "language_info": {
   "codemirror_mode": {
    "name": "ipython",
    "version": 3
   },
   "file_extension": ".py",
   "mimetype": "text/x-python",
   "name": "python",
   "nbconvert_exporter": "python",
   "pygments_lexer": "ipython3",
   "version": "3.8.13"
  },
  "vscode": {
   "interpreter": {
    "hash": "4360e16d43ac692103fa28bcc8d0bd7c33534b35175524cb6d3ea499dda18b7b"
   }
  }
 },
 "nbformat": 4,
 "nbformat_minor": 5
}
