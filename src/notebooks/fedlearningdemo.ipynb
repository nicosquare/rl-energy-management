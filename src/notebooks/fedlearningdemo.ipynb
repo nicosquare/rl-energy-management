{
 "cells": [
  {
   "cell_type": "code",
   "execution_count": null,
   "metadata": {},
   "outputs": [],
   "source": [
    "\n",
    "import numpy as np\n",
    "\n",
    "import torch\n",
    "import torch.nn as nn\n",
    "from torch.functional import F\n",
    "\n",
    "from matplotlib import pyplot as plt\n",
    "from src.environments.simple_microgrid import SimpleMicrogrid\n",
    "from src.utils.tools import set_all_seeds, load_config, plot_rollout\n",
    "torch.autograd.set_detect_anomaly(True)"
   ]
  },
  {
   "cell_type": "code",
   "execution_count": null,
   "metadata": {},
   "outputs": [],
   "source": [
    "set_all_seeds(0)\n",
    "config = load_config(\"d_a2c_fed\")\n",
    "if torch.backends.mps.is_available() and  torch.backends.mps.is_built():\n",
    "    torch.device(\"mps\")\n",
    "    print(\"MPS enabled\")\n",
    "elif torch.cuda.is_available() and config['agent']['enable_gpu'] :\n",
    "    print(\"MPS not available, using CUDA\")\n",
    "    device = torch.device(\"cuda:0\")\n",
    "else:\n",
    "    print(\"MPS and CUDA not available, using CPU\")\n",
    "    device = torch.device(\"cpu\")\n",
    "env = SimpleMicrogrid(config=config['env'])\n"
   ]
  },
  {
   "cell_type": "code",
   "execution_count": null,
   "metadata": {},
   "outputs": [],
   "source": [
    "'''\n",
    "    Agent definitions\n",
    "'''\n",
    "\n",
    "class Actor(nn.Module):\n",
    "\n",
    "    def __init__(self, obs_dim, attr_dim, act_dim, hidden_dim=64) -> None:\n",
    "\n",
    "        super(Actor, self).__init__()\n",
    "\n",
    "        self.input = nn.Linear(obs_dim + attr_dim, hidden_dim)\n",
    "        self.output = nn.Linear(hidden_dim, act_dim)\n",
    "\n",
    "    def forward(self, obs, attr):\n",
    "\n",
    "        input = torch.cat([attr, obs], dim=2)\n",
    "        input = F.relu(self.input(input))\n",
    "\n",
    "        output = F.softmax(self.output(input), dim=2)\n",
    "\n",
    "        return output\n",
    "\n",
    "class Critic(nn.Module):\n",
    "\n",
    "    def __init__(self, obs_dim, attr_dim, hidden_dim=64) -> None:\n",
    "\n",
    "        super(Critic, self).__init__()\n",
    "\n",
    "        self.input = nn.Linear(obs_dim + attr_dim, hidden_dim)\n",
    "        self.output = nn.Linear(hidden_dim, 1)\n",
    "\n",
    "    def forward(self, obs, attr):\n",
    "\n",
    "        input = torch.cat([attr, obs], dim=3)\n",
    "\n",
    "        output = F.relu(self.input(input))\n",
    "\n",
    "        output = self.output(output)\n",
    "\n",
    "        return output"
   ]
  },
  {
   "cell_type": "code",
   "execution_count": null,
   "metadata": {},
   "outputs": [],
   "source": [
    "local_steps = 100\n"
   ]
  }
 ],
 "metadata": {
  "kernelspec": {
   "display_name": "bcte",
   "language": "python",
   "name": "python3"
  },
  "language_info": {
   "codemirror_mode": {
    "name": "ipython",
    "version": 3
   },
   "file_extension": ".py",
   "mimetype": "text/x-python",
   "name": "python",
   "nbconvert_exporter": "python",
   "pygments_lexer": "ipython3",
   "version": "3.8.16"
  },
  "vscode": {
   "interpreter": {
    "hash": "1827cf66144a2c1f348066c2a856561a82b18ee5003c9c48b938b073ad04e659"
   }
  }
 },
 "nbformat": 4,
 "nbformat_minor": 2
}
